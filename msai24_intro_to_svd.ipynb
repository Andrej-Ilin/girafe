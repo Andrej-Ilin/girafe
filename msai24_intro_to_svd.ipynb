{
  "cells": [
    {
      "cell_type": "markdown",
      "metadata": {
        "id": "2BRYDPHXH-cB"
      },
      "source": [
        "# **Introduction to SVD**\n",
        "\n",
        "It In this notebook, you will practice your understanding of SVD by applying it to several matrices and exploring the result."
      ]
    },
    {
      "cell_type": "markdown",
      "metadata": {
        "id": "1aq2p8Yrrfnr"
      },
      "source": [
        "## **SVD: Theoretical Reminder**\n",
        "\n",
        "Singular Value Decomposition (SVD) is a highlight of Linear Algebra. It allows one to decompose *any* rectangular matrix $A$ into a product of three matrices, namely **orthogonal** matrices $U$ and $V$ and a **diagonal** matrix $\\Sigma$ as follows:\n",
        "\n",
        "<center>$A = U\\Sigma V^T$</center>\n",
        "\n",
        "Such a decomposition makes subsequent computations easier and is important for many applications.\n",
        "\n",
        "The diagonal values $\\sigma_{i}$ in the $\\Sigma$ matrix are known as the singular values of the original matrix $A$, while the columns of the $U$ and $V$ matrices, $u_i$'s and $v_i$'s, are left anf right singular vectors of $A$ respectively.\n",
        "\n",
        "From the decomposition above it follows that the following relationship should hold between the singular values and the singular vectors:\n",
        "\n",
        "<center>$Av_i = \\sigma_i u_i$</center>\n",
        "\n",
        "But how do we find those $u$'s, $v$'s and $\\sigma$'s?\n",
        "\n",
        "It turns out that the left singular vectors $u_1, ..., u_r$ are actually the eigenvectors of $AA^T$ that correspond to its non-zero eigenvalues, while the right singular vectors $v1, ..., v_r$ are the eigenvectors corresponding to the non-zero eigenvaluesof $A^TA$.\n",
        "\n",
        "Finally, $A$'s singular values  $\\sigma_i^2$ are the non-zero eigenvalues of both $A^TA$ and $AA^T$ *(see the lecture notes for a proof of why they are the same)*."
      ]
    },
    {
      "cell_type": "markdown",
      "metadata": {
        "id": "UnD-NLb-rEiw"
      },
      "source": [
        "## **SVD in Action: Toy Example**\n",
        "\n",
        "Luckily, SVD is already implemented in Python, and you will not need re-implement it from scratch ourselves.\n",
        "\n",
        "Instead, let's define a toy matrix, decompose it with a built-in function and carefully explore the result.\n",
        "\n",
        "**Run the cells below one-by-one, accasionally filling in the code where needed.**"
      ]
    },
    {
      "cell_type": "code",
      "execution_count": 1,
      "metadata": {
        "id": "40sayyDkLsGA"
      },
      "outputs": [],
      "source": [
        "import numpy as np"
      ]
    },
    {
      "cell_type": "code",
      "execution_count": 2,
      "metadata": {
        "id": "8xuYCxSJOZm0"
      },
      "outputs": [],
      "source": [
        "A = np.array([[3,4,3],\n",
        "              [1,2,3]])"
      ]
    },
    {
      "cell_type": "markdown",
      "metadata": {
        "id": "yAZ3U4jALyHs"
      },
      "source": [
        "Now, apply SVD to the data we've just loaded.\n",
        "\n",
        "*Hint:* The SVD can be calculated by calling the [$\\texttt{svd()}$](https://numpy.org/doc/stable/reference/generated/numpy.linalg.svd.html) function from the $\\texttt{linalg}$ module of the $\\texttt{numpy}$ library.\n",
        "\n"
      ]
    },
    {
      "cell_type": "code",
      "execution_count": 19,
      "metadata": {
        "id": "S5UqKrmyMMxk"
      },
      "outputs": [],
      "source": [
        "# Your code here\n",
        "U, S, V = np.linalg.svd(A, full_matrices=False)"
      ]
    },
    {
      "cell_type": "markdown",
      "metadata": {
        "id": "ul6JSX-hrr7p"
      },
      "source": [
        "Let's explore the output of the function.\n",
        "\n",
        "How many singular values does $A$ have?"
      ]
    },
    {
      "cell_type": "code",
      "execution_count": 20,
      "metadata": {
        "id": "ZBgW2R4HsEUA"
      },
      "outputs": [
        {
          "data": {
            "text/plain": [
              "2"
            ]
          },
          "execution_count": 20,
          "metadata": {},
          "output_type": "execute_result"
        }
      ],
      "source": [
        "# Your code here\n",
        "len(S)"
      ]
    },
    {
      "cell_type": "markdown",
      "metadata": {
        "id": "VAhDs_XWsEi7"
      },
      "source": [
        "What are the dimensions of the matrices $U$ and $V$."
      ]
    },
    {
      "cell_type": "code",
      "execution_count": 21,
      "metadata": {
        "id": "OFSJXBBUOgut"
      },
      "outputs": [
        {
          "data": {
            "text/plain": [
              "((2, 2), (3, 3))"
            ]
          },
          "execution_count": 21,
          "metadata": {},
          "output_type": "execute_result"
        }
      ],
      "source": [
        "# Your code here\n",
        "U.shape, V.shape"
      ]
    },
    {
      "cell_type": "markdown",
      "metadata": {
        "id": "kq-YDacjMjrt"
      },
      "source": [
        "Now, double-check that the decomposition actually works, i.e. check that $A = U\\Sigma V^T$:"
      ]
    },
    {
      "cell_type": "code",
      "execution_count": 23,
      "metadata": {
        "id": "-xcSjtzqMv1K"
      },
      "outputs": [
        {
          "ename": "ValueError",
          "evalue": "shapes (2,) and (3,3) not aligned: 2 (dim 0) != 3 (dim 0)",
          "output_type": "error",
          "traceback": [
            "\u001b[0;31m---------------------------------------------------------------------------\u001b[0m",
            "\u001b[0;31mValueError\u001b[0m                                Traceback (most recent call last)",
            "Cell \u001b[0;32mIn[24], line 2\u001b[0m\n\u001b[1;32m      1\u001b[0m \u001b[38;5;66;03m# Your code here\u001b[39;00m\n\u001b[0;32m----> 2\u001b[0m np\u001b[38;5;241m.\u001b[39mallclose(A, \u001b[43mnp\u001b[49m\u001b[38;5;241;43m.\u001b[39;49m\u001b[43mdot\u001b[49m\u001b[43m(\u001b[49m\u001b[43mU\u001b[49m\u001b[43m \u001b[49m\u001b[38;5;241;43m@\u001b[39;49m\u001b[43m \u001b[49m\u001b[43mS\u001b[49m\u001b[43m,\u001b[49m\u001b[43m \u001b[49m\u001b[43mV\u001b[49m\u001b[38;5;241;43m.\u001b[39;49m\u001b[43mT\u001b[49m\u001b[43m)\u001b[49m) \u001b[38;5;66;03m# its taken from: numpy.linalg.svd examples\u001b[39;00m\n",
            "\u001b[0;31mValueError\u001b[0m: shapes (2,) and (3,3) not aligned: 2 (dim 0) != 3 (dim 0)"
          ]
        }
      ],
      "source": [
        "# Your code here\n",
        "np.allclose(A, np.dot(U * S, V.T)) # its taken from: numpy.linalg.svd examples"
      ]
    },
    {
      "cell_type": "markdown",
      "metadata": {
        "id": "D6wRxCz6M8i-"
      },
      "source": [
        "We've said before that the column vectors of the matrices $U$ and $V$ are the eigenvectors of $AA^T$ and $A^TA$ respectively, while $\\sigma_i^2$ are the corresponding eigenvalues. Double-check that that's indeed the case."
      ]
    },
    {
      "cell_type": "code",
      "execution_count": 10,
      "metadata": {
        "id": "9OJzyYc9NV0K"
      },
      "outputs": [
        {
          "ename": "ValueError",
          "evalue": "operands could not be broadcast together with shapes (3,3) (2,3) ",
          "output_type": "error",
          "traceback": [
            "\u001b[0;31m---------------------------------------------------------------------------\u001b[0m",
            "\u001b[0;31mValueError\u001b[0m                                Traceback (most recent call last)",
            "Cell \u001b[0;32mIn[10], line 13\u001b[0m\n\u001b[1;32m     11\u001b[0m \u001b[38;5;66;03m# Check that the eigenvectors match U and V (normalized)\u001b[39;00m\n\u001b[1;32m     12\u001b[0m np\u001b[38;5;241m.\u001b[39mallclose(np\u001b[38;5;241m.\u001b[39msort(eigenvectors_U, axis\u001b[38;5;241m=\u001b[39m\u001b[38;5;241m1\u001b[39m), U)\n\u001b[0;32m---> 13\u001b[0m \u001b[43mnp\u001b[49m\u001b[38;5;241;43m.\u001b[39;49m\u001b[43mallclose\u001b[49m\u001b[43m(\u001b[49m\u001b[43mnp\u001b[49m\u001b[38;5;241;43m.\u001b[39;49m\u001b[43msort\u001b[49m\u001b[43m(\u001b[49m\u001b[43meigenvectors_V\u001b[49m\u001b[43m,\u001b[49m\u001b[43m \u001b[49m\u001b[43maxis\u001b[49m\u001b[38;5;241;43m=\u001b[39;49m\u001b[38;5;241;43m1\u001b[39;49m\u001b[43m)\u001b[49m\u001b[43m,\u001b[49m\u001b[43m \u001b[49m\u001b[43mV\u001b[49m\u001b[43m)\u001b[49m\n",
            "File \u001b[0;32m~/PycharmProjects/Girafe/math/homework/.venv/lib/python3.12/site-packages/numpy/_core/numeric.py:2341\u001b[0m, in \u001b[0;36mallclose\u001b[0;34m(a, b, rtol, atol, equal_nan)\u001b[0m\n\u001b[1;32m   2253\u001b[0m \u001b[38;5;129m@array_function_dispatch\u001b[39m(_allclose_dispatcher)\n\u001b[1;32m   2254\u001b[0m \u001b[38;5;28;01mdef\u001b[39;00m \u001b[38;5;21mallclose\u001b[39m(a, b, rtol\u001b[38;5;241m=\u001b[39m\u001b[38;5;241m1.e-5\u001b[39m, atol\u001b[38;5;241m=\u001b[39m\u001b[38;5;241m1.e-8\u001b[39m, equal_nan\u001b[38;5;241m=\u001b[39m\u001b[38;5;28;01mFalse\u001b[39;00m):\n\u001b[1;32m   2255\u001b[0m \u001b[38;5;250m    \u001b[39m\u001b[38;5;124;03m\"\"\"\u001b[39;00m\n\u001b[1;32m   2256\u001b[0m \u001b[38;5;124;03m    Returns True if two arrays are element-wise equal within a tolerance.\u001b[39;00m\n\u001b[1;32m   2257\u001b[0m \n\u001b[0;32m   (...)\u001b[0m\n\u001b[1;32m   2339\u001b[0m \n\u001b[1;32m   2340\u001b[0m \u001b[38;5;124;03m    \"\"\"\u001b[39;00m\n\u001b[0;32m-> 2341\u001b[0m     res \u001b[38;5;241m=\u001b[39m \u001b[38;5;28mall\u001b[39m(\u001b[43misclose\u001b[49m\u001b[43m(\u001b[49m\u001b[43ma\u001b[49m\u001b[43m,\u001b[49m\u001b[43m \u001b[49m\u001b[43mb\u001b[49m\u001b[43m,\u001b[49m\u001b[43m \u001b[49m\u001b[43mrtol\u001b[49m\u001b[38;5;241;43m=\u001b[39;49m\u001b[43mrtol\u001b[49m\u001b[43m,\u001b[49m\u001b[43m \u001b[49m\u001b[43matol\u001b[49m\u001b[38;5;241;43m=\u001b[39;49m\u001b[43matol\u001b[49m\u001b[43m,\u001b[49m\u001b[43m \u001b[49m\u001b[43mequal_nan\u001b[49m\u001b[38;5;241;43m=\u001b[39;49m\u001b[43mequal_nan\u001b[49m\u001b[43m)\u001b[49m)\n\u001b[1;32m   2342\u001b[0m     \u001b[38;5;28;01mreturn\u001b[39;00m builtins\u001b[38;5;241m.\u001b[39mbool(res)\n",
            "File \u001b[0;32m~/PycharmProjects/Girafe/math/homework/.venv/lib/python3.12/site-packages/numpy/_core/numeric.py:2461\u001b[0m, in \u001b[0;36misclose\u001b[0;34m(a, b, rtol, atol, equal_nan)\u001b[0m\n\u001b[1;32m   2458\u001b[0m     y \u001b[38;5;241m=\u001b[39m \u001b[38;5;28mfloat\u001b[39m(y)\n\u001b[1;32m   2460\u001b[0m \u001b[38;5;28;01mwith\u001b[39;00m errstate(invalid\u001b[38;5;241m=\u001b[39m\u001b[38;5;124m'\u001b[39m\u001b[38;5;124mignore\u001b[39m\u001b[38;5;124m'\u001b[39m), _no_nep50_warning():\n\u001b[0;32m-> 2461\u001b[0m     result \u001b[38;5;241m=\u001b[39m (less_equal(\u001b[38;5;28mabs\u001b[39m(\u001b[43mx\u001b[49m\u001b[38;5;241;43m-\u001b[39;49m\u001b[43my\u001b[49m), atol \u001b[38;5;241m+\u001b[39m rtol \u001b[38;5;241m*\u001b[39m \u001b[38;5;28mabs\u001b[39m(y))\n\u001b[1;32m   2462\u001b[0m               \u001b[38;5;241m&\u001b[39m isfinite(y)\n\u001b[1;32m   2463\u001b[0m               \u001b[38;5;241m|\u001b[39m (x \u001b[38;5;241m==\u001b[39m y))\n\u001b[1;32m   2464\u001b[0m     \u001b[38;5;28;01mif\u001b[39;00m equal_nan:\n\u001b[1;32m   2465\u001b[0m         result \u001b[38;5;241m|\u001b[39m\u001b[38;5;241m=\u001b[39m isnan(x) \u001b[38;5;241m&\u001b[39m isnan(y)\n",
            "\u001b[0;31mValueError\u001b[0m: operands could not be broadcast together with shapes (3,3) (2,3) "
          ]
        }
      ],
      "source": [
        "# Your code here\n",
        "# Compute AA^T\n",
        "AAT = np.dot(A, A.T)\n",
        "\n",
        "# Compute A^TA\n",
        "ATA = np.dot(A.T, A)\n",
        "# Eigenvalues and eigenvectors\n",
        "eigenvalues_U, eigenvectors_U = np.linalg.eig(AAT)\n",
        "eigenvalues_V, eigenvectors_V = np.linalg.eig(ATA)\n",
        "\n",
        "# Check that the eigenvectors match U and V (normalized)\n",
        "np.allclose(np.sort(eigenvectors_U, axis=1), U)\n",
        "np.allclose(np.sort(eigenvectors_V, axis=1), V)\n",
        "\n"
      ]
    },
    {
      "cell_type": "code",
      "execution_count": 18,
      "metadata": {},
      "outputs": [
        {
          "data": {
            "text/plain": [
              "(array([[-0.52573111,  0.85065081],\n",
              "        [ 0.52573111,  0.85065081]]),\n",
              " array([[-0.85065081, -0.52573111],\n",
              "        [-0.52573111,  0.85065081]]))"
            ]
          },
          "execution_count": 18,
          "metadata": {},
          "output_type": "execute_result"
        }
      ],
      "source": [
        "np.sort(eigenvectors_U, axis=1), U"
      ]
    },
    {
      "cell_type": "code",
      "execution_count": 46,
      "metadata": {},
      "outputs": [
        {
          "data": {
            "text/plain": [
              "(array([[-0.85065081, -0.52573111],\n",
              "        [-0.52573111,  0.85065081]]),\n",
              " array([[34, 20],\n",
              "        [20, 14]]))"
            ]
          },
          "execution_count": 46,
          "metadata": {},
          "output_type": "execute_result"
        }
      ],
      "source": [
        "U, AAT"
      ]
    },
    {
      "cell_type": "markdown",
      "metadata": {
        "id": "sRU6YsUUNWHM"
      },
      "source": [
        "Double-chek that $U$ and $V$ are orthogonal matrices (e.g., show that $UU^T = U^TU = E$)"
      ]
    },
    {
      "cell_type": "code",
      "execution_count": null,
      "metadata": {
        "id": "HcW97v5iNlKW"
      },
      "outputs": [],
      "source": [
        "# Your code here\n"
      ]
    },
    {
      "cell_type": "markdown",
      "metadata": {
        "id": "B6zqrgFnNlcz"
      },
      "source": [
        "Finally, check that the relationship between the estimated singular vectors and singular values of $A$ is as follows: $Av_i = \\sigma_i u_i$."
      ]
    },
    {
      "cell_type": "code",
      "execution_count": null,
      "metadata": {
        "id": "9Jbz1p3TN0lR"
      },
      "outputs": [],
      "source": [
        "# Your code here\n"
      ]
    },
    {
      "cell_type": "markdown",
      "metadata": {
        "id": "O53cXo4HQWnZ"
      },
      "source": [
        "## **SVD on the Iris Dataset**\n",
        "\n",
        "Now, we'll apply SVD on the famous iris dataset.\n"
      ]
    },
    {
      "cell_type": "code",
      "execution_count": null,
      "metadata": {
        "id": "JQ5DFii-Vthv"
      },
      "outputs": [],
      "source": [
        "from sklearn.datasets import load_iris\n",
        "from sklearn.decomposition import TruncatedSVD\n",
        "\n",
        "iris = load_iris()\n",
        "A = iris.data"
      ]
    },
    {
      "cell_type": "markdown",
      "metadata": {
        "id": "MS3QE3sUs0M_"
      },
      "source": [
        "Let's take a look at the first 10 examples:"
      ]
    },
    {
      "cell_type": "code",
      "execution_count": null,
      "metadata": {
        "id": "Gkay03l9swdt"
      },
      "outputs": [],
      "source": [
        "A[:10]"
      ]
    },
    {
      "cell_type": "markdown",
      "metadata": {
        "id": "ucl1VuNQim3p"
      },
      "source": [
        "Now, apply SVD to the dataset:"
      ]
    },
    {
      "cell_type": "code",
      "execution_count": null,
      "metadata": {
        "id": "FVutRQa3V3o5"
      },
      "outputs": [],
      "source": [
        "# Your code here\n"
      ]
    },
    {
      "cell_type": "markdown",
      "metadata": {
        "id": "fanqHMboiqlS"
      },
      "source": [
        "Explore the dimensions of the matrices $U$ and $V$ and the number of singular values of the data matrix, $r$."
      ]
    },
    {
      "cell_type": "code",
      "execution_count": null,
      "metadata": {
        "id": "YRFzMTdOWpwQ"
      },
      "outputs": [],
      "source": [
        "# Your code here\n"
      ]
    },
    {
      "cell_type": "markdown",
      "metadata": {
        "id": "LZCT1r_CjoS2"
      },
      "source": [
        "\"Trim\" the matrices $U$ and $V$ returned by $\\texttt{np.svd()}$ to get rid of redundant dimensions.\n",
        "\n",
        "You should get $A_{m\\times n} = U_{m\\times r}\\Sigma_{r\\times r} V_{n\\times r}^T$, where $r$ is the number of singular values of the data matrix $A$."
      ]
    },
    {
      "cell_type": "code",
      "execution_count": null,
      "metadata": {
        "id": "70VucisnXb3c"
      },
      "outputs": [],
      "source": [
        "# Your code here\n"
      ]
    },
    {
      "cell_type": "markdown",
      "metadata": {
        "id": "kr4g0MG1tBvK"
      },
      "source": [
        "Imagine that we want to use only two factors in the latent representation of the data. How would the approximated data look like?"
      ]
    },
    {
      "cell_type": "code",
      "execution_count": null,
      "metadata": {
        "id": "lbrSMEgJkFk7"
      },
      "outputs": [],
      "source": [
        "# Your code here\n"
      ]
    }
  ],
  "metadata": {
    "colab": {
      "provenance": []
    },
    "kernelspec": {
      "display_name": "Python 3",
      "name": "python3"
    },
    "language_info": {
      "codemirror_mode": {
        "name": "ipython",
        "version": 3
      },
      "file_extension": ".py",
      "mimetype": "text/x-python",
      "name": "python",
      "nbconvert_exporter": "python",
      "pygments_lexer": "ipython3",
      "version": "3.12.3"
    }
  },
  "nbformat": 4,
  "nbformat_minor": 0
}
