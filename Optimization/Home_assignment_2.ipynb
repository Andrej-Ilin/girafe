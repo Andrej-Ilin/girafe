{
 "cells": [
  {
   "cell_type": "markdown",
   "metadata": {},
   "source": [
    "***In the tasks presented below derive the analytic expression of the requested objects. Do not\n",
    "forget to transform result in the vector form, i.e. the answer in the form “the k-th element of the\n",
    "gradient is ...” is not Ok. Please, derive the closed forms for the gradients.***"
   ]
  },
  {
   "cell_type": "markdown",
   "metadata": {},
   "source": [
    "1. (1.5 pts) Compute the gradients with respect to $ U \\in \\mathbb{R}^{n \\times k} $ and $ V \\in \\mathbb{R}^{k \\times n} $, $ k < n $, of the function\n",
    "$$\n",
    "J(U, V) = \\lambda \\| UV - Y \\|_F^2 + \\frac{\\lambda}{2} (\\| U \\|_F^2 + \\| V \\|_F^2),\n",
    "$$\n",
    "where $ \\lambda > 0 $ is a given number. Also, $ \\| A \\|_F = \\sqrt{\\sum_{i,j} a_{ij}^2} $ denotes the Frobenius norm of the matrix $ A = [a_{ij}] $."
   ]
  },
  {
   "cell_type": "markdown",
   "metadata": {},
   "source": [
    "**Step 1: Expand \\( J(U, V) \\)**\n",
    "\n",
    "The Frobenius norm squared can be expressed as:\n",
    "$$\n",
    "\\| UV - Y \\|_F^2 = \\text{Tr}((UV - Y)^T (UV - Y)).\n",
    "$$\n",
    "We can use the property of the trace:\n",
    "$$\n",
    "\\text{Tr}(AB) = \\text{Tr}(BA).\n",
    "$$\n",
    "\n",
    "**Step 2: Compute the gradients with respect to \\( U \\) and \\( V \\)**\n",
    "\n",
    "1. **Gradient with respect to \\( U \\)**:\n",
    "   $$\n",
    "   \\frac{\\partial}{\\partial U} \\| UV - Y \\|_F^2 = 2(UV - Y)V^T.\n",
    "   $$\n",
    "   The gradient of the regularization term is:\n",
    "   $$\n",
    "   \\frac{\\partial}{\\partial U} \\left( \\frac{\\lambda}{2} \\| U \\|_F^2 \\right) = \\lambda U.\n",
    "   $$\n",
    "   Therefore, the total gradient with respect to \\( U \\) is:\n",
    "   $$\n",
    "   \\nabla_U J(U, V) = 2(UV - Y)V^T + \\lambda U.\n",
    "   $$\n",
    "\n",
    "2. **Gradient with respect to \\( V \\)**:\n",
    "   $$\n",
    "   \\frac{\\partial}{\\partial V} \\| UV - Y \\|_F^2 = 2(UV - Y)^T U.\n",
    "   $$\n",
    "   The gradient of the regularization term with respect to \\( V \\) is:\n",
    "   $$\n",
    "   \\frac{\\partial}{\\partial V} \\left( \\frac{\\lambda}{2} \\| V \\|_F^2 \\right) = \\lambda V.\n",
    "   $$\n",
    "   Therefore, the total gradient with respect to \\( V \\) is:\n",
    "   $$\n",
    "   \\nabla_V J(U, V) = 2(UV - Y)^T U + \\lambda V.\n"
   ]
  },
  {
   "cell_type": "markdown",
   "metadata": {},
   "source": [
    "______________________________________________________________________________________________________________________________________________"
   ]
  },
  {
   "cell_type": "markdown",
   "metadata": {},
   "source": [
    "#### 2. (1 pt) Compute the gradient of the following function\n",
    "$$\n",
    "f(w) = \\sum_{i=1}^{m} \\left( \\log(1 + e^{-y_i w^T x_i}) \\right) + \\frac{1}{2} \\| w \\|_2^2,\n",
    "$$\n",
    "where $ x_i \\in \\mathbb{R}^n $, $ y_i \\in \\mathbb{R} $."
   ]
  },
  {
   "cell_type": "markdown",
   "metadata": {},
   "source": []
  }
 ],
 "metadata": {
  "language_info": {
   "name": "python"
  }
 },
 "nbformat": 4,
 "nbformat_minor": 2
}
