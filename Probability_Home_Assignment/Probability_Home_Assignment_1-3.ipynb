{
 "cells": [
  {
   "cell_type": "markdown",
   "metadata": {},
   "source": [
    "Problem 1. (2 points) Find the probability that in a class of n students, \n",
    "at least two share the\n",
    "same birthday. Use counting rules. Find a numerical answer for n = 50."
   ]
  },
  {
   "cell_type": "markdown",
   "metadata": {},
   "source": [
    "- We have 365 days in a year, so we can assighn disrinct birthday to n stuednts: 365 - first student, 364 - second student, 363 - third and etc. Thus, the number of favorable outcomes for n students with distinct birth-\n",
    "days is: 365 * 364 * 363 ×* . . . * (365 − n + 1). \n",
    "- Total number of possible ways = 365**n. \n",
    "- Probability that no two students share a birthday = 365 * 364 * 363 ×* . . . * (365 − n + 1)/365**n\n",
    "\n",
    "- Probability that at least two students share a birthday 1 -  365 * 364 * 363 ×* . . . * (365 − n + 1)/365**n"
   ]
  },
  {
   "cell_type": "code",
   "execution_count": 1,
   "metadata": {},
   "outputs": [
    {
     "name": "stdout",
     "output_type": "stream",
     "text": [
      "Probability that at least two students share a birthday 0.9703735795779884\n"
     ]
    }
   ],
   "source": [
    "from math import factorial\n",
    "n=50\n",
    "no_two_birthday = factorial(365) / (factorial(365 - n) * (365 ** n))\n",
    "# print(\"Probability that no two students share a birthday\",  no_two_birthday)\n",
    "\n",
    "# The probability that at least two students share a birthday is:\"\n",
    "print(\"Probability that at least two students share a birthday\", 1-no_two_birthday)\n"
   ]
  },
  {
   "cell_type": "code",
   "execution_count": null,
   "metadata": {},
   "outputs": [],
   "source": []
  },
  {
   "cell_type": "code",
   "execution_count": null,
   "metadata": {},
   "outputs": [],
   "source": []
  },
  {
   "cell_type": "code",
   "execution_count": null,
   "metadata": {},
   "outputs": [],
   "source": []
  }
 ],
 "metadata": {
  "kernelspec": {
   "display_name": ".venv",
   "language": "python",
   "name": "python3"
  },
  "language_info": {
   "codemirror_mode": {
    "name": "ipython",
    "version": 3
   },
   "file_extension": ".py",
   "mimetype": "text/x-python",
   "name": "python",
   "nbconvert_exporter": "python",
   "pygments_lexer": "ipython3",
   "version": "3.12.3"
  }
 },
 "nbformat": 4,
 "nbformat_minor": 2
}
