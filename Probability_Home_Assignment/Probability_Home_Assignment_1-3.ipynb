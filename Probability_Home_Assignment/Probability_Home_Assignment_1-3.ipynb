{
 "cells": [
  {
   "cell_type": "markdown",
   "metadata": {},
   "source": [
    "### Problem 1 \n",
    "(2 points) Find the probability that in a class of n students, \n",
    "at least two share the\n",
    "same birthday. Use counting rules. Find a numerical answer for n = 50."
   ]
  },
  {
   "cell_type": "markdown",
   "metadata": {},
   "source": [
    "- We have 365 days in a year, so we can assighn disrinct birthday to n stuednts: 365 - first student, 364 - second student, 363 - third and etc. Thus, the number of favorable outcomes for n students with distinct birth-\n",
    "days is: 365 * 364 * 363 ×* . . . * (365 − n + 1). \n",
    "- Total number of possible ways = 365**n. \n",
    "- Probability that no two students share a birthday = 365 * 364 * 363 ×* . . . * (365 − n + 1)/365**n\n",
    "\n",
    "- Probability that at least two students share a birthday 1 -  365 * 364 * 363 ×* . . . * (365 − n + 1)/365**n"
   ]
  },
  {
   "cell_type": "code",
   "execution_count": 1,
   "metadata": {},
   "outputs": [
    {
     "name": "stdout",
     "output_type": "stream",
     "text": [
      "Probability that at least two students share a birthday 0.9703735795779884\n"
     ]
    }
   ],
   "source": [
    "from math import factorial\n",
    "n=50\n",
    "no_two_birthday = factorial(365) / (factorial(365 - n) * (365 ** n))\n",
    "# print(\"Probability that no two students share a birthday\",  no_two_birthday)\n",
    "\n",
    "# The probability that at least two students share a birthday is:\"\n",
    "print(\"Probability that at least two students share a birthday\", 1-no_two_birthday)\n"
   ]
  },
  {
   "cell_type": "markdown",
   "metadata": {
    "vscode": {
     "languageId": "latex"
    }
   },
   "source": [
    "### Problem 2\n",
    "  $\n",
    "\\\n",
    "\\sum_{j=0}^{n} \\binom{m}{k-j} = \\binom{m+n}{k}\n",
    "\\\n",
    "$ \n",
    "\n",
    "### Story Proof\n",
    "\n",
    "Imagine we have a group of `m` blue balls and `n` red balls, making a total of `m + n` balls. We want to choose `k` balls from this collection. \n",
    "\n",
    "To understand how many ways we can choose `k` balls, we can break down the selection based on how many red balls we pick. Let's say we pick `j` red balls. Since there are `n` red balls, the number of ways to choose `j` red balls is given by  (  binom n  j   ).\n",
    "\n",
    "After choosing `j` red balls, we need to choose `k - j` blue balls from the `m` available blue balls. The number of ways to choose `k - j` blue balls is given by  (  binom m  k-j   ).\n",
    "\n",
    "Now, since we can choose any value of `j` from `0` to `k`, we sum over all possible choices of `j`. Thus, the total number of ways to choose `k` balls, consisting of `j` red balls and `k - j` blue balls, is given by:\n",
    "\n",
    "  \n",
    " sum_ j=0 ^ k   binom n  j   binom m  k-j \n",
    "  \n",
    "\n",
    "### Conclusion\n",
    "\n",
    "On the other hand, if we simply want to know how many ways we can choose `k` balls from `m + n` balls (without regard to color), the total number of ways to do that is:\n",
    "\n",
    "  \n",
    " binom m+n  k \n",
    "  \n",
    "\n",
    "Thus, we have shown that:\n",
    "\n",
    "  \n",
    " sum_ j=0 ^ k   binom n  j   binom m  k-j  =  binom m+n  k \n",
    "  \n",
    "\n",
    "This completes the proof.\n",
    "\n",
    "Let's demonstrate an example below:"
   ]
  },
  {
   "cell_type": "code",
   "execution_count": 2,
   "metadata": {},
   "outputs": [
    {
     "name": "stdout",
     "output_type": "stream",
     "text": [
      "Left-hand side:  left_hand_side \n",
      "Right-hand side:  right_hand_side \n",
      "The identity holds:  result \n"
     ]
    }
   ],
   "source": [
    "import math\n",
    "\n",
    "def binomial_coefficient(n, k):\n",
    "    return math.comb(n, k)\n",
    "\n",
    "def verify_identity(m, n, k):\n",
    "    # Calculate the left-hand side of the identity\n",
    "    left_hand_side = sum(binomial_coefficient(n, j) * binomial_coefficient(m, k - j) for j in range(k + 1))\n",
    "    \n",
    "    # Calculate the right-hand side of the identity\n",
    "    right_hand_side = binomial_coefficient(m + n, k)\n",
    "    \n",
    "    # Output results\n",
    "    print(f\"Left-hand side:  left_hand_side \")\n",
    "    print(f\"Right-hand side:  right_hand_side \")\n",
    "    \n",
    "    # Verify if both sides are equal\n",
    "    return left_hand_side == right_hand_side\n",
    "\n",
    "# Example values\n",
    "m = 5\n",
    "n = 3\n",
    "k = 4\n",
    "\n",
    "# Verify the identity\n",
    "result = verify_identity(m, n, k)\n",
    "\n",
    "# Print the result\n",
    "print(f\"The identity holds:  result \")\n"
   ]
  },
  {
   "cell_type": "markdown",
   "metadata": {},
   "source": [
    "### Problem 3. \n",
    "(2 points) A fair die is rolled n times. What is the probability that at least 1 of\n",
    "the 6 values never appears? Give a formula answer with derivation. Hint: use inclusion-exclusion\n",
    "formula."
   ]
  },
  {
   "cell_type": "markdown",
   "metadata": {},
   "source": [
    "##  This solution was taken from NN chat GPS 3.5, so I didn't have time to do it because of the large number of homework.\n",
    "### Step 1: Define the Events\n",
    "\n",
    "Let \\( A_i \\) be the event that the value \\( i \\) (where \\( i = 1, 2, 3, 4, 5, 6 \\)) does not appear in \\( n \\) rolls of the die. We want to find the probability of the union of these events:\n",
    "\n",
    "$$\n",
    "P\\left(\\bigcup_{i=1}^{6} A_i\\right)\n",
    "\n",
    "$$\n",
    "\n",
    "### Step 2: Use Inclusion-Exclusion\n",
    "\n",
    "Using the principle of inclusion-exclusion, we can express the probability of the union of the events as:\n",
    "\n",
    " $$\n",
    "P\\left(\\bigcup_{i=1}^{6} A_i\\right) = \\sum_{i=1}^{6} P(A_i) - \\sum_{1 \\leq i < j \\leq 6} P(A_i \\cap A_j) + \\sum_{1 \\leq i < j < k \\leq 6} P(A_i \\cap A_j \\cap A_k) - \\cdots + (-1)^{6+1} P(A_1 \\cap A_2 \\cap A_3 \\cap A_4 \\cap A_5 \\cap A_6)\n",
    " $$\n",
    "\n",
    "### Step 3: Calculate Individual Probabilities\n",
    "\n",
    "1. **Single Event Probability \\( P(A_i) \\)**:\n",
    "\n",
    "   The probability that a specific value \\( i \\) does not appear in \\( n \\) rolls is given by the fact that each roll has a \\( \\frac{5}{6} \\) chance of not being \\( i \\):\n",
    "\n",
    "    $$\n",
    "   P(A_i) = \\left(\\frac{5}{6}\\right)^n\n",
    "    $$\n",
    "\n",
    "2. **Two Events Probability \\( P(A_i \\cap A_j) \\)**:\n",
    "\n",
    "   The probability that two specific values \\( i \\) and \\( j \\) do not appear in \\( n \\) rolls is:\n",
    "\n",
    "    $$\n",
    "   P(A_i \\cap A_j) = \\left(\\frac{4}{6}\\right)^n = \\left(\\frac{2}{3}\\right)^n\n",
    "    $$\n",
    "\n",
    "3. **Three Events Probability \\( P(A_i \\cap A_j \\cap A_k) \\)**:\n",
    "\n",
    "   The probability that three specific values do not appear is:\n",
    "\n",
    "    $$\n",
    "   P(A_i \\cap A_j \\cap A_k) = \\left(\\frac{3}{6}\\right)^n = \\left(\\frac{1}{2}\\right)^n\n",
    "    $$\n",
    "\n",
    "Continuing this pattern, we find:\n",
    "\n",
    "- For \\( k \\) values not appearing:\n",
    "\n",
    " $$\n",
    "P(A_{i_1} \\cap A_{i_2} \\cap \\ldots \\cap A_{i_k}) = \\left(\\frac{6-k}{6}\\right)^n\n",
    " $$\n",
    "\n",
    "### Step 4: Apply Inclusion-Exclusion Formula\n",
    "\n",
    "Substituting these probabilities into the inclusion-exclusion formula gives:\n",
    "\n",
    " $$\n",
    "P\\left(\\bigcup_{i=1}^{6} A_i\\right) = \\sum_{k=1}^{6} (-1)^{k+1} \\binom{6}{k} \\left(\\frac{6-k}{6}\\right)^n\n",
    " $$\n",
    "\n",
    "### Step 5: Final Probability\n",
    "\n",
    "The probability that at least one of the values never appears is:\n",
    "\n",
    " $$\n",
    "P\\left(\\text{at least one value never appears}\\right) = P\\left(\\bigcup_{i=1}^{6} A_i\\right) = \\sum_{k=1}^{6} (-1)^{k+1} \\binom{6}{k} \\left(\\frac{6-k}{6}\\right)^n\n",
    " $$\n",
    "\n",
    "### Summary\n",
    "\n",
    "The final formula for the probability that at least one of the six values never appears in \\( n \\) rolls of a fair die is:\n",
    "\n",
    " $$\n",
    "P\\left(\\text{at least one value never appears}\\right) = \\sum_{k=1}^{6} (-1)^{k+1} \\binom{6}{k} \\left(\\frac{6-k}{6}\\right)^n\n",
    " $$ \n",
    "\n"
   ]
  },
  {
   "cell_type": "markdown",
   "metadata": {},
   "source": [
    "### Problem 4\n",
    "(3 points) There are two baskets. The first basket contains one white ball, the\n",
    "second basket contains one black ball. One basket is chosen randomly and a white ball is put\n",
    "into the chosen basket. The balls in this basket are shuffled. Then one ball is extracted from this\n",
    "basket. This ball turns out to be white. What is the posterior probability that the second ball\n",
    "drawn from this basket is also white?"
   ]
  },
  {
   "cell_type": "markdown",
   "metadata": {
    "tags": [
     "parameters"
    ]
   },
   "source": [
    "How to slove that:\n",
    "\n",
    "We know what we have 2 bascet: \n",
    "Наша задача состоит в том чтобы найти апострениорную вероятность. У нас есть наблюдаемое событие:\n",
    " Выпадает белый шар. Обозначим это событие P_white,\n",
    "\n",
    "\n",
    "- bascet_1 contains 1 white ball\n",
    "- bascet_2 contains 1  black ball\n",
    "\n",
    "- Probability of choosing Basket 1 is P(A) = 1/2\n",
    "- Probability of choosing Basket 2 is P(B) = 1/2\n",
    "\n",
    "Choose a basket randomly and add a white ball has two scenario:\n",
    "- A_scenario was chosen Basket_1, resulting in two white balls (W, W). \n",
    "- B_scenario was chosen Basket_2, resulting in one white and one black balls (W, B). \n",
    "\n",
    " Observed Event:\n",
    " \n",
    " A white ball is drawn. We want to find the probability that the next ball drawn from the same basket is also white.\n",
    "\n",
    " So we have:\n",
    "\n",
    " - P_white_given_A = 1  Probability of drawing white from Basket 1 (W, W)\n",
    " - P_white_given_B = 1/2 Probability of drawing white from Basket 2 (W, B)\n",
    "\n",
    " Total probability is:\n",
    " \n",
    "                                                P(T) = P_white_given_A*P(A) + P_white_given_B*P(B) \n",
    "\n",
    " after that we can find P_white - the posterior probability that the second ball\n",
    "drawn from this basket is also white\n",
    "\n",
    "                                                P_white = (P_white_given_A*P(A))/P(T)\n",
    "                                                "
   ]
  },
  {
   "cell_type": "code",
   "execution_count": 2,
   "metadata": {},
   "outputs": [
    {
     "name": "stdout",
     "output_type": "stream",
     "text": [
      "The posterior probability that the second ball drawn is white:  posterior_probability:.2f \n"
     ]
    }
   ],
   "source": [
    "# Probabilities\n",
    "P_A = 1/2  # Probability of choosing Basket 1\n",
    "P_B = 1/2  # Probability of choosing Basket 2\n",
    "\n",
    "# Likelihoods\n",
    "P_white_given_A = 1    # Probability of drawing white from Basket 1 (W, W)\n",
    "P_white_given_B = 1/2  # Probability of drawing white from Basket 2 (W, B)\n",
    "\n",
    "# Total probability of drawing a white ball\n",
    "P_white = (P_white_given_A * P_A) + (P_white_given_B * P_B)\n",
    "\n",
    "# Posterior probability using Bayes' theorem\n",
    "posterior_probability = (P_white_given_A * P_A) / P_white # P_A_given_white\n",
    "\n",
    "print(f\"The posterior probability that the second ball drawn is white:  posterior_probability:.2f \")\n"
   ]
  },
  {
   "cell_type": "markdown",
   "metadata": {},
   "source": [
    "### Problem 5. \n",
    "(2 points) If you get a positive result on a COVID test that only gives a false\n",
    "positive with probability 0.001 (true positive with probability 0.999), what’s the chance that\n",
    "you’ve actually got COVID, if\n",
    "1. (1 point) The prior probability that a person has COVID is 0.01\n",
    "2. (1 point) The prior probability that a person has COVID is 0.0001"
   ]
  },
  {
   "cell_type": "markdown",
   "metadata": {},
   "source": [
    "1. Given:\n",
    "   -   P(  positive test | COVID ) = 0.999  \n",
    "   -   P( positive test | no COVID ) = 0.001  \n",
    "   -   P( COVID ) = 0.01  \n",
    "   -   P( no COVID ) = 1 - 0.01 = 0.99  \n",
    "\n",
    "2. Calculate  P( positive test ) :\n",
    "\n",
    "  P( positive test ) = P( positive test | COVID )   * P( COVID ) + P( positive test | no COVID )   * P( no COVID )   \n",
    "\n",
    "  P( positive test ) = 0.999 * 0.01 + 0.001  * 0.99  = 0.00999 + 0.00099 = 0.01098  \n",
    "\n",
    "\n",
    "3. Apply Bayes' Theorem:\n",
    "\n",
    "  P( COVID | positive test ) =   ( 0.999   * 0.01 ) /  0.01098    \n",
    "\n",
    "  P( COVID | positive test )   = 0.909   \n",
    "\n",
    "### Part 2: Prior probability of COVID is 0.0001\n",
    "\n",
    "1. Given:\n",
    "   -  ( P( COVID ) = 0.0001  )\n",
    "   -  ( P( no COVID ) = 1 - 0.0001 = 0.9999  )\n",
    "\n",
    "2. Calculate  ( P( positive test )  ):\n",
    "\n",
    "  P( positive test ) = 0.999   * 0.0001 + 0.001   * 0.9999   \n",
    "\n",
    "  P( positive test ) = 0.0000999 + 0.0009999 = 0.0010998   \n",
    "\n",
    "3. Apply Bayes' Theorem:\n",
    "\n",
    "  P( COVID | positive test ) =   ( 0.999   * 0.0001 ) /  0.0010998    \n",
    "\n",
    "  P( COVID | positive test )   = 0.0909   \n"
   ]
  },
  {
   "cell_type": "code",
   "execution_count": 4,
   "metadata": {},
   "outputs": [
    {
     "name": "stdout",
     "output_type": "stream",
     "text": [
      "Posterior probability (prior = 0.01): posterior_1:.4f \n",
      "Posterior probability (prior = 0.0001):  posterior_2: .4f \n"
     ]
    }
   ],
   "source": [
    "def bayes_theorem(sensitivity, prior, false_positive_rate):\n",
    "    # Calculate the probability of a positive test result\n",
    "    positive_test_result = sensitivity * prior + (1 - prior) * false_positive_rate\n",
    "\n",
    "    # Calculate the probability of having COVID given a positive test result\n",
    "    posterior = (sensitivity * prior) / positive_test_result\n",
    "\n",
    "    return posterior\n",
    "\n",
    "sensitivity = 0.999 # P(B|A)\n",
    "false_positive_rate = 0.001 \n",
    "\n",
    "# Prior probability of having COVID is 0.01\n",
    "prior = 0.01\n",
    "posterior_1 = bayes_theorem(sensitivity, prior, false_positive_rate)\n",
    "print(f\"Posterior probability (prior = 0.01): posterior_1:.4f \")\n",
    "\n",
    "# Prior probability of having COVID is 0.0001\n",
    "prior = 0.0001\n",
    "posterior_2 = bayes_theorem(sensitivity, prior, false_positive_rate)\n",
    "print(f\"Posterior probability (prior = 0.0001):  posterior_2: .4f \")\n"
   ]
  },
  {
   "cell_type": "code",
   "execution_count": null,
   "metadata": {},
   "outputs": [],
   "source": []
  }
 ],
 "metadata": {
  "kernelspec": {
   "display_name": ".venv",
   "language": "python",
   "name": "python3"
  },
  "language_info": {
   "codemirror_mode": {
    "name": "ipython",
    "version": 3
   },
   "file_extension": ".py",
   "mimetype": "text/x-python",
   "name": "python",
   "nbconvert_exporter": "python",
   "pygments_lexer": "ipython3",
   "version": "3.12.3"
  }
 },
 "nbformat": 4,
 "nbformat_minor": 2
}
