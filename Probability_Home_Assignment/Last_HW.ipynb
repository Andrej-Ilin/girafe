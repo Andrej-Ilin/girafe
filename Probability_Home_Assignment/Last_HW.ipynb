{
 "cells": [
  {
   "cell_type": "markdown",
   "metadata": {},
   "source": [
    "### MSAI Probability Home Assignment 6-7"
   ]
  },
  {
   "cell_type": "markdown",
   "metadata": {},
   "source": [
    "***Problem 1.*** (2 points) Find the skewness of exponential distribution"
   ]
  },
  {
   "cell_type": "markdown",
   "metadata": {},
   "source": [
    "*In addition to such indicators as the mean and standard deviation, there is a skewness. Skewness gives a way to attach a numerical value to the asymmetry of a distribution.*"
   ]
  },
  {
   "cell_type": "markdown",
   "metadata": {},
   "source": [
    "#### Definition of Skewness\n",
    "\n",
    "Skewness is defined by an expression related to the third moment about the mean. This expression is the expected value:\n",
    "\n",
    "$\n",
    "E\\left[\\frac{(X - \\mu)^3}{\\sigma^3}\\right] = \\frac{E[X^3] - 3\\mu E[X^2] + 3\\mu^2 E[X] - \\mu^3}{\\sigma^3} = \\frac{E[X^3] - 3\\mu\\left(\\sigma^2 - \\mu^3\\right)}{\\sigma^3}\n",
    "$\n",
    "We denote this distribution as $ \\text{Exp}(A) $, where $ A $ is the parameter. The probability density function for this distribution is:\n",
    "\n",
    "$\n",
    "f(x) = \\frac{e^{-x/A}}{A}, \\quad \\text{where } x \\text{ is nonnegative.}\n",
    "$\n",
    "\n",
    "Here $ e $ is the mathematical constant $ e $ that is approximately $ 2.718281828 $. The mean and standard deviation of the exponential distribution $ \\text{Exp}(A) $ are both related to the parameter $ A $. In fact, the mean and standard deviation are both equal to $ A $.\n",
    "\n",
    "So we can to replace $ \\mu $ and $ \\sigma $ with $ A $, and the result is that the skewness is \n",
    "\n",
    "$\n",
    "\\text{Skewness} = \\frac{E[X^3]}{A^3} - 4.\n",
    "$\n",
    "\n",
    "All that remains is to calculate the third moment about the origin. For this, we need to integrate the following:\n",
    "\n",
    "$\n",
    "\\int_{0}^{\\infty} x^3 f(x) \\, dx.\n",
    "$\n",
    "\n",
    "This integral has an infinity for one of its limits. Thus, it can be evaluated as a type I improper integral. We also must determine what integration technique to use. Since the function to integrate is the product of a polynomial and an exponential function, we would need to use integration by parts. This integration technique is applied several times. The end result is that:\n",
    "\n",
    "$\n",
    "E[X^3] = 6A^3.\n",
    "$\n",
    "\n",
    "$\n",
    "\\text{Skewness} = \\frac{6A^3}{A^3} - 4.\n",
    "$\n",
    "\n",
    "We then combine this with our previous equation for the skewness. We see that the skewness is:\n",
    "\n",
    "$\n",
    "6 - 4 = 2.\n",
    "$\n"
   ]
  },
  {
   "cell_type": "markdown",
   "metadata": {},
   "source": [
    "***Problem 2.*** (2 points) Find the kurtosis of the $ \\text{Be}\\left(\\frac{1}{2}\\right) $ distribution."
   ]
  },
  {
   "cell_type": "markdown",
   "metadata": {},
   "source": [
    "To find the kurtosis of the $ \\text{Beta}(1/2, 1/2)$ distribution, we need to use the general formula for kurtosis, which is based on the central moments of the distribution.\n",
    "This formula is taken from [web.stanford.edu](https://web.stanford.edu/class/archive/cs/cs109/cs109.1166/pdfs/22%20Beta.pdf)\n",
    "The Probability Density Function (PDF) for a Beta random variable $ X \\sim \\text{Beta}(a,b) $ is given by:\n",
    "\n",
    "$$\n",
    "f(x) = \n",
    "\\begin{cases}\n",
    "\\frac{1}{B(a,b)} x^{a-1} (1-x)^{b-1} & \\text{if } 0 < x < 1 \\\\\n",
    "0 & \\text{otherwise}\n",
    "\\end{cases}\n",
    "$$\n",
    "\n",
    "where $$ B(a,b) = \\int_0^1 x^{a-1} (1-x)^{b-1} \\, dx $$.\n",
    "\n",
    "A Beta distribution has the following properties:\n",
    "\n",
    "$$\n",
    "E[X] = \\frac{a}{a+b} \n",
    "$$\n",
    "\n",
    "and \n",
    "\n",
    "$$\n",
    "\\text{Var}(X) = \\frac{ab}{(a+b)^2 (a+b+1)}.\n",
    "$$\n",
    "\n",
    "Step 1: Calculate the mean $\\mu$ of the Beta(1/2, 1/2) distribution. \n",
    "$$\n",
    "\\mu = \\frac{\\alpha}{\\alpha + \\beta} = \\frac{1/2}{1/2 + 1/2} = \\frac{1}{2}\n",
    "$$\n",
    "\n",
    "Step 2: Calculate the variance $\\sigma^2  of the Beta(1/2, 1/2)$ distribution. \n",
    "$$\n",
    "\\sigma^2 = \\frac{\\alpha \\beta}{(\\alpha + \\beta)^2 (\\alpha + \\beta + 1)} = \\frac{(1/2)(1/2)}{(1/2 + 1/2)^2(1/2 + 1/2 + 1)} = \\frac{1}{8}\n",
    "$$\n",
    "\n",
    "\n",
    "\n",
    "Step 3: Calculate the fourth central moment $ \\mu_4$ of the Beta(1/2, 1/2) distribution. \n",
    "$$\n",
    "\\mu_4 = \\frac{3(\\alpha + \\beta + 1) \\sigma^4 }{\\alpha \\beta} = \\frac{3((1/2) + (1/2) + (1))(1/8)^2}{(1/2)(1/2)} = \\frac{3*2*(1/64)}{1/4} = {(3/16)}\n",
    "$$\n",
    "\n",
    "Step 4: Use the general formula for kurtosis, which is the fourth standardized moment minus 3. \n",
    "$$\n",
    "\\text{Kurtosis} = \\frac{\\mu_4}{\\sigma^4} - 3\n",
    "$$\n",
    "Substituting the values from steps 2 and 3: \n",
    "$$\n",
    "\\text{Kurtosis} = \\left(\\frac{3/16}{(1/8)^2}\\right) - 3 = \\left(\\frac{3/16}{1/64}\\right) - 3 = \\left(\\frac{3}{16} \\times 64\\right) - 3 = 12 - 3 = 9\n",
    "$$\n",
    "Therefore, the kurtosis of the Beta(1/2, 1/2) distribution is 9."
   ]
  },
  {
   "cell_type": "markdown",
   "metadata": {},
   "source": []
  },
  {
   "cell_type": "markdown",
   "metadata": {},
   "source": []
  },
  {
   "cell_type": "code",
   "execution_count": null,
   "metadata": {},
   "outputs": [],
   "source": []
  }
 ],
 "metadata": {
  "language_info": {
   "name": "python"
  }
 },
 "nbformat": 4,
 "nbformat_minor": 2
}
