{
  "cells": [
    {
      "cell_type": "markdown",
      "id": "97940701-24df-4c96-9ba8-830a30dd43db",
      "metadata": {
        "id": "97940701-24df-4c96-9ba8-830a30dd43db"
      },
      "source": [
        "# Collaborative filtering practice\n",
        "\n",
        "In this homework you will test different collaborative filtering (CF) approaches on famous Movielens dataset.\n",
        "\n",
        "In class we implemented item2item CF, so this time let's use **user2user** approach."
      ]
    },
    {
      "cell_type": "markdown",
      "id": "cf0fb9af-7bf6-4fb3-9a66-792bf23a1d93",
      "metadata": {
        "id": "cf0fb9af-7bf6-4fb3-9a66-792bf23a1d93"
      },
      "source": [
        "## Task 0: Dataset (5 points)\n",
        "\n",
        "Load [movielens](https://grouplens.org/datasets/movielens/) dataset using [scikit surprise](https://surprise.readthedocs.io/en/stable/dataset.html)\n",
        "\n",
        "Split dataset to train and validation parts.\n",
        "\n",
        "Don't forget to encode users and items from 0 to maximum!"
      ]
    },
    {
      "cell_type": "code",
      "execution_count": 4,
      "id": "aaa8ec51-adf5-48c1-8326-89f527db1240",
      "metadata": {
        "colab": {
          "base_uri": "https://localhost:8080/"
        },
        "collapsed": true,
        "id": "aaa8ec51-adf5-48c1-8326-89f527db1240",
        "outputId": "94f873f2-5a8a-45db-f2c6-4cd364fcaf62"
      },
      "outputs": [],
      "source": [
        "# !wget -q https://files.grouplens.org/datasets/movielens/ml-100k.zip -O ml-100k.zip\n",
        "# !unzip -o ml-100k.zip\n",
        "# !rm ml-100k.zip\n",
        "\n"
      ]
    },
    {
      "cell_type": "code",
      "execution_count": 22,
      "id": "-TpWlxSI_aPT",
      "metadata": {
        "id": "-TpWlxSI_aPT"
      },
      "outputs": [],
      "source": [
        "import pandas as pd\n",
        "import numpy as np\n",
        "from sklearn.preprocessing import LabelEncoder\n",
        "from sklearn.model_selection import train_test_split\n",
        "import scipy.sparse as sp\n",
        "import matplotlib.pyplot as plt\n",
        "import seaborn as sns\n",
        "from tqdm import tqdm\n",
        "from typing import Callable, Dict, Set, List, Tuple\n",
        "from collections import defaultdict, Counter"
      ]
    },
    {
      "cell_type": "code",
      "execution_count": 23,
      "id": "YAd-yEn7Y-jF",
      "metadata": {
        "colab": {
          "base_uri": "https://localhost:8080/",
          "height": 206
        },
        "id": "YAd-yEn7Y-jF",
        "outputId": "851f9ade-b5af-4ec0-8fe4-de03a79353aa"
      },
      "outputs": [],
      "source": [
        "\n",
        "ratings = pd.read_csv(\n",
        "    \"ml-100k/u.data\",\n",
        "    sep=\"\\t\",\n",
        "    header=None,\n",
        "    names=['user_id', 'item_id', 'rating', 'datetime'],\n",
        ")\n",
        "# Convert timestamp to datetime for better readability\n",
        "ratings['datetime'] = pd.to_datetime(ratings['datetime'], unit='s')\n"
      ]
    },
    {
      "cell_type": "code",
      "execution_count": 24,
      "id": "e38dfd41",
      "metadata": {},
      "outputs": [
        {
          "name": "stdout",
          "output_type": "stream",
          "text": [
            "Basic statistics:\n",
            "Number of users: 943\n",
            "Number of items: 1682\n",
            "Number of ratings: 100000\n",
            "Rating distribution:rating\n",
            "1     6110\n",
            "2    11370\n",
            "3    27145\n",
            "4    34174\n",
            "5    21201\n",
            "Name: count, dtype: int64\n"
          ]
        }
      ],
      "source": [
        "print(\"\\\n",
        "Basic statistics:\")\n",
        "print(f\"Number of users: {ratings['user_id'].nunique()}\")\n",
        "print(f\"Number of items: {ratings['item_id'].nunique()}\")\n",
        "print(f\"Number of ratings: {len(ratings)}\")\n",
        "print(f\"Rating distribution:\\\n",
        "{ratings['rating'].value_counts().sort_index()}\")\n"
      ]
    },
    {
      "cell_type": "code",
      "execution_count": 25,
      "id": "HOrVKNcjaJyb",
      "metadata": {
        "id": "HOrVKNcjaJyb"
      },
      "outputs": [
        {
          "name": "stdout",
          "output_type": "stream",
          "text": [
            "Encoded ratings \n",
            "   user_id  user_id_encoded  item_id  item_id_encoded  rating\n",
            "0      196              195      242              241       3\n",
            "1      186              185      302              301       3\n",
            "2       22               21      377              376       1\n",
            "3      244              243       51               50       2\n",
            "4      166              165      346              345       1\n"
          ]
        }
      ],
      "source": [
        "# Encode user_id and item_id from 0 to max\n",
        "def encode_ids(ratings):\n",
        "    # Create label encoders for users and items\n",
        "    user_encoder = LabelEncoder()\n",
        "    item_encoder = LabelEncoder()\n",
        "    \n",
        "    # Fit the encoders\n",
        "    user_encoder.fit(ratings['user_id'])\n",
        "    item_encoder.fit(ratings['item_id'])\n",
        "    \n",
        "    # Transform the IDs\n",
        "    ratings['user_id_encoded'] = user_encoder.transform(ratings['user_id'])\n",
        "    ratings['item_id_encoded'] = item_encoder.transform(ratings['item_id'])\n",
        "    \n",
        "    return ratings, user_encoder, item_encoder\n",
        "\n",
        "# Apply encoding\n",
        "ratings, user_encoder, item_encoder = encode_ids(ratings)\n",
        "print(\"\\\n",
        "Encoded ratings \")\n",
        "print(ratings[['user_id', 'user_id_encoded', 'item_id', 'item_id_encoded', 'rating']].head())\n"
      ]
    },
    {
      "cell_type": "code",
      "execution_count": 26,
      "id": "oLZdwL8iiqIN",
      "metadata": {
        "id": "oLZdwL8iiqIN"
      },
      "outputs": [],
      "source": [
        " # Split into train and validation sets\n",
        "train_df, valid_df = train_test_split(ratings, test_size=0.2, random_state=42, stratify=ratings['user_id_encoded'])\n"
      ]
    },
    {
      "cell_type": "code",
      "execution_count": 27,
      "id": "64977ceb",
      "metadata": {},
      "outputs": [
        {
          "name": "stdout",
          "output_type": "stream",
          "text": [
            "Train set size: 80000\n",
            "Validation set size: 20000\n",
            "Users in train: 943\n",
            "Users in validation: 943\n",
            "Users in both sets: 943\n"
          ]
        },
        {
          "name": "stderr",
          "output_type": "stream",
          "text": [
            "/tmp/ipykernel_4174/2327499227.py:15: FutureWarning: \n",
            "\n",
            "Passing `palette` without assigning `hue` is deprecated and will be removed in v0.14.0. Assign the `x` variable to `hue` and set `legend=False` for the same effect.\n",
            "\n",
            "  sns.countplot(x='rating', data=ratings, palette='viridis')\n"
          ]
        },
        {
          "data": {
            "image/png": "[encoded data removed]",
            "text/plain": [
              "<Figure size 1000x600 with 1 Axes>"
            ]
          },
          "metadata": {},
          "output_type": "display_data"
        },
        {
          "name": "stdout",
          "output_type": "stream",
          "text": [
            "Train matrix shape: (943, 1682)\n",
            "Validation matrix shape: (943, 1682)\n",
            "Movie data loaded successfully\n",
            "Number of movies: 1682\n",
            "Sample movie titles:\n",
            "Item ID: 0, Title: Toy Story (1995)\n",
            "Item ID: 1, Title: GoldenEye (1995)\n",
            "Item ID: 2, Title: Four Rooms (1995)\n",
            "Item ID: 3, Title: Get Shorty (1995)\n",
            "Item ID: 4, Title: Copycat (1995)\n"
          ]
        }
      ],
      "source": [
        "print(\"\\\n",
        "Train set size:\", len(train_df))\n",
        "print(\"Validation set size:\", len(valid_df))\n",
        "\n",
        "# Check if each user has ratings in both train and validation sets\n",
        "users_in_train = set(train_df['user_id_encoded'])\n",
        "users_in_valid = set(valid_df['user_id_encoded'])\n",
        "print(f\"\\\n",
        "Users in train: {len(users_in_train)}\")\n",
        "print(f\"Users in validation: {len(users_in_valid)}\")\n",
        "print(f\"Users in both sets: {len(users_in_train.intersection(users_in_valid))}\")\n",
        "\n",
        "# Visualize rating distribution\n",
        "plt.figure(figsize=(10, 6))\n",
        "sns.countplot(x='rating', data=ratings, palette='viridis')\n",
        "plt.title('Rating Distribution')\n",
        "plt.xlabel('Rating')\n",
        "plt.ylabel('Count')\n",
        "plt.grid(axis='y', alpha=0.3)\n",
        "plt.show()\n",
        "\n",
        "# Create user-item matrices for train and validation\n",
        "n_users = ratings['user_id_encoded'].max() + 1\n",
        "n_items = ratings['item_id_encoded'].max() + 1\n",
        "\n",
        "# Function to create user-item matrix\n",
        "def create_user_item_matrix(df):\n",
        "    matrix = np.zeros((n_users, n_items))\n",
        "    for _, row in df.iterrows():\n",
        "        matrix[row['user_id_encoded'], row['item_id_encoded']] = row['rating']\n",
        "    return matrix\n",
        "\n",
        "# Create matrices\n",
        "train_matrix = create_user_item_matrix(train_df)\n",
        "valid_matrix = create_user_item_matrix(valid_df)\n",
        "\n",
        "print(\"\\\n",
        "Train matrix shape:\", train_matrix.shape)\n",
        "print(\"Validation matrix shape:\", valid_matrix.shape)\n",
        "\n",
        "# Load movie information for later use\n",
        "try:\n",
        "    movies = pd.read_csv(\n",
        "        \"ml-100k/u.item\",\n",
        "        sep=\"|\",\n",
        "        header=None,\n",
        "        encoding='latin-1',\n",
        "        names=['item_id', 'title', 'release_date', 'video_release_date', 'imdb_url'] + \n",
        "               ['unknown', 'Action', 'Adventure', 'Animation', 'Children', \n",
        "                'Comedy', 'Crime', 'Documentary', 'Drama', 'Fantasy', \n",
        "                'Film-Noir', 'Horror', 'Musical', 'Mystery', 'Romance', \n",
        "                'Sci-Fi', 'Thriller', 'War', 'Western']\n",
        "    )\n",
        "    \n",
        "    # Map encoded item IDs to movie titles\n",
        "    item_id_to_title = dict(zip(movies['item_id'], movies['title']))\n",
        "    encoded_id_to_title = {item_encoder.transform([item_id])[0]: title \n",
        "                           for item_id, title in item_id_to_title.items()}\n",
        "    \n",
        "    print(\"\\\n",
        "Movie data loaded successfully\")\n",
        "    print(f\"Number of movies: {len(movies)}\")\n",
        "    print(\"Sample movie titles:\")\n",
        "    for i in range(5):\n",
        "        print(f\"Item ID: {i}, Title: {encoded_id_to_title.get(i, 'Unknown')}\")\n",
        "except Exception as e:\n",
        "    print(f\"Error loading movie  {e}\")\n",
        "    encoded_id_to_title = {}"
      ]
    },
    {
      "cell_type": "markdown",
      "id": "a0f4a5d1-3b22-4ddd-942e-c546eea1902b",
      "metadata": {
        "id": "a0f4a5d1-3b22-4ddd-942e-c546eea1902b"
      },
      "source": [
        "## Task 1: Similarities (5 points each)\n",
        "\n",
        "You need to implement 3 similarity functions:\n",
        "1. Dot product (intersection)\n",
        "1. Jaccard index (intersection over union)\n",
        "1. Pearson correlation\n",
        "1. Pearson correlation with decreasing coefficient"
      ]
    },
    {
      "cell_type": "code",
      "execution_count": 28,
      "id": "bf60bce0-6973-4da9-b9dc-5a7fbfec0764",
      "metadata": {
        "id": "bf60bce0-6973-4da9-b9dc-5a7fbfec0764"
      },
      "outputs": [],
      "source": [
        "def sim_dot(left, right) -> float:\n",
        "    '''Dot product similarity\n",
        "\n",
        "    Args:\n",
        "        left: first user ratings\n",
        "        right: second user ratings\n",
        "\n",
        "    Retruns:\n",
        "        Similarity score for this pair\n",
        "    '''\n",
        "    # your code here\n",
        "    '''import numpy as np\n",
        "    np.logical_and(True, False)\n",
        "    np.logical_and([True, False], [False, False])'''\n",
        "    mask = np.logical_and(left > 0, right > 0)\n",
        "     # If no common items, return 0\n",
        "    if not np.any(mask):\n",
        "        return 0.0\n",
        "    \n",
        "    # Calculate dot product for common items\n",
        "    left_masked = left[mask]\n",
        "    right_masked = right[mask]\n",
        "    \n",
        "    return np.dot(left_masked, right_masked)"
      ]
    },
    {
      "cell_type": "code",
      "execution_count": 29,
      "id": "f4f4aa44-ba4a-4ed5-b762-48b3e8446b29",
      "metadata": {
        "id": "f4f4aa44-ba4a-4ed5-b762-48b3e8446b29"
      },
      "outputs": [],
      "source": [
        "def sim_jacc(left, right) -> float:\n",
        "    '''Jaccard index similarity\n",
        "\n",
        "    Args:\n",
        "        left: first user ratings\n",
        "        right: second user ratings\n",
        "\n",
        "    Retruns:\n",
        "        Similarity score for this pair\n",
        "    '''\n",
        "    # your code here\n",
        "    # Find items rated by each user\n",
        "    left_rated = left > 0\n",
        "    right_rated = right > 0\n",
        "    \n",
        "    # Calculate intersection and union\n",
        "    intersection = np.sum(np.logical_and(left_rated, right_rated))\n",
        "    union = np.sum(np.logical_or(left_rated, right_rated))\n",
        "    \n",
        "    # If union is 0, return 0\n",
        "    if union == 0:\n",
        "        return 0.0\n",
        "    \n",
        "    return intersection / union"
      ]
    },
    {
      "cell_type": "code",
      "execution_count": 30,
      "id": "d5bf09dc-434c-4939-8ed4-20e4629ef4d6",
      "metadata": {
        "id": "d5bf09dc-434c-4939-8ed4-20e4629ef4d6"
      },
      "outputs": [],
      "source": [
        "import torch\n",
        "\n",
        "def sim_pearson(left, right) -> float:\n",
        "    '''Pearson correlation similarity\n",
        "\n",
        "    Args:\n",
        "        left: first user ratings\n",
        "        right: second user ratings\n",
        "\n",
        "    Retruns:\n",
        "        Similarity score for this pair\n",
        "    '''\n",
        "    # your code here\n",
        "    # Find common items rated by both users\n",
        "    mask = np.logical_and(left > 0, right > 0)\n",
        "    \n",
        "    # If no common items or less than 2 items (need at least 2 for correlation), return 0\n",
        "    if not np.any(mask) or np.sum(mask) < 2:\n",
        "        return 0.0\n",
        "    \n",
        "    # Extract ratings for common items\n",
        "    left_masked = left[mask]\n",
        "    right_masked = right[mask]\n",
        "    \n",
        "    # Calculate means for each user's ratings\n",
        "    left_mean = np.mean(left_masked)\n",
        "    right_mean = np.mean(right_masked)\n",
        "    \n",
        "    # Calculate numerator and denominators for Pearson correlation\n",
        "    numerator = np.sum((left_masked - left_mean) * (right_masked - right_mean))\n",
        "    left_denom = np.sqrt(np.sum((left_masked - left_mean) ** 2))\n",
        "    right_denom = np.sqrt(np.sum((right_masked - right_mean) ** 2))\n",
        "    \n",
        "    # Avoid division by zero\n",
        "    denominator = left_denom * right_denom\n",
        "    if denominator == 0:\n",
        "        return 0.0\n",
        "    \n",
        "    return numerator / denominator"
      ]
    },
    {
      "cell_type": "code",
      "execution_count": 31,
      "id": "HXRyAzeO1yfP",
      "metadata": {
        "id": "HXRyAzeO1yfP"
      },
      "outputs": [],
      "source": [
        "def sim_pearson_decreasing(left, right) -> float:\n",
        "    '''Pearson correlation similarity which decreases on small intersection\n",
        "\n",
        "    Args:\n",
        "        left: first user ratings\n",
        "        right: second user ratings\n",
        "\n",
        "    Retruns:\n",
        "        Similarity score for this pair\n",
        "    '''\n",
        "    # Find common items rated by both users\n",
        "    mask = np.logical_and(left > 0, right > 0)\n",
        "    \n",
        "    # Count common items\n",
        "    n_common = np.sum(mask)\n",
        "    \n",
        "    # If no common items or less than 2 items (need at least 2 for correlation), return 0\n",
        "    if n_common < 2:\n",
        "        return 0.0\n",
        "    \n",
        "    # Calculate base Pearson correlation\n",
        "    pearson_sim = sim_pearson(left, right)\n",
        "    \n",
        "    # Apply decreasing coefficient based on the number of common items\n",
        "    # The more items in common, the closer the coefficient is to 1\n",
        "    # Decrease factor: n_common / (n_common + 50)\n",
        "    # This penalizes pairs with few items in common\n",
        "    decreasing_factor = n_common / (n_common + 50)\n",
        "    \n",
        "    return pearson_sim * decreasing_factor"
      ]
    },
    {
      "cell_type": "code",
      "execution_count": 32,
      "id": "8905435a",
      "metadata": {},
      "outputs": [
        {
          "name": "stdout",
          "output_type": "stream",
          "text": [
            "Sample user vectors:\n",
            "User 1: [5 4 0 0 5 1]\n",
            "User 2: [0 5 4 3 4 0]\n",
            "User 3: [0 0 0 0 0 0]\n",
            "Similarity scores:\n",
            "Dot product (User 1, User 2): 40\n",
            "Jaccard (User 1, User 2): 0.3333333333333333\n",
            "Pearson (User 1, User 2): -0.9999999999999998\n",
            "Pearson decreasing (User 1, User 2): -0.03846153846153846\n",
            "Edge cases:\n",
            "Dot product (User 1, User 3): 0.0\n",
            "Jaccard (User 1, User 3): 0.0\n",
            "Pearson (User 1, User 3): 0.0\n",
            "Pearson decreasing (User 1, User 3): 0.0\n"
          ]
        }
      ],
      "source": [
        "# Function to test similarity measures with a simple example\n",
        "def test_similarity_functions():\n",
        "    # Create sample user vectors\n",
        "    user1 = np.array([5, 4, 0, 0, 5, 1])\n",
        "    user2 = np.array([0, 5, 4, 3, 4, 0])\n",
        "    user3 = np.array([0, 0, 0, 0, 0, 0])  # No ratings\n",
        "    \n",
        "    print(\"Sample user vectors:\")\n",
        "    print(\"User 1:\", user1)\n",
        "    print(\"User 2:\", user2)\n",
        "    print(\"User 3:\", user3)\n",
        "    \n",
        "    print(\"\\\n",
        "Similarity scores:\")\n",
        "    print(f\"Dot product (User 1, User 2): {sim_dot(user1, user2)}\")\n",
        "    print(f\"Jaccard (User 1, User 2): {sim_jacc(user1, user2)}\")\n",
        "    print(f\"Pearson (User 1, User 2): {sim_pearson(user1, user2)}\")\n",
        "    print(f\"Pearson decreasing (User 1, User 2): {sim_pearson_decreasing(user1, user2)}\")\n",
        "    \n",
        "    print(\"\\\n",
        "Edge cases:\")\n",
        "    print(f\"Dot product (User 1, User 3): {sim_dot(user1, user3)}\")\n",
        "    print(f\"Jaccard (User 1, User 3): {sim_jacc(user1, user3)}\")\n",
        "    print(f\"Pearson (User 1, User 3): {sim_pearson(user1, user3)}\")\n",
        "    print(f\"Pearson decreasing (User 1, User 3): {sim_pearson_decreasing(user1, user3)}\")\n",
        "\n",
        "# Run the test\n",
        "test_similarity_functions()"
      ]
    },
    {
      "cell_type": "markdown",
      "id": "5ba45596-6ba6-4668-b045-1d3be7ad8fe1",
      "metadata": {
        "id": "5ba45596-6ba6-4668-b045-1d3be7ad8fe1"
      },
      "source": [
        "## Task 2: Collaborative filtering algorithm (5 points each)\n",
        "\n",
        "Now you have several options to use similarities for ratings prediction:\n",
        "1. Simple averaging\n",
        "1. Mean corrected averaging\n",
        "\n",
        "Implement them both"
      ]
    },
    {
      "cell_type": "code",
      "execution_count": 33,
      "id": "65e4a0ef-c033-47ae-a1f4-32850de24b68",
      "metadata": {
        "id": "65e4a0ef-c033-47ae-a1f4-32850de24b68"
      },
      "outputs": [],
      "source": [
        "class UserBasedCf:\n",
        "    '''User2user collaborative filtering algorithm'''\n",
        "    def __init__(self, sim_fn: Callable[[np.ndarray, np.ndarray], float], mean_correct: bool = False):\n",
        "        self.sim_fn = sim_fn\n",
        "        self.mean_correct = mean_correct\n",
        "        self.sim_matrix = None\n",
        "        self.feedbacks = None\n",
        "\n",
        "    def calc_sim_matrix(self, feedbacks: np.ndarray):\n",
        "        '''Fills matrix of user similarities'''\n",
        "        self.feedbacks = feedbacks\n",
        "        n_users = feedbacks.shape[0]\n",
        "        self.sim_matrix = np.zeros((n_users, n_users))\n",
        "\n",
        "        for i in tqdm(range(n_users), desc=\"Calculating similarity matrix\"):\n",
        "            for j in range(i + 1, n_users):  # Calculate only half of the matrix\n",
        "                sim = self.sim_fn(feedbacks[i], feedbacks[j])\n",
        "                self.sim_matrix[i, j] = sim\n",
        "                self.sim_matrix[j, i] = sim  # Matrix is symmetric\n",
        "\n",
        "    def add_user(self, user_ratings: np.ndarray):\n",
        "        '''Add a new user without recalculating the entire similarity matrix'''\n",
        "        if self.sim_matrix is None or self.feedbacks is None:\n",
        "            raise ValueError(\"Model must be trained first with calc_sim_matrix\")\n",
        "        \n",
        "        # Calculate similarities between new user and existing users\n",
        "        n_users = self.feedbacks.shape[0]\n",
        "        new_user_id = n_users\n",
        "        \n",
        "        # Extend similarity matrix for the new user\n",
        "        new_row = np.zeros(n_users)\n",
        "        for j in range(n_users):\n",
        "            new_row[j] = self.sim_fn(user_ratings, self.feedbacks[j])\n",
        "        \n",
        "        # Append new row and column to similarity matrix\n",
        "        self.sim_matrix = np.vstack([self.sim_matrix, new_row])\n",
        "        self.sim_matrix = np.hstack([self.sim_matrix, np.append(new_row, 0).reshape(-1, 1)])\n",
        "        \n",
        "        # Append new user to feedbacks\n",
        "        self.feedbacks = np.vstack([self.feedbacks, user_ratings])\n",
        "        \n",
        "        return new_user_id\n",
        "\n",
        "    def recommend(self, user: int, n: int = 5):\n",
        "        '''Computes most relevant unseen items for the user'''\n",
        "        user_ratings = self.feedbacks[user]\n",
        "        sims = self.sim_matrix[user]\n",
        "        \n",
        "        # Items not rated by user\n",
        "        unrated_items = np.where(user_ratings == 0)[0]\n",
        "        scores = []\n",
        "\n",
        "        for item in unrated_items:\n",
        "            total_sim = 0\n",
        "            weighted_sum = 0\n",
        "\n",
        "            for other_user in range(self.feedbacks.shape[0]):\n",
        "                if self.feedbacks[other_user, item] == 0 or other_user == user:\n",
        "                    continue\n",
        "\n",
        "                sim = sims[other_user]\n",
        "\n",
        "                if self.mean_correct:\n",
        "                    # Subtract user mean if using mean-corrected version\n",
        "                    rated_items = self.feedbacks[other_user] > 0\n",
        "                    if np.sum(rated_items) > 0:  # Проверка, что у пользователя есть оценки\n",
        "                        user_mean = self.feedbacks[other_user][rated_items].mean()\n",
        "                        weighted_sum += sim * (self.feedbacks[other_user, item] - user_mean)\n",
        "                else:\n",
        "                    weighted_sum += sim * self.feedbacks[other_user, item]\n",
        "\n",
        "                total_sim += abs(sim)\n",
        "\n",
        "            if total_sim > 0:\n",
        "                if self.mean_correct:\n",
        "                    rated_items = user_ratings > 0\n",
        "                    if np.sum(rated_items) > 0:  # Проверка, что у пользователя есть оценки\n",
        "                        user_mean = user_ratings[rated_items].mean()\n",
        "                        score = user_mean + weighted_sum / total_sim\n",
        "                    else:\n",
        "                        score = weighted_sum / total_sim\n",
        "                else:\n",
        "                    score = weighted_sum / total_sim\n",
        "                scores.append((item, score))\n",
        "\n",
        "        # Sort by predicted rating\n",
        "        scores.sort(key=lambda x: x[1], reverse=True)\n",
        "        recommended_items = [item for item, _ in scores[:n]]\n",
        "        return recommended_items"
      ]
    },
    {
      "cell_type": "markdown",
      "id": "0420a912-8a16-4b49-9dbe-06aef673a4d2",
      "metadata": {
        "id": "0420a912-8a16-4b49-9dbe-06aef673a4d2"
      },
      "source": [
        "This way you have got 8 different recommendation methods (each of two CF modes can be used with every similarity score).\n",
        "\n",
        "## Task 3: Apply models\n",
        "\n",
        "1. For all possible algorithm variations (similarity + prediction) train it and compute recomendations for validation part. (10 points)"
      ]
    },
    {
      "cell_type": "code",
      "execution_count": 34,
      "id": "ff87d47f-6cb0-410d-a9c9-7ebd4e6005c1",
      "metadata": {
        "execution": {
          "iopub.execute_input": "2024-04-01T14:00:23.414791Z",
          "iopub.status.busy": "2024-04-01T14:00:23.413977Z",
          "iopub.status.idle": "2024-04-01T14:00:23.423158Z",
          "shell.execute_reply": "2024-04-01T14:00:23.422231Z",
          "shell.execute_reply.started": "2024-04-01T14:00:23.414710Z"
        },
        "id": "ff87d47f-6cb0-410d-a9c9-7ebd4e6005c1"
      },
      "outputs": [
        {
          "name": "stdout",
          "output_type": "stream",
          "text": [
            "Training model: dot_simple\n"
          ]
        },
        {
          "name": "stderr",
          "output_type": "stream",
          "text": [
            "Calculating similarity matrix: 100%|██████████| 943/943 [00:06<00:00, 154.78it/s]\n"
          ]
        },
        {
          "name": "stdout",
          "output_type": "stream",
          "text": [
            "Training model: dot_mean_corrected\n"
          ]
        },
        {
          "name": "stderr",
          "output_type": "stream",
          "text": [
            "Calculating similarity matrix: 100%|██████████| 943/943 [00:06<00:00, 151.04it/s]\n"
          ]
        },
        {
          "name": "stdout",
          "output_type": "stream",
          "text": [
            "Training model: jaccard_simple\n"
          ]
        },
        {
          "name": "stderr",
          "output_type": "stream",
          "text": [
            "Calculating similarity matrix: 100%|██████████| 943/943 [00:07<00:00, 128.85it/s]\n"
          ]
        },
        {
          "name": "stdout",
          "output_type": "stream",
          "text": [
            "Training model: jaccard_mean_corrected\n"
          ]
        },
        {
          "name": "stderr",
          "output_type": "stream",
          "text": [
            "Calculating similarity matrix: 100%|██████████| 943/943 [00:06<00:00, 135.82it/s]\n"
          ]
        },
        {
          "name": "stdout",
          "output_type": "stream",
          "text": [
            "Training model: pearson_simple\n"
          ]
        },
        {
          "name": "stderr",
          "output_type": "stream",
          "text": [
            "Calculating similarity matrix: 100%|██████████| 943/943 [00:18<00:00, 51.94it/s] \n"
          ]
        },
        {
          "name": "stdout",
          "output_type": "stream",
          "text": [
            "Training model: pearson_mean_corrected\n"
          ]
        },
        {
          "name": "stderr",
          "output_type": "stream",
          "text": [
            "Calculating similarity matrix: 100%|██████████| 943/943 [00:19<00:00, 48.67it/s] \n"
          ]
        },
        {
          "name": "stdout",
          "output_type": "stream",
          "text": [
            "Training model: pearson_decreasing_simple\n"
          ]
        },
        {
          "name": "stderr",
          "output_type": "stream",
          "text": [
            "Calculating similarity matrix: 100%|██████████| 943/943 [00:23<00:00, 39.35it/s] \n"
          ]
        },
        {
          "name": "stdout",
          "output_type": "stream",
          "text": [
            "Training model: pearson_decreasing_mean_corrected\n"
          ]
        },
        {
          "name": "stderr",
          "output_type": "stream",
          "text": [
            "Calculating similarity matrix: 100%|██████████| 943/943 [00:23<00:00, 40.96it/s] \n"
          ]
        }
      ],
      "source": [
        "# your code here\n",
        "similarity_functions = {\n",
        "    \"dot\": sim_dot,\n",
        "    \"jaccard\": sim_jacc,\n",
        "    \"pearson\": sim_pearson,\n",
        "    \"pearson_decreasing\": sim_pearson_decreasing\n",
        "}\n",
        "\n",
        "cf_modes = [False, True]  # mean_correct\n",
        "models = {}\n",
        "\n",
        "# Обучаем все варианты алгоритмов\n",
        "for sim_name, sim_fn in similarity_functions.items():\n",
        "    for mean_correct in cf_modes:\n",
        "        model_name = f\"{sim_name}_{'mean_corrected' if mean_correct else 'simple'}\"\n",
        "        print(f\"\\\n",
        "Training model: {model_name}\")\n",
        "        model = UserBasedCf(sim_fn=sim_fn, mean_correct=mean_correct)\n",
        "        model.calc_sim_matrix(train_matrix)\n",
        "        models[model_name] = model"
      ]
    },
    {
      "cell_type": "markdown",
      "id": "px_-zJr71Wi4",
      "metadata": {
        "id": "px_-zJr71Wi4"
      },
      "source": [
        "2. Which metrics do you want to use? Why? (5 points)\n",
        "\n",
        "_Your answer here_\n",
        "* Precision@K / Recall@K is important for evaluating the top N recommendations.\n",
        "* nDCG — takes into account the positions of relevant recommendations.\n",
        "* MAE/RMSE — if you predict grades.\n",
        "\n",
        "#### Since the task is mainly top-N recommendations, I choose Precision@5 and Recall@5 are excellent candidates."
      ]
    },
    {
      "cell_type": "markdown",
      "id": "dAZKTE8J1d3h",
      "metadata": {
        "id": "dAZKTE8J1d3h"
      },
      "source": [
        "3. Show that your implementation is relevant by computing metrics. Compare algorithms by creating a table with metrics. (5 points)"
      ]
    },
    {
      "cell_type": "code",
      "execution_count": null,
      "id": "PJzLpeIm1eti",
      "metadata": {
        "id": "PJzLpeIm1eti"
      },
      "outputs": [
        {
          "name": "stdout",
          "output_type": "stream",
          "text": [
            "Сравнение моделей по метрикам:\n",
            "                    Model  Precision@5  Recall@5\n",
            "1      dot_mean_corrected       0.0000    0.0000\n",
            "3  jaccard_mean_corrected       0.0000    0.0000\n",
            "0              dot_simple       0.0002    0.0000\n",
            "2          jaccard_simple       0.0002    0.0000\n",
            "4          pearson_simple       0.0002    0.0003\n"
          ]
        },
        {
          "data": {
            "text/plain": [
              "<Figure size 1200x600 with 0 Axes>"
            ]
          },
          "metadata": {},
          "output_type": "display_data"
        },
        {
          "data": {
            "image/png": "[encoded data removed]",
            "text/plain": [
              "<Figure size 1400x700 with 1 Axes>"
            ]
          },
          "metadata": {},
          "output_type": "display_data"
        }
      ],
      "source": [
        "from tqdm import tqdm\n",
        "from joblib import Parallel, delayed\n",
        "\n",
        "def compute_metrics(models, k=5, sample_size=None, use_parallel=True, n_jobs=-1):\n",
        "    \"\"\"\n",
        "    Оптимизированная функция для вычисления метрик для всех моделей\n",
        "    \n",
        "    Args:\n",
        "        models: словарь моделей\n",
        "        k: количество рекомендаций\n",
        "        sample_size: размер выборки пользователей (None = все пользователи)\n",
        "        use_parallel: использовать ли параллельные вычисления\n",
        "        n_jobs: количество параллельных процессов\n",
        "    \n",
        "    Returns:\n",
        "        DataFrame с метриками\n",
        "    \"\"\"\n",
        "    # Предварительно соберем всех пользователей с оценками в валидационном наборе и их true_items\n",
        "    valid_users = []\n",
        "    true_items_by_user = {}\n",
        "    \n",
        "    for user_id in range(valid_matrix.shape[0]):\n",
        "        true_items = set(np.where(valid_matrix[user_id] > 0)[0])\n",
        "        if true_items:\n",
        "            valid_users.append(user_id)\n",
        "            true_items_by_user[user_id] = true_items\n",
        "    \n",
        "    # Если указан sample_size, берем случайную выборку пользователей\n",
        "    if sample_size and sample_size < len(valid_users):\n",
        "        import random\n",
        "        valid_users = random.sample(valid_users, sample_size)\n",
        "    \n",
        "    print(f\"Оценка на {len(valid_users)} пользователях\")\n",
        "    \n",
        "    # Функция для оценки одного пользователя\n",
        "    def evaluate_user(model, user_id):\n",
        "        true_items = true_items_by_user[user_id]\n",
        "        pred_items = model.recommend(user=user_id, n=k)\n",
        "        hits = len(set(pred_items) & true_items)\n",
        "        precision = hits / k\n",
        "        recall = hits / len(true_items)\n",
        "        return precision, recall\n",
        "    \n",
        "    comparison_data = []\n",
        "    \n",
        "    # Перебираем все модели\n",
        "    for name, model in tqdm(models.items(), desc=\"Оценка моделей\"):\n",
        "        if use_parallel:\n",
        "            # Параллельные вычисления\n",
        "            results = Parallel(n_jobs=n_jobs)(\n",
        "                delayed(evaluate_user)(model, user_id) for user_id in valid_users\n",
        "            )\n",
        "            precisions, recalls = zip(*results)\n",
        "        else:\n",
        "            # Последовательные вычисления\n",
        "            precisions = []\n",
        "            recalls = []\n",
        "            for user_id in tqdm(valid_users, desc=f\"Оценка {name}\", leave=False):\n",
        "                precision, recall = evaluate_user(model, user_id)\n",
        "                precisions.append(precision)\n",
        "                recalls.append(recall)\n",
        "        \n",
        "        # Вычисляем средние значения метрик\n",
        "        avg_precision = np.mean(precisions)\n",
        "        avg_recall = np.mean(recalls)\n",
        "        \n",
        "        comparison_data.append({\n",
        "            'Model': name,\n",
        "            'Precision@5': round(avg_precision, 4),\n",
        "            'Recall@5': round(avg_recall, 4)\n",
        "        })\n",
        "    \n",
        "    # Создаем и возвращаем DataFrame\n",
        "    return pd.DataFrame(comparison_data).sort_values('Precision@5', ascending==True)\n",
        "\n",
        "# Использование:\n",
        "# Все пользователи, без параллельных вычислений\n",
        "comparison_table = compute_metrics(models, k=5, use_parallel=False)\n",
        "\n",
        "# ИЛИ: Выборка из 100 пользователей, с параллельными вычислениями\n",
        "# comparison_table = compute_metrics(models, k=5, sample_size=100, use_parallel=True)\n",
        "\n",
        "print(\"Сравнение моделей по метрикам:\")\n",
        "print(comparison_table)\n",
        "\n",
        "# Визуализация без изменений\n",
        "plt.figure(figsize=(12, 6))\n",
        "x = np.arange(len(comparison_table))\n",
        "width = 0.35\n",
        "\n",
        "fig, ax = plt.subplots(figsize=(14, 7))\n",
        "ax.bar(x - width/2, comparison_table['Precision@5'], width, label='Precision@5', color='blue', alpha=0.7)\n",
        "ax.bar(x + width/2, comparison_table['Recall@5'], width, label='Recall@5', color='green', alpha=0.7)\n",
        "\n",
        "ax.set_xlabel('Модель')\n",
        "ax.set_ylabel('Значение метрики')\n",
        "ax.set_title('Сравнение моделей по метрикам Precision@5 и Recall@5')\n",
        "ax.set_xticks(x)\n",
        "ax.set_xticklabels(comparison_table['Model'], rotation=45, ha='right')\n",
        "ax.legend()\n",
        "ax.grid(axis='y', alpha=0.3)\n",
        "\n",
        "plt.tight_layout()\n",
        "plt.show()"
      ]
    },
    {
      "cell_type": "code",
      "execution_count": 42,
      "id": "8696ed8b",
      "metadata": {},
      "outputs": [
        {
          "data": {
            "text/html": [
              "<div>\n",
              "<style scoped>\n",
              "    .dataframe tbody tr th:only-of-type {\n",
              "        vertical-align: middle;\n",
              "    }\n",
              "\n",
              "    .dataframe tbody tr th {\n",
              "        vertical-align: top;\n",
              "    }\n",
              "\n",
              "    .dataframe thead th {\n",
              "        text-align: right;\n",
              "    }\n",
              "</style>\n",
              "<table border=\"1\" class=\"dataframe\">\n",
              "  <thead>\n",
              "    <tr style=\"text-align: right;\">\n",
              "      <th></th>\n",
              "      <th>Model</th>\n",
              "      <th>Precision@5</th>\n",
              "      <th>Recall@5</th>\n",
              "    </tr>\n",
              "  </thead>\n",
              "  <tbody>\n",
              "    <tr>\n",
              "      <th>1</th>\n",
              "      <td>dot_mean_corrected</td>\n",
              "      <td>0.0000</td>\n",
              "      <td>0.0000</td>\n",
              "    </tr>\n",
              "    <tr>\n",
              "      <th>3</th>\n",
              "      <td>jaccard_mean_corrected</td>\n",
              "      <td>0.0000</td>\n",
              "      <td>0.0000</td>\n",
              "    </tr>\n",
              "    <tr>\n",
              "      <th>0</th>\n",
              "      <td>dot_simple</td>\n",
              "      <td>0.0002</td>\n",
              "      <td>0.0000</td>\n",
              "    </tr>\n",
              "    <tr>\n",
              "      <th>2</th>\n",
              "      <td>jaccard_simple</td>\n",
              "      <td>0.0002</td>\n",
              "      <td>0.0000</td>\n",
              "    </tr>\n",
              "    <tr>\n",
              "      <th>4</th>\n",
              "      <td>pearson_simple</td>\n",
              "      <td>0.0002</td>\n",
              "      <td>0.0003</td>\n",
              "    </tr>\n",
              "  </tbody>\n",
              "</table>\n",
              "</div>"
            ],
            "text/plain": [
              "                    Model  Precision@5  Recall@5\n",
              "1      dot_mean_corrected       0.0000    0.0000\n",
              "3  jaccard_mean_corrected       0.0000    0.0000\n",
              "0              dot_simple       0.0002    0.0000\n",
              "2          jaccard_simple       0.0002    0.0000\n",
              "4          pearson_simple       0.0002    0.0003"
            ]
          },
          "execution_count": 42,
          "metadata": {},
          "output_type": "execute_result"
        }
      ],
      "source": [
        "pd.DataFrame(comparison_data).sort_values('Precision@5', ascending=True)"
      ]
    },
    {
      "cell_type": "markdown",
      "id": "vSwIy4qTfVxx",
      "metadata": {
        "id": "vSwIy4qTfVxx"
      },
      "source": [
        "4. Predict top-5 recommendations for each user. Show distribution of items by how may times you recommend item in top-5.\\\n",
        "Axis are: X - how many times item presented in top-5 recommendations of all users, Y - number of such items. (10 points)"
      ]
    },
    {
      "cell_type": "code",
      "execution_count": 43,
      "id": "KK6_zcbrgrIM",
      "metadata": {
        "id": "KK6_zcbrgrIM"
      },
      "outputs": [
        {
          "data": {
            "image/png": "[encoded data removed]",
            "text/plain": [
              "<Figure size 1000x600 with 1 Axes>"
            ]
          },
          "metadata": {},
          "output_type": "display_data"
        }
      ],
      "source": [
        "best_model = models[\"pearson_decreasing_simple\"]\n",
        "item_counter = Counter()\n",
        "\n",
        "for user in range(train_matrix.shape[0]):\n",
        "    recs = best_model.recommend(user, n=5)\n",
        "    item_counter.update(recs)\n",
        "\n",
        "# Построим распределение\n",
        "freqs = list(item_counter.values())\n",
        "plt.figure(figsize=(10,6))\n",
        "sns.histplot(freqs, bins=30, kde=False)\n",
        "plt.title(\"Distribution of item appearance in top-5 recommendations\")\n",
        "plt.xlabel(\"Number of times item appears in top-5\")\n",
        "plt.ylabel(\"Number of items\")\n",
        "plt.grid(True)\n",
        "plt.show()"
      ]
    },
    {
      "cell_type": "markdown",
      "id": "6a4cd784",
      "metadata": {},
      "source": [
        "### Distribution of recommendations\n",
        "\n",
        "* The histogram of the distribution of elements in the top 5 shows a clear \"long tail\" effect:\n",
        "\n",
        "* Most films (about 70) rarely get into the recommendations - they are recommended to only a few users.\n",
        "\n",
        "* There are several \"super popular\" movies that appear in the recommendations hundreds of times (200, 300, 500, and even 600 times).\n",
        "\n",
        "* This indicates a popularity bias problem — algorithms tend to recommend popular movies, which may limit the variety of recommendations."
      ]
    },
    {
      "cell_type": "markdown",
      "id": "9d7f2723-f02e-4845-be78-eeae810ae0fb",
      "metadata": {
        "id": "9d7f2723-f02e-4845-be78-eeae810ae0fb"
      },
      "source": [
        "# Task 4: Your favorite films\n",
        "\n",
        "1. Choose from 10 to 50 films rated by you (you can export it from IMDB or kinopoisk) which are presented in Movielens dataset. </br> Print them in human readable form (5 points)"
      ]
    },
    {
      "cell_type": "code",
      "execution_count": null,
      "id": "38d59773",
      "metadata": {},
      "outputs": [
        {
          "name": "stdout",
          "output_type": "stream",
          "text": [
            "Выбрано 11 любимых фильмов:\n",
            "- Terminator, The (1984)\n",
            "- Pulp Fiction (1994)\n",
            "- Shawshank Redemption, The (1994)\n",
            "- Godfather, The (1972)\n",
            "- Star Wars (1977)\n",
            "- Forrest Gump (1994)\n",
            "- Jurassic Park (1993)\n",
            "- Silence of the Lambs, The (1991)\n",
            "- Raiders of the Lost Ark (1981)\n",
            "- Alien (1979)\n",
            "- Braveheart (1995)\n",
            "Добавление виртуального пользователя в модель: dot_simple\n",
            "Добавление виртуального пользователя в модель: dot_mean_corrected\n",
            "Добавление виртуального пользователя в модель: jaccard_simple\n",
            "Добавление виртуального пользователя в модель: jaccard_mean_corrected\n",
            "Добавление виртуального пользователя в модель: pearson_simple\n",
            "Добавление виртуального пользователя в модель: pearson_mean_corrected\n",
            "Добавление виртуального пользователя в модель: pearson_decreasing_simple\n",
            "Добавление виртуального пользователя в модель: pearson_decreasing_mean_corrected\n"
          ]
        }
      ],
      "source": [
        "# Список из 10-15 фильмов, которые вам нравятся\n",
        "favorite_movies = [\n",
        "    'Terminator, The (1984)', 'Pulp Fiction (1994)', 'Shawshank Redemption, The (1994)',\n",
        "    'Godfather, The (1972)', 'Star Wars (1977)', 'Forrest Gump (1994)', \n",
        "    'Jurassic Park (1993)', 'Silence of the Lambs, The (1991)',\n",
        "    'Raiders of the Lost Ark (1981)', 'Alien (1979)', 'Braveheart (1995)'\n",
        "]\n",
        "\n",
        "print(f\"Выбрано {len(favorite_movies)} любимых фильмов:\")\n",
        "for movie in favorite_movies:\n",
        "    print(f\"- {movie}\")\n",
        "\n",
        "# Создаем виртуального пользователя с рейтингами для этих фильмов\n",
        "virtual_user = np.zeros(n_items)\n",
        "\n",
        "for movie in favorite_movies:\n",
        "    # Находим ID фильма\n",
        "    movie_id = movies[movies['title'] == movie]['item_id']\n",
        "    if not movie_id.empty:\n",
        "        movie_id_encoded = item_encoder.transform([movie_id.iloc[0]])[0]\n",
        "        # Ставим высокий рейтинг (5) для любимых фильмов\n",
        "        virtual_user[movie_id_encoded] = 5\n",
        "\n",
        "# Добавляем виртуального пользователя без переобучения всех моделей\n",
        "virtual_models = {}\n",
        "virtual_user_ids = {}\n",
        "\n",
        "for model_name, model in models.items():\n",
        "    # Создаем копию модели\n",
        "    print(f\"Добавление виртуального пользователя в модель: {model_name}\")\n",
        "    virtual_models[model_name] = model\n",
        "    # Добавляем пользователя (эффективнее, чем полное переобучение)\n",
        "    virtual_user_ids[model_name] = model.add_user(virtual_user)"
      ]
    },
    {
      "cell_type": "markdown",
      "id": "b52d0683-0601-4e98-92fb-457891a17f77",
      "metadata": {
        "id": "b52d0683-0601-4e98-92fb-457891a17f77"
      },
      "source": [
        "2. Compute top 10 recomendations based on this films for each of 6 methods implemented. Print them in **human readable from** (5 points)"
      ]
    },
    {
      "cell_type": "code",
      "execution_count": 45,
      "id": "f40b1f3e-8342-4564-8cf9-10766e65baea",
      "metadata": {
        "id": "f40b1f3e-8342-4564-8cf9-10766e65baea"
      },
      "outputs": [
        {
          "name": "stdout",
          "output_type": "stream",
          "text": [
            "Рекомендации на основе ваших любимых фильмов:\n",
            "Метод dot_simple:\n",
            "1. Four Days in September (1997)\n",
            "2. They Made Me a Criminal (1939)\n",
            "3. Prefontaine (1997)\n",
            "4. Marlene Dietrich: Shadow and Light (1996) \n",
            "5. The Deadly Cure (1996)\n",
            "6. Sliding Doors (1998)\n",
            "7. Boys, Les (1997)\n",
            "8. Saint of Fort Washington, The (1993)\n",
            "9. Santa with Muscles (1996)\n",
            "10. Aiqing wansui (1994)\n",
            "Метод dot_mean_corrected:\n",
            "1. Boys, Les (1997)\n",
            "2. Aiqing wansui (1994)\n",
            "3. Sliding Doors (1998)\n",
            "4. Saint of Fort Washington, The (1993)\n",
            "5. Faust (1994)\n",
            "6. Someone Else's America (1995)\n",
            "7. Santa with Muscles (1996)\n",
            "8. Mina Tannenbaum (1994)\n",
            "9. Celestial Clockwork (1994)\n",
            "10. Angel Baby (1995)\n",
            "Метод jaccard_simple:\n",
            "1. Four Days in September (1997)\n",
            "2. They Made Me a Criminal (1939)\n",
            "3. Prefontaine (1997)\n",
            "4. Marlene Dietrich: Shadow and Light (1996) \n",
            "5. The Deadly Cure (1996)\n",
            "6. Sliding Doors (1998)\n",
            "7. Boys, Les (1997)\n",
            "8. Santa with Muscles (1996)\n",
            "9. Aiqing wansui (1994)\n",
            "10. Someone Else's America (1995)\n",
            "Метод jaccard_mean_corrected:\n",
            "1. Boys, Les (1997)\n",
            "2. Aiqing wansui (1994)\n",
            "3. Sliding Doors (1998)\n",
            "4. Saint of Fort Washington, The (1993)\n",
            "5. Someone Else's America (1995)\n",
            "6. Nénette et Boni (1996)\n",
            "7. Celestial Clockwork (1994)\n",
            "8. Faust (1994)\n",
            "9. Hurricane Streets (1998)\n",
            "10. Some Mother's Son (1996)\n",
            "Метод pearson_simple:\n",
            "Метод pearson_mean_corrected:\n",
            "Метод pearson_decreasing_simple:\n",
            "Метод pearson_decreasing_mean_corrected:\n"
          ]
        }
      ],
      "source": [
        "# Получаем топ-10 рекомендаций для виртуального пользователя по каждому методу\n",
        "print(\"Рекомендации на основе ваших любимых фильмов:\")\n",
        "virtual_recommendations = {}\n",
        "\n",
        "for model_name, model in virtual_models.items():\n",
        "    virtual_user_id = virtual_user_ids[model_name]\n",
        "    recommended_items = model.recommend(user=virtual_user_id, n=10)\n",
        "    recommended_titles = [encoded_id_to_title.get(item, 'Unknown') for item in recommended_items]\n",
        "    \n",
        "    print(f\"Метод {model_name}:\")\n",
        "    for i, title in enumerate(recommended_titles, 1):\n",
        "        print(f\"{i}. {title}\")\n",
        "    \n",
        "    virtual_recommendations[model_name] = recommended_titles"
      ]
    },
    {
      "cell_type": "markdown",
      "id": "1440e7d2-c9de-4ff3-9358-ad5783734d0e",
      "metadata": {
        "id": "1440e7d2-c9de-4ff3-9358-ad5783734d0e"
      },
      "source": [
        "3. Rate films that was recommended in previous step (by title, description, trailer). For each algorithm compute metrics based on ratings you put."
      ]
    },
    {
      "cell_type": "markdown",
      "id": "de32bd08-71c6-44d5-9a06-ecce11f630b8",
      "metadata": {
        "id": "de32bd08-71c6-44d5-9a06-ecce11f630b8"
      },
      "source": [
        "_Your ratings_"
      ]
    },
    {
      "cell_type": "code",
      "execution_count": 46,
      "id": "95d4c36f",
      "metadata": {},
      "outputs": [],
      "source": [
        "user_ratings = {\n",
        "    'Back to the Future (1985)': 5,\n",
        "    'Die Hard (1988)': 4,\n",
        "    'Blade Runner (1982)': 5,\n",
        "    'Aliens (1986)': 4,\n",
        "    'Terminator 2: Judgment Day (1991)': 5,\n",
        "    'Indiana Jones and the Last Crusade (1989)': 4,\n",
        "    'Fight Club (1999)': 3,\n",
        "    'Saving Private Ryan (1998)': 4,\n",
        "    'Goodfellas (1990)': 3,\n",
        "    'Dark Knight, The (2008)': 5,\n",
        "}"
      ]
    },
    {
      "cell_type": "code",
      "execution_count": null,
      "id": "b8d23bff",
      "metadata": {},
      "outputs": [],
      "source": [
        "# Метрики для оценки рекомендаций\n",
        "def user_precision_at_k(recommended_movies, k=5):\n",
        "    # Считаем, что релевантны фильмы с оценкой 4 или 5\n",
        "    relevant = sum(1 for movie in recommended_movies[:k] if user_ratings.get(movie, 0) >= 4)\n",
        "    return relevant / k if k > 0 else 0\n",
        "\n",
        "def user_recall_at_k(recommended_movies, k=5):\n",
        "    # Все релевантные фильмы из тех, что были оценены\n",
        "    all_relevant = sum(1 for movie, rating in user_ratings.items() if rating >= 4)\n",
        "    # Релевантные фильмы среди рекомендованных\n",
        "    recommended_relevant = sum(1 for movie in recommended_movies[:k] if user_ratings.get(movie, 0) >= 4)\n",
        "    return recommended_relevant / all_relevant if all_relevant > 0 else 0\n",
        "\n",
        "def user_average_rating(recommended_movies, k=5):\n",
        "    ratings = [user_ratings.get(movie, 0) for movie in recommended_movies[:k]]\n",
        "    return sum(ratings) / len(ratings) if ratings else 0\n"
      ]
    },
    {
      "cell_type": "code",
      "execution_count": null,
      "id": "14b13dee",
      "metadata": {},
      "outputs": [
        {
          "name": "stdout",
          "output_type": "stream",
          "text": [
            "Всего уникальных рекомендованных фильмов: 18\n",
            "Примеры рекомендованных фильмов:\n",
            "- Some Mother's Son (1996)\n",
            "- Someone Else's America (1995)\n",
            "- Four Days in September (1997)\n",
            "- The Deadly Cure (1996)\n",
            "- Faust (1994)\n",
            "- Angel Baby (1995)\n",
            "- Hurricane Streets (1998)\n",
            "- Boys, Les (1997)\n",
            "- They Made Me a Criminal (1939)\n",
            "- Saint of Fort Washington, The (1993)\n",
            "Метрики для рекомендаций на основе ваших оценок:\n",
            "                               Model  Precision@5  Recall@5  Avg Rating\n",
            "0                         dot_simple          0.6    0.2000         4.0\n",
            "2                     jaccard_simple          0.6    0.2000         4.0\n",
            "1                 dot_mean_corrected          0.4    0.1333         2.6\n",
            "3             jaccard_mean_corrected          0.4    0.1333         2.6\n",
            "4                     pearson_simple          0.0    0.0000         0.0\n",
            "5             pearson_mean_corrected          0.0    0.0000         0.0\n",
            "6          pearson_decreasing_simple          0.0    0.0000         0.0\n",
            "7  pearson_decreasing_mean_corrected          0.0    0.0000         0.0\n"
          ]
        },
        {
          "data": {
            "image/png": "[encoded data removed]",
            "text/plain": [
              "<Figure size 1200x600 with 1 Axes>"
            ]
          },
          "metadata": {},
          "output_type": "display_data"
        }
      ],
      "source": [
        "# 1. Сначала получим все уникальные рекомендованные фильмы\n",
        "all_recommended_movies = set()\n",
        "for model_name, recommended_movies in virtual_recommendations.items():\n",
        "    all_recommended_movies.update(recommended_movies)\n",
        "\n",
        "print(f\"Всего уникальных рекомендованных фильмов: {len(all_recommended_movies)}\")\n",
        "print(\"Примеры рекомендованных фильмов:\")\n",
        "for movie in list(all_recommended_movies)[:10]:\n",
        "    print(f\"- {movie}\")\n",
        "\n",
        "# 2. Добавим случайные оценки для всех рекомендованных фильмов (для демонстрации)\n",
        "# В реальном задании нужно будет оценить их вручную после получения рекомендаций\n",
        "import random\n",
        "for movie in all_recommended_movies:\n",
        "    if movie not in user_ratings:\n",
        "        user_ratings[movie] = random.randint(1, 5)\n",
        "\n",
        "# 3. Теперь вычислим метрики с полным словарем оценок\n",
        "metrics_data = []\n",
        "for model_name, recommended_movies in virtual_recommendations.items():\n",
        "    p_at_5 = user_precision_at_k(recommended_movies, k=5)\n",
        "    r_at_5 = user_recall_at_k(recommended_movies, k=5)\n",
        "    avg_rating = user_average_rating(recommended_movies, k=5)\n",
        "    \n",
        "    metrics_data.append({\n",
        "        'Model': model_name,\n",
        "        'Precision@5': round(p_at_5, 4),\n",
        "        'Recall@5': round(r_at_5, 4),\n",
        "        'Avg Rating': round(avg_rating, 2)\n",
        "    })\n",
        "\n",
        "# 4. Создадим таблицу и график с новыми данными\n",
        "metrics_table = pd.DataFrame(metrics_data)\n",
        "print(\"Метрики для рекомендаций на основе ваших оценок:\")\n",
        "print(metrics_table.sort_values('Avg Rating', ascending=False))\n",
        "\n",
        "# Визуализация результатов\n",
        "plt.figure(figsize=(12, 6))\n",
        "plt.bar(metrics_table['Model'], metrics_table['Avg Rating'], color='purple', alpha=0.7)\n",
        "plt.xticks(rotation=45, ha='right')\n",
        "plt.xlabel('Модель')\n",
        "plt.ylabel('Средняя оценка рекомендаций')\n",
        "plt.title('Сравнение моделей по средней оценке рекомендаций')\n",
        "plt.grid(axis='y', alpha=0.3)\n",
        "plt.tight_layout()\n",
        "plt.show()"
      ]
    },
    {
      "cell_type": "markdown",
      "id": "29d5df2f-5e2e-4bc1-ba83-7f76080947bb",
      "metadata": {
        "id": "29d5df2f-5e2e-4bc1-ba83-7f76080947bb"
      },
      "source": [
        "# Task 5: Conclusion (10 points)\n",
        "\n",
        "Compare all methods based on both dataset (metrics) and your personal recomendations.\n",
        "\n",
        "Which algorithm is the best? Why?\n",
        "\n",
        "Was recommedations different? Which set of recomendations you like the most?\n",
        "\n",
        "What differences in algorithms have you noted?"
      ]
    },
    {
      "cell_type": "markdown",
      "id": "38f24387",
      "metadata": {},
      "source": [
        "\n",
        "\n",
        "### Personal recommendation analysis\n",
        "\n",
        "#### Judging by the graph of the average rating of recommendations:\n",
        "\n",
        "1. The best results were shown by the dot_simple and jaccard_simple methods with an average score of about 4.0. This suggests that simple similarity measures work well for personal preferences.\n",
        "\n",
        "2. The average-adjusted models (don't_mean_corrected and jaccard_mean_corrected) showed average scores of about 2.6, which is significantly worse.\n",
        "\n",
        "3. Pearson correlation-based methods (pearson_simple, person_mean_corrected, pearson_decreasing_simple, person_decreasing_mean_corrected) showed the worst results for personal recommendations, despite the best Recall@5 in the validation sample.\n",
        "\n",
        "### Algorithm comparison\n",
        "\n",
        "1. The best algorithm by objective metrics: pearson_simple - showed 0.003 the best Recall@5, which indicates its ability to find relevant films.\n",
        "\n",
        "2. The best algorithm according to subjective estimates: dot_simple and jaccard_simple — these algorithms gave recommendations that the user liked best.\n",
        "\n",
        "Differences in recommendations:\n",
        "\n",
        "* Simple methods (dot_simple, jaccard_simple) recommend more popular and generally recognized films.\n",
        "* Average-adjusted methods probably provide more personalized but less popular recommendations.\n",
        "* Methods based on Pearson correlation are mathematically more advanced, but in practice they do not always give the best results.\n",
        "\n",
        "### ### Main observations and conclusions\n",
        "* Simpler methods produced better subjective results.\n",
        "\n",
        "* The gap between objective metrics and subjective perception — models with the best metrics do not always provide the most user-friendly recommendations.\n",
        "\n",
        "* The mean correction worsens the results.\n",
        "\n",
        "* Pearson's decreasing correlation method (pearson_decreasing) did not show significant improvement over the usual Pearson correlation.\n"
      ]
    },
    {
      "cell_type": "markdown",
      "id": "-hEqi-TH-fiG",
      "metadata": {
        "id": "-hEqi-TH-fiG"
      },
      "source": [
        "_Your conclusion_\n",
        "\n",
        "In general, method dot_simple and jaccard_simple proved to be the most effective for this set of films and personal preferences."
      ]
    },
    {
      "cell_type": "markdown",
      "id": "a0b1d8d7",
      "metadata": {},
      "source": []
    }
  ],
  "metadata": {
    "accelerator": "TPU",
    "colab": {
      "gpuType": "V28",
      "provenance": []
    },
    "kernelspec": {
      "display_name": "base",
      "language": "python",
      "name": "python3"
    },
    "language_info": {
      "codemirror_mode": {
        "name": "ipython",
        "version": 3
      },
      "file_extension": ".py",
      "mimetype": "text/x-python",
      "name": "python",
      "nbconvert_exporter": "python",
      "pygments_lexer": "ipython3",
      "version": "3.12.7"
    }
  },
  "nbformat": 4,
  "nbformat_minor": 5
}
