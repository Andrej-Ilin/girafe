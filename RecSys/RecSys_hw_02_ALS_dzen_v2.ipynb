{
  "cells": [
    {
      "cell_type": "markdown",
      "id": "aaf10263",
      "metadata": {
        "id": "aaf10263"
      },
      "source": [
        "# ALS applications"
      ]
    },
    {
      "cell_type": "markdown",
      "id": "b7468264",
      "metadata": {
        "id": "b7468264"
      },
      "source": [
        "## Dzen dataset\n",
        "\n",
        "Data comes from [dzen.ru](https://dzen.ru/) site and consists of likes which users put to text articles\n",
        "\n",
        "### Columns\n",
        "1. item_id - unique id of an item (article)\n",
        "2. user_id - unique id of a user\n",
        "3. source_id - unique id of an author. If two items have same source_id, then they come from one author\n",
        "4. Name of item is name of the article\n",
        "5. Raw dataset represents user_id and list of item_ids which user liked"
      ]
    },
    {
      "cell_type": "code",
      "execution_count": null,
      "id": "564cb47b-ba99-40d2-a0c4-9987cefe1253",
      "metadata": {
        "id": "564cb47b-ba99-40d2-a0c4-9987cefe1253",
        "outputId": "f606a418-ae87-4b23-9c4b-ed10ae0596b8"
      },
      "outputs": [
        {
          "name": "stdout",
          "output_type": "stream",
          "text": [
            "  % Total    % Received % Xferd  Average Speed   Time    Time     Time  Current\n",
            "                                 Dload  Upload   Total   Spent    Left  Speed\n",
            "100    60    0    60    0     0    183      0 --:--:-- --:--:-- --:--:--   185\n",
            "100   320  100   320    0     0    394      0 --:--:-- --:--:-- --:--:--   394\n",
            "100 24.0M  100 24.0M    0     0   109k      0  0:03:45  0:03:45 --:--:--  161k3:35  0:00:05  0:03:30  153k  6 1552k    0     0   109k      0  0:03:44  0:00:14  0:03:30  124k      0  0:03:56  0:00:46  0:03:10  127k0     0   102k      0  0:04:01  0:01:12  0:02:49 85128k      0  0:04:01  0:01:22  0:02:39 94913   103k      0  0:03:58  0:01:31  0:02:27  114k 102k      0  0:03:59  0:01:32  0:02:27 94385M   43 10.4M    0     0   100k      0  0:04:04  0:01:46  0:02:18 81952 0   102k      0  0:04:00  0:02:12  0:01:48  137k.0M   55 13.4M    0     0   102k      0  0:04:00  0:02:14  0:01:46   98k.2M    0     0   103k      0  0:03:57  0:02:20  0:01:37  146k 14.5M    0     0   104k      0  0:03:56  0:02:22  0:01:34  164k     0   106k      0  0:03:52  0:02:36  0:01:16 9980107k      0  0:03:49  0:02:54  0:00:55  131k 0   107k      0  0:03:49  0:02:56  0:00:53 9531107k      0  0:03:49  0:03:08  0:00:41 89967   0     0   108k      0  0:03:46  0:03:37  0:00:09  103k\n",
            "Archive:  zen_dataset.zip\n",
            "  inflating: zen_item_to_name.csv    \n",
            "  inflating: zen_item_to_source.csv  \n",
            "  inflating: zen_ratings.csv         \n"
          ]
        }
      ],
      "source": [
        "# !curl -O -J -L 'https://www.dropbox.com/s/ia4bvhuqg8kesee/zen_dataset.zip?dl=1'\n",
        "# !unzip zen_dataset.zip"
      ]
    },
    {
      "cell_type": "code",
      "execution_count": 23,
      "id": "51630f5f",
      "metadata": {
        "ExecuteTime": {
          "end_time": "2023-06-07T21:31:43.942096Z",
          "start_time": "2023-06-07T21:31:43.139524Z"
        },
        "execution": {
          "iopub.execute_input": "2024-03-21T10:51:45.412325Z",
          "iopub.status.busy": "2024-03-21T10:51:45.411479Z",
          "iopub.status.idle": "2024-03-21T10:51:45.790251Z",
          "shell.execute_reply": "2024-03-21T10:51:45.789486Z",
          "shell.execute_reply.started": "2024-03-21T10:51:45.412266Z"
        },
        "id": "51630f5f"
      },
      "outputs": [],
      "source": [
        "import numpy as np\n",
        "import pandas as pd\n",
        "import scipy.sparse as sp\n",
        "from tqdm.notebook import tqdm\n",
        "import ast\n",
        "import matplotlib.pyplot as plt\n",
        "from sklearn.metrics.pairwise import cosine_similarity\n",
        "import implicit"
      ]
    },
    {
      "cell_type": "code",
      "execution_count": 24,
      "id": "90965805",
      "metadata": {
        "ExecuteTime": {
          "end_time": "2023-06-07T21:31:45.414950Z",
          "start_time": "2023-06-07T21:31:44.581759Z"
        },
        "execution": {
          "iopub.execute_input": "2024-03-21T10:21:38.347864Z",
          "iopub.status.busy": "2024-03-21T10:21:38.346423Z",
          "iopub.status.idle": "2024-03-21T10:21:49.584167Z",
          "shell.execute_reply": "2024-03-21T10:21:49.583861Z",
          "shell.execute_reply.started": "2024-03-21T10:21:38.347806Z"
        },
        "id": "90965805"
      },
      "outputs": [
        {
          "name": "stderr",
          "output_type": "stream",
          "text": [
            "Exception ignored in: <function tqdm.__del__ at 0x7b2a85df40d0>\n",
            "Traceback (most recent call last):\n",
            "  File \"/home/andrej/anaconda3/envs/recsys-env/lib/python3.10/site-packages/tqdm/std.py\", line 1148, in __del__\n",
            "    self.close()\n",
            "  File \"/home/andrej/anaconda3/envs/recsys-env/lib/python3.10/site-packages/tqdm/notebook.py\", line 279, in close\n",
            "    self.disp(bar_style='danger', check_delay=False)\n",
            "AttributeError: 'tqdm_notebook' object has no attribute 'disp'\n"
          ]
        }
      ],
      "source": [
        "item_names = pd.read_csv(\"zen_item_to_name.csv\")\n",
        "item_sources = pd.read_csv(\"zen_item_to_source.csv\")\n",
        "dataset = pd.read_csv(\"zen_ratings.csv\", converters={'item_ids': ast.literal_eval})"
      ]
    },
    {
      "cell_type": "code",
      "execution_count": 25,
      "id": "772f1375",
      "metadata": {
        "ExecuteTime": {
          "end_time": "2023-06-07T21:31:46.293533Z",
          "start_time": "2023-06-07T21:31:46.269174Z"
        },
        "execution": {
          "iopub.execute_input": "2024-03-21T10:24:26.237474Z",
          "iopub.status.busy": "2024-03-21T10:24:26.236626Z",
          "iopub.status.idle": "2024-03-21T10:24:26.257193Z",
          "shell.execute_reply": "2024-03-21T10:24:26.256761Z",
          "shell.execute_reply.started": "2024-03-21T10:24:26.237441Z"
        },
        "id": "772f1375",
        "outputId": "b7166c31-72e7-48d5-e7f6-c56f4a55382e"
      },
      "outputs": [
        {
          "data": {
            "text/html": [
              "<div>\n",
              "<style scoped>\n",
              "    .dataframe tbody tr th:only-of-type {\n",
              "        vertical-align: middle;\n",
              "    }\n",
              "\n",
              "    .dataframe tbody tr th {\n",
              "        vertical-align: top;\n",
              "    }\n",
              "\n",
              "    .dataframe thead th {\n",
              "        text-align: right;\n",
              "    }\n",
              "</style>\n",
              "<table border=\"1\" class=\"dataframe\">\n",
              "  <thead>\n",
              "    <tr style=\"text-align: right;\">\n",
              "      <th></th>\n",
              "      <th>id</th>\n",
              "      <th>name</th>\n",
              "    </tr>\n",
              "  </thead>\n",
              "  <tbody>\n",
              "    <tr>\n",
              "      <th>0</th>\n",
              "      <td>94962</td>\n",
              "      <td>Что обычно ожидало русских казачек в руках у к...</td>\n",
              "    </tr>\n",
              "    <tr>\n",
              "      <th>1</th>\n",
              "      <td>3972</td>\n",
              "      <td>Почему Россия решила строить новую скоростную ...</td>\n",
              "    </tr>\n",
              "    <tr>\n",
              "      <th>2</th>\n",
              "      <td>94644</td>\n",
              "      <td>5 неприличных фактов об Андрее Макаревиче, кот...</td>\n",
              "    </tr>\n",
              "    <tr>\n",
              "      <th>3</th>\n",
              "      <td>82518</td>\n",
              "      <td>Что стало с красавицей Хмельницкой, которую му...</td>\n",
              "    </tr>\n",
              "    <tr>\n",
              "      <th>4</th>\n",
              "      <td>53264</td>\n",
              "      <td>Понять и Простить: Почему угонщики, бежавшие и...</td>\n",
              "    </tr>\n",
              "    <tr>\n",
              "      <th>...</th>\n",
              "      <td>...</td>\n",
              "      <td>...</td>\n",
              "    </tr>\n",
              "    <tr>\n",
              "      <th>104498</th>\n",
              "      <td>36769</td>\n",
              "      <td>Плюс один источник мифа о рыцарях, неспособных...</td>\n",
              "    </tr>\n",
              "    <tr>\n",
              "      <th>104499</th>\n",
              "      <td>9190</td>\n",
              "      <td>Мой сад - малоуходный</td>\n",
              "    </tr>\n",
              "    <tr>\n",
              "      <th>104500</th>\n",
              "      <td>52731</td>\n",
              "      <td>Купил первую в жизни циркулярную пилу. Честный...</td>\n",
              "    </tr>\n",
              "    <tr>\n",
              "      <th>104501</th>\n",
              "      <td>72660</td>\n",
              "      <td>Решили предложить Марине помощь в лечении ч.10</td>\n",
              "    </tr>\n",
              "    <tr>\n",
              "      <th>104502</th>\n",
              "      <td>53987</td>\n",
              "      <td>Мама и сестра меня предали, я с ними не общаюсь</td>\n",
              "    </tr>\n",
              "  </tbody>\n",
              "</table>\n",
              "<p>104503 rows × 2 columns</p>\n",
              "</div>"
            ],
            "text/plain": [
              "           id                                               name\n",
              "0       94962  Что обычно ожидало русских казачек в руках у к...\n",
              "1        3972  Почему Россия решила строить новую скоростную ...\n",
              "2       94644  5 неприличных фактов об Андрее Макаревиче, кот...\n",
              "3       82518  Что стало с красавицей Хмельницкой, которую му...\n",
              "4       53264  Понять и Простить: Почему угонщики, бежавшие и...\n",
              "...       ...                                                ...\n",
              "104498  36769  Плюс один источник мифа о рыцарях, неспособных...\n",
              "104499   9190                              Мой сад - малоуходный\n",
              "104500  52731  Купил первую в жизни циркулярную пилу. Честный...\n",
              "104501  72660     Решили предложить Марине помощь в лечении ч.10\n",
              "104502  53987    Мама и сестра меня предали, я с ними не общаюсь\n",
              "\n",
              "[104503 rows x 2 columns]"
            ]
          },
          "execution_count": 25,
          "metadata": {},
          "output_type": "execute_result"
        }
      ],
      "source": [
        "item_names"
      ]
    },
    {
      "cell_type": "code",
      "execution_count": 27,
      "id": "cb0aa9e5",
      "metadata": {
        "ExecuteTime": {
          "end_time": "2023-06-07T21:31:47.066054Z",
          "start_time": "2023-06-07T21:31:47.045452Z"
        },
        "execution": {
          "iopub.execute_input": "2024-03-21T10:24:26.901979Z",
          "iopub.status.busy": "2024-03-21T10:24:26.901318Z",
          "iopub.status.idle": "2024-03-21T10:24:26.918840Z",
          "shell.execute_reply": "2024-03-21T10:24:26.917465Z",
          "shell.execute_reply.started": "2024-03-21T10:24:26.901942Z"
        },
        "id": "cb0aa9e5",
        "outputId": "33e31f58-3b31-4c6e-be22-9106cd6bfd11"
      },
      "outputs": [
        {
          "data": {
            "text/html": [
              "<div>\n",
              "<style scoped>\n",
              "    .dataframe tbody tr th:only-of-type {\n",
              "        vertical-align: middle;\n",
              "    }\n",
              "\n",
              "    .dataframe tbody tr th {\n",
              "        vertical-align: top;\n",
              "    }\n",
              "\n",
              "    .dataframe thead th {\n",
              "        text-align: right;\n",
              "    }\n",
              "</style>\n",
              "<table border=\"1\" class=\"dataframe\">\n",
              "  <thead>\n",
              "    <tr style=\"text-align: right;\">\n",
              "      <th></th>\n",
              "      <th>id</th>\n",
              "      <th>source</th>\n",
              "    </tr>\n",
              "  </thead>\n",
              "  <tbody>\n",
              "    <tr>\n",
              "      <th>0</th>\n",
              "      <td>94962</td>\n",
              "      <td>2919814402697966089</td>\n",
              "    </tr>\n",
              "    <tr>\n",
              "      <th>1</th>\n",
              "      <td>3972</td>\n",
              "      <td>3263022753228392991</td>\n",
              "    </tr>\n",
              "    <tr>\n",
              "      <th>2</th>\n",
              "      <td>94644</td>\n",
              "      <td>-3857390427602554682</td>\n",
              "    </tr>\n",
              "    <tr>\n",
              "      <th>3</th>\n",
              "      <td>82518</td>\n",
              "      <td>-9036908390349249792</td>\n",
              "    </tr>\n",
              "    <tr>\n",
              "      <th>4</th>\n",
              "      <td>53264</td>\n",
              "      <td>3353856219169766284</td>\n",
              "    </tr>\n",
              "    <tr>\n",
              "      <th>...</th>\n",
              "      <td>...</td>\n",
              "      <td>...</td>\n",
              "    </tr>\n",
              "    <tr>\n",
              "      <th>104498</th>\n",
              "      <td>36769</td>\n",
              "      <td>3818746211375738614</td>\n",
              "    </tr>\n",
              "    <tr>\n",
              "      <th>104499</th>\n",
              "      <td>9190</td>\n",
              "      <td>4975535765688979937</td>\n",
              "    </tr>\n",
              "    <tr>\n",
              "      <th>104500</th>\n",
              "      <td>52731</td>\n",
              "      <td>3720366796439288909</td>\n",
              "    </tr>\n",
              "    <tr>\n",
              "      <th>104501</th>\n",
              "      <td>72660</td>\n",
              "      <td>-7860042973720636310</td>\n",
              "    </tr>\n",
              "    <tr>\n",
              "      <th>104502</th>\n",
              "      <td>53987</td>\n",
              "      <td>-1613465697218833842</td>\n",
              "    </tr>\n",
              "  </tbody>\n",
              "</table>\n",
              "<p>104503 rows × 2 columns</p>\n",
              "</div>"
            ],
            "text/plain": [
              "           id               source\n",
              "0       94962  2919814402697966089\n",
              "1        3972  3263022753228392991\n",
              "2       94644 -3857390427602554682\n",
              "3       82518 -9036908390349249792\n",
              "4       53264  3353856219169766284\n",
              "...       ...                  ...\n",
              "104498  36769  3818746211375738614\n",
              "104499   9190  4975535765688979937\n",
              "104500  52731  3720366796439288909\n",
              "104501  72660 -7860042973720636310\n",
              "104502  53987 -1613465697218833842\n",
              "\n",
              "[104503 rows x 2 columns]"
            ]
          },
          "execution_count": 27,
          "metadata": {},
          "output_type": "execute_result"
        }
      ],
      "source": [
        "item_sources"
      ]
    },
    {
      "cell_type": "code",
      "execution_count": 28,
      "id": "f788e369",
      "metadata": {
        "ExecuteTime": {
          "end_time": "2023-06-07T21:31:47.943529Z",
          "start_time": "2023-06-07T21:31:47.920699Z"
        },
        "execution": {
          "iopub.execute_input": "2024-03-21T10:24:27.409874Z",
          "iopub.status.busy": "2024-03-21T10:24:27.409518Z",
          "iopub.status.idle": "2024-03-21T10:24:27.428869Z",
          "shell.execute_reply": "2024-03-21T10:24:27.428411Z",
          "shell.execute_reply.started": "2024-03-21T10:24:27.409852Z"
        },
        "id": "f788e369",
        "outputId": "267242af-b3f7-4a59-d217-e8e047d28561"
      },
      "outputs": [
        {
          "data": {
            "text/html": [
              "<div>\n",
              "<style scoped>\n",
              "    .dataframe tbody tr th:only-of-type {\n",
              "        vertical-align: middle;\n",
              "    }\n",
              "\n",
              "    .dataframe tbody tr th {\n",
              "        vertical-align: top;\n",
              "    }\n",
              "\n",
              "    .dataframe thead th {\n",
              "        text-align: right;\n",
              "    }\n",
              "</style>\n",
              "<table border=\"1\" class=\"dataframe\">\n",
              "  <thead>\n",
              "    <tr style=\"text-align: right;\">\n",
              "      <th></th>\n",
              "      <th>user_id</th>\n",
              "      <th>item_ids</th>\n",
              "    </tr>\n",
              "  </thead>\n",
              "  <tbody>\n",
              "    <tr>\n",
              "      <th>0</th>\n",
              "      <td>993675863667353526</td>\n",
              "      <td>[15267, 61075, 81203, 17066, 25471, 88427, 638...</td>\n",
              "    </tr>\n",
              "    <tr>\n",
              "      <th>1</th>\n",
              "      <td>4250619547882954185</td>\n",
              "      <td>[4555, 94644, 84972, 17774, 94962, 78217, 2485...</td>\n",
              "    </tr>\n",
              "    <tr>\n",
              "      <th>2</th>\n",
              "      <td>3847785305345691076</td>\n",
              "      <td>[1898, 26703, 16525, 86939, 55017, 31069, 4035...</td>\n",
              "    </tr>\n",
              "    <tr>\n",
              "      <th>3</th>\n",
              "      <td>1785181112918558233</td>\n",
              "      <td>[75601, 102458, 28716, 100694, 5757, 47104, 60...</td>\n",
              "    </tr>\n",
              "    <tr>\n",
              "      <th>4</th>\n",
              "      <td>5078748097863903181</td>\n",
              "      <td>[72260, 40825, 2615, 42549, 379, 100818, 56827...</td>\n",
              "    </tr>\n",
              "    <tr>\n",
              "      <th>...</th>\n",
              "      <td>...</td>\n",
              "      <td>...</td>\n",
              "    </tr>\n",
              "    <tr>\n",
              "      <th>75905</th>\n",
              "      <td>4954138831959898373</td>\n",
              "      <td>[11881, 55520, 63054, 48015, 66952, 103830, 21...</td>\n",
              "    </tr>\n",
              "    <tr>\n",
              "      <th>75906</th>\n",
              "      <td>4967793435819938014</td>\n",
              "      <td>[74697, 11830, 63858, 87245, 41956, 62089, 686...</td>\n",
              "    </tr>\n",
              "    <tr>\n",
              "      <th>75907</th>\n",
              "      <td>7137764184903122777</td>\n",
              "      <td>[10353, 1775, 103680, 29704, 9782, 13295, 9975...</td>\n",
              "    </tr>\n",
              "    <tr>\n",
              "      <th>75908</th>\n",
              "      <td>2624987805086334956</td>\n",
              "      <td>[24324, 18854, 73319, 66641, 64078, 97387, 426...</td>\n",
              "    </tr>\n",
              "    <tr>\n",
              "      <th>75909</th>\n",
              "      <td>4022390127079841428</td>\n",
              "      <td>[64748, 64490, 99490, 80080, 8419, 84702, 7582...</td>\n",
              "    </tr>\n",
              "  </tbody>\n",
              "</table>\n",
              "<p>75910 rows × 2 columns</p>\n",
              "</div>"
            ],
            "text/plain": [
              "                   user_id                                           item_ids\n",
              "0       993675863667353526  [15267, 61075, 81203, 17066, 25471, 88427, 638...\n",
              "1      4250619547882954185  [4555, 94644, 84972, 17774, 94962, 78217, 2485...\n",
              "2      3847785305345691076  [1898, 26703, 16525, 86939, 55017, 31069, 4035...\n",
              "3      1785181112918558233  [75601, 102458, 28716, 100694, 5757, 47104, 60...\n",
              "4      5078748097863903181  [72260, 40825, 2615, 42549, 379, 100818, 56827...\n",
              "...                    ...                                                ...\n",
              "75905  4954138831959898373  [11881, 55520, 63054, 48015, 66952, 103830, 21...\n",
              "75906  4967793435819938014  [74697, 11830, 63858, 87245, 41956, 62089, 686...\n",
              "75907  7137764184903122777  [10353, 1775, 103680, 29704, 9782, 13295, 9975...\n",
              "75908  2624987805086334956  [24324, 18854, 73319, 66641, 64078, 97387, 426...\n",
              "75909  4022390127079841428  [64748, 64490, 99490, 80080, 8419, 84702, 7582...\n",
              "\n",
              "[75910 rows x 2 columns]"
            ]
          },
          "execution_count": 28,
          "metadata": {},
          "output_type": "execute_result"
        }
      ],
      "source": [
        "dataset"
      ]
    },
    {
      "cell_type": "code",
      "execution_count": 30,
      "id": "e8820e36",
      "metadata": {
        "ExecuteTime": {
          "end_time": "2023-06-07T21:31:55.339206Z",
          "start_time": "2023-06-07T21:31:51.973369Z"
        },
        "colab": {
          "referenced_widgets": [
            "8a5a8ae4cb8b4ea4911a57ce4a09dbb9"
          ]
        },
        "execution": {
          "iopub.execute_input": "2024-03-21T10:24:41.880387Z",
          "iopub.status.busy": "2024-03-21T10:24:41.879749Z",
          "iopub.status.idle": "2024-03-21T10:24:45.217848Z",
          "shell.execute_reply": "2024-03-21T10:24:45.217314Z",
          "shell.execute_reply.started": "2024-03-21T10:24:41.880355Z"
        },
        "id": "e8820e36",
        "outputId": "1d425f2c-550a-4dfc-95f7-615e5b4e47c5"
      },
      "outputs": [],
      "source": [
        "total_interactions_count = dataset.item_ids.map(len).sum()\n",
        "user_coo = np.zeros(total_interactions_count, dtype=np.int64)\n",
        "item_coo = np.zeros(total_interactions_count, dtype=np.int64)\n",
        "pos = 0\n",
        "\n",
        "for user_id, item_ids in enumerate(dataset.item_ids):\n",
        "    user_coo[pos : pos + len(item_ids)] = user_id\n",
        "    item_coo[pos : pos + len(item_ids)] = item_ids\n",
        "    pos += len(item_ids)\n",
        "\n",
        "shape = (max(user_coo) + 1, max(item_coo) + 1)\n",
        "user_item_matrix = sp.coo_matrix(\n",
        "    (np.ones(len(user_coo)), (user_coo, item_coo)), shape=shape\n",
        ")\n",
        "user_item_matrix = user_item_matrix.tocsr()\n",
        "sp.save_npz(\"data_train.npz\", user_item_matrix)\n",
        "# Cleanup memory. Later you need just data_train.npz\n",
        "del user_coo\n",
        "del item_coo\n",
        "del dataset"
      ]
    },
    {
      "cell_type": "code",
      "execution_count": 31,
      "id": "b694e04f",
      "metadata": {
        "ExecuteTime": {
          "end_time": "2023-06-07T21:32:04.714869Z",
          "start_time": "2023-06-07T21:32:04.568491Z"
        },
        "execution": {
          "iopub.execute_input": "2024-03-21T10:27:58.137388Z",
          "iopub.status.busy": "2024-03-21T10:27:58.136543Z",
          "iopub.status.idle": "2024-03-21T10:27:58.300332Z",
          "shell.execute_reply": "2024-03-21T10:27:58.299898Z",
          "shell.execute_reply.started": "2024-03-21T10:27:58.137337Z"
        },
        "id": "b694e04f"
      },
      "outputs": [],
      "source": [
        "# you could start here if you already done precomputing\n",
        "user_item_matrix = sp.load_npz(\"data_train.npz\")"
      ]
    },
    {
      "cell_type": "code",
      "execution_count": 32,
      "id": "2eacfa5e",
      "metadata": {
        "ExecuteTime": {
          "end_time": "2023-06-07T21:32:17.252065Z",
          "start_time": "2023-06-07T21:32:17.239886Z"
        },
        "execution": {
          "iopub.execute_input": "2024-03-21T10:27:59.247031Z",
          "iopub.status.busy": "2024-03-21T10:27:59.246646Z",
          "iopub.status.idle": "2024-03-21T10:27:59.257786Z",
          "shell.execute_reply": "2024-03-21T10:27:59.257057Z",
          "shell.execute_reply.started": "2024-03-21T10:27:59.246994Z"
        },
        "id": "2eacfa5e",
        "outputId": "01972345-f92b-403e-9072-c9d3ecb321fb"
      },
      "outputs": [
        {
          "data": {
            "text/plain": [
              "<Compressed Sparse Row sparse matrix of dtype 'float64'\n",
              "\twith 5792423 stored elements and shape (75910, 104503)>"
            ]
          },
          "execution_count": 32,
          "metadata": {},
          "output_type": "execute_result"
        }
      ],
      "source": [
        "user_item_matrix"
      ]
    },
    {
      "cell_type": "code",
      "execution_count": 33,
      "id": "b7d5e4d1-cfcd-4abd-8d7e-b920bd3295b1",
      "metadata": {
        "execution": {
          "iopub.execute_input": "2024-03-21T10:38:33.146072Z",
          "iopub.status.busy": "2024-03-21T10:38:33.145637Z",
          "iopub.status.idle": "2024-03-21T10:38:33.153440Z",
          "shell.execute_reply": "2024-03-21T10:38:33.151232Z",
          "shell.execute_reply.started": "2024-03-21T10:38:33.146050Z"
        },
        "id": "b7d5e4d1-cfcd-4abd-8d7e-b920bd3295b1"
      },
      "outputs": [],
      "source": [
        "def sparce_matrix_report(matrix):\n",
        "    print('Size of raw data:', matrix.data.nbytes / 10**6, 'Mb')\n",
        "    print('Feedback matrix size:', matrix.shape)"
      ]
    },
    {
      "cell_type": "code",
      "execution_count": 34,
      "id": "d3992814-d1da-48c9-b42e-0c8b596de5ad",
      "metadata": {
        "execution": {
          "iopub.execute_input": "2024-03-21T10:38:33.823522Z",
          "iopub.status.busy": "2024-03-21T10:38:33.822742Z",
          "iopub.status.idle": "2024-03-21T10:38:33.828502Z",
          "shell.execute_reply": "2024-03-21T10:38:33.827613Z",
          "shell.execute_reply.started": "2024-03-21T10:38:33.823495Z"
        },
        "id": "d3992814-d1da-48c9-b42e-0c8b596de5ad",
        "outputId": "b76e18d6-03c2-486a-f191-0f97f10dddd2"
      },
      "outputs": [
        {
          "name": "stdout",
          "output_type": "stream",
          "text": [
            "Size of raw data: 46.339384 Mb\n",
            "Feedback matrix size: (75910, 104503)\n"
          ]
        }
      ],
      "source": [
        "sparce_matrix_report(user_item_matrix)"
      ]
    },
    {
      "cell_type": "code",
      "execution_count": 35,
      "id": "4cd37f54",
      "metadata": {
        "ExecuteTime": {
          "end_time": "2023-06-07T21:32:24.023986Z",
          "start_time": "2023-06-07T21:32:23.942940Z"
        },
        "execution": {
          "iopub.execute_input": "2024-03-21T10:38:46.019297Z",
          "iopub.status.busy": "2024-03-21T10:38:46.018979Z",
          "iopub.status.idle": "2024-03-21T10:38:46.119795Z",
          "shell.execute_reply": "2024-03-21T10:38:46.119352Z",
          "shell.execute_reply.started": "2024-03-21T10:38:46.019277Z"
        },
        "id": "4cd37f54"
      },
      "outputs": [],
      "source": [
        "item_weights = np.array(user_item_matrix.tocsc().sum(0))[0]\n",
        "top_to_bottom_order = np.argsort(-item_weights)\n",
        "item_mapping = np.empty(top_to_bottom_order.shape, dtype=int)\n",
        "item_mapping[top_to_bottom_order] = np.arange(len(top_to_bottom_order))\n",
        "total_item_count = (item_weights > 0).sum()\n",
        "total_user_count = user_item_matrix.shape[0]\n",
        "\n",
        "\n",
        "def build_debug_dataset(user_item_matrix, item_pct: float, user_pct: float):\n",
        "    '''Get given percent of top rated items and given percent of random users'''\n",
        "    user_count = int(total_user_count * user_pct),\n",
        "    item_count = int(total_item_count * item_pct)\n",
        "    item_ids = top_to_bottom_order[:item_count]\n",
        "    user_ids = np.random.choice(\n",
        "        np.arange(user_item_matrix.shape[0]), size=user_count, replace=False\n",
        "    )\n",
        "    train = user_item_matrix[user_ids]\n",
        "    train = train[:, item_ids]\n",
        "    return train"
      ]
    },
    {
      "cell_type": "code",
      "execution_count": 36,
      "id": "820abbd7-d8f2-42df-aa6a-e3a6e360c94d",
      "metadata": {
        "ExecuteTime": {
          "end_time": "2023-06-07T21:32:24.803339Z",
          "start_time": "2023-06-07T21:32:24.782858Z"
        },
        "execution": {
          "iopub.execute_input": "2024-03-21T10:39:09.832524Z",
          "iopub.status.busy": "2024-03-21T10:39:09.831807Z",
          "iopub.status.idle": "2024-03-21T10:39:09.855133Z",
          "shell.execute_reply": "2024-03-21T10:39:09.854617Z",
          "shell.execute_reply.started": "2024-03-21T10:39:09.832486Z"
        },
        "id": "820abbd7-d8f2-42df-aa6a-e3a6e360c94d",
        "outputId": "058d482a-949a-4162-83c7-9d274d7f444a"
      },
      "outputs": [
        {
          "name": "stdout",
          "output_type": "stream",
          "text": [
            "Size of raw data: 1.081136 Mb\n",
            "Feedback matrix size: (3795, 5019)\n"
          ]
        }
      ],
      "source": [
        "debug_dataset = build_debug_dataset(user_item_matrix, 0.05, 0.05)\n",
        "\n",
        "sparce_matrix_report(debug_dataset)"
      ]
    },
    {
      "cell_type": "markdown",
      "id": "8f5d59e1",
      "metadata": {
        "id": "8f5d59e1"
      },
      "source": [
        "This is useful for debugging (just to save time).\n",
        "\n",
        "**Final answers should use full dataset!!!**"
      ]
    },
    {
      "cell_type": "markdown",
      "id": "536eb9ab",
      "metadata": {
        "id": "536eb9ab"
      },
      "source": [
        "## Split dataset matrix (5 points)\n",
        "\n",
        "in the following way: for 20% of users (random) remove one like - this will be test data. The rest is train data."
      ]
    },
    {
      "cell_type": "code",
      "execution_count": 37,
      "id": "95714ebd",
      "metadata": {
        "ExecuteTime": {
          "end_time": "2023-11-06T04:49:46.392558Z",
          "start_time": "2023-11-06T04:49:46.385337Z"
        },
        "id": "95714ebd"
      },
      "outputs": [],
      "source": [
        "def split_data(ratings, test_fraction=0.2):\n",
        "    ratings = ratings.tocsr()\n",
        "    train = ratings.copy()\n",
        "    test = sp.lil_matrix(ratings.shape)\n",
        "\n",
        "    # выбираем случайных пользователей\n",
        "    np.random.seed(42)\n",
        "    n_users = ratings.shape[0]\n",
        "    users = np.random.choice(n_users, size=int(test_fraction * n_users), replace=False)\n",
        "\n",
        "    for user in users:\n",
        "        item_indices = ratings[user].indices\n",
        "        if len(item_indices) == 0:\n",
        "            continue\n",
        "        test_item = np.random.choice(item_indices)\n",
        "        train[user, test_item] = 0\n",
        "        test[user, test_item] = 1\n",
        "\n",
        "    train.eliminate_zeros()\n",
        "\n",
        "    return train.tocsr(), test.tocsr()"
      ]
    },
    {
      "cell_type": "code",
      "execution_count": 49,
      "id": "e7bbfe9c",
      "metadata": {
        "id": "e7bbfe9c"
      },
      "outputs": [
        {
          "name": "stderr",
          "output_type": "stream",
          "text": [
            "Exception ignored in: <function tqdm.__del__ at 0x7b2a85df40d0>\n",
            "Traceback (most recent call last):\n",
            "  File \"/home/andrej/anaconda3/envs/recsys-env/lib/python3.10/site-packages/tqdm/std.py\", line 1148, in __del__\n",
            "    self.close()\n",
            "  File \"/home/andrej/anaconda3/envs/recsys-env/lib/python3.10/site-packages/tqdm/notebook.py\", line 279, in close\n",
            "    self.disp(bar_style='danger', check_delay=False)\n",
            "AttributeError: 'tqdm_notebook' object has no attribute 'disp'\n"
          ]
        },
        {
          "name": "stdout",
          "output_type": "stream",
          "text": [
            "Train shape: (75910, 104503)\n",
            "Test shape: (75910, 104503)\n"
          ]
        }
      ],
      "source": [
        "# train_ratings, test_ratings = split_data(debug_dataset)\n",
        "train_ratings, test_ratings = split_data(user_item_matrix)\n",
        "print(\"Train shape:\", train_ratings.shape)\n",
        "print(\"Test shape:\", test_ratings.shape)"
      ]
    },
    {
      "cell_type": "markdown",
      "id": "e8ed4c71-6501-4d34-951b-faf6fd4ce897",
      "metadata": {
        "id": "e8ed4c71-6501-4d34-951b-faf6fd4ce897"
      },
      "source": [
        "## Implement IALS (10 points each)\n",
        "\n",
        "Note that due to size of data you need to implement algorithm with _sparce matrices_!\n",
        "\n",
        "You are welcome to use classes like on the seminar:)"
      ]
    },
    {
      "cell_type": "code",
      "execution_count": 50,
      "id": "8a751bd1",
      "metadata": {
        "id": "8a751bd1"
      },
      "outputs": [],
      "source": [
        "import implicit\n",
        "\n",
        "def train_ials(train_ratings, factors=64, regularization=0.1, iterations=20):\n",
        "    model = implicit.als.AlternatingLeastSquares(\n",
        "        factors=factors,\n",
        "        regularization=regularization,\n",
        "        iterations=iterations,\n",
        "        use_gpu=False,\n",
        "        dtype=np.float64\n",
        "    )\n",
        "    model.fit(train_ratings)\n",
        "    return model"
      ]
    },
    {
      "cell_type": "code",
      "execution_count": 51,
      "id": "57ee5164",
      "metadata": {},
      "outputs": [
        {
          "name": "stderr",
          "output_type": "stream",
          "text": [
            "100%|██████████| 20/20 [00:15<00:00,  1.32it/s]\n"
          ]
        }
      ],
      "source": [
        "ials_model = train_ials(train_ratings)"
      ]
    },
    {
      "cell_type": "markdown",
      "id": "ce1d293f",
      "metadata": {
        "id": "ce1d293f"
      },
      "source": [
        "## Compute MRR@100 metric for test users\n",
        "\n",
        "For ALS and IALS algorithms.\n",
        "\n",
        "**Don't forget to use full dataset!**"
      ]
    },
    {
      "cell_type": "code",
      "execution_count": null,
      "id": "e72c3cf2",
      "metadata": {},
      "outputs": [],
      "source": []
    },
    {
      "cell_type": "code",
      "execution_count": 52,
      "id": "ef8cdb0d",
      "metadata": {
        "id": "ef8cdb0d"
      },
      "outputs": [],
      "source": [
        "def mrr_at_k(model, train_ratings, test_ratings, k=100):\n",
        "    user_ids, item_ids = test_ratings.nonzero()\n",
        "    mrr_total = 0.0\n",
        "    n = 0\n",
        "\n",
        "    for user in np.unique(user_ids):\n",
        "        item_ids_pred, scores = model.recommend(user, train_ratings, N=k, filter_already_liked_items=False)\n",
        "        recommended_items = item_ids_pred\n",
        "\n",
        "        true_items = test_ratings[user].indices\n",
        "        if len(true_items) == 0:\n",
        "            continue\n",
        "\n",
        "        first_hit = None\n",
        "        for rank, item_id in enumerate(recommended_items, start=1):\n",
        "            if item_id in true_items:\n",
        "                first_hit = rank\n",
        "                break\n",
        "\n",
        "        if first_hit is not None:\n",
        "            mrr_total += 1.0 / first_hit\n",
        "        n += 1\n",
        "\n",
        "    return mrr_total / n"
      ]
    },
    {
      "cell_type": "code",
      "execution_count": 53,
      "id": "aa82ca33",
      "metadata": {
        "id": "aa82ca33"
      },
      "outputs": [
        {
          "name": "stdout",
          "output_type": "stream",
          "text": [
            "MRR@100: 0.01417\n"
          ]
        }
      ],
      "source": [
        "mrr_ials = mrr_at_k(ials_model, train_ratings, test_ratings)\n",
        "print(f\"MRR@100: {mrr_ials:.5f}\")"
      ]
    },
    {
      "cell_type": "markdown",
      "id": "0ec74ade",
      "metadata": {
        "id": "0ec74ade"
      },
      "source": [
        "## Adjust hyperparameters of IALS to maximize MRR (10 points)\n",
        "\n",
        "Main hyperparameters are regularization and weights for implicit case."
      ]
    },
    {
      "cell_type": "code",
      "execution_count": 54,
      "id": "d5558e37",
      "metadata": {
        "id": "d5558e37"
      },
      "outputs": [
        {
          "name": "stderr",
          "output_type": "stream",
          "text": [
            "100%|██████████| 20/20 [00:12<00:00,  1.58it/s]\n"
          ]
        },
        {
          "name": "stdout",
          "output_type": "stream",
          "text": [
            "factors=32, reg=0.01 -> MRR=0.01511\n"
          ]
        },
        {
          "name": "stderr",
          "output_type": "stream",
          "text": [
            "100%|██████████| 20/20 [00:12<00:00,  1.57it/s]\n"
          ]
        },
        {
          "name": "stdout",
          "output_type": "stream",
          "text": [
            "factors=32, reg=0.1 -> MRR=0.01504\n"
          ]
        },
        {
          "name": "stderr",
          "output_type": "stream",
          "text": [
            "100%|██████████| 20/20 [00:12<00:00,  1.56it/s]\n"
          ]
        },
        {
          "name": "stdout",
          "output_type": "stream",
          "text": [
            "factors=32, reg=1 -> MRR=0.01463\n"
          ]
        },
        {
          "name": "stderr",
          "output_type": "stream",
          "text": [
            "100%|██████████| 20/20 [00:17<00:00,  1.14it/s]\n"
          ]
        },
        {
          "name": "stdout",
          "output_type": "stream",
          "text": [
            "factors=64, reg=0.01 -> MRR=0.01422\n"
          ]
        },
        {
          "name": "stderr",
          "output_type": "stream",
          "text": [
            "100%|██████████| 20/20 [00:16<00:00,  1.25it/s]\n"
          ]
        },
        {
          "name": "stdout",
          "output_type": "stream",
          "text": [
            "factors=64, reg=0.1 -> MRR=0.01455\n"
          ]
        },
        {
          "name": "stderr",
          "output_type": "stream",
          "text": [
            "100%|██████████| 20/20 [00:17<00:00,  1.12it/s]\n"
          ]
        },
        {
          "name": "stdout",
          "output_type": "stream",
          "text": [
            "factors=64, reg=1 -> MRR=0.01415\n"
          ]
        },
        {
          "name": "stderr",
          "output_type": "stream",
          "text": [
            "100%|██████████| 20/20 [00:33<00:00,  1.67s/it]\n"
          ]
        },
        {
          "name": "stdout",
          "output_type": "stream",
          "text": [
            "factors=128, reg=0.01 -> MRR=0.01314\n"
          ]
        },
        {
          "name": "stderr",
          "output_type": "stream",
          "text": [
            "100%|██████████| 20/20 [00:33<00:00,  1.68s/it]\n"
          ]
        },
        {
          "name": "stdout",
          "output_type": "stream",
          "text": [
            "factors=128, reg=0.1 -> MRR=0.01321\n"
          ]
        },
        {
          "name": "stderr",
          "output_type": "stream",
          "text": [
            "100%|██████████| 20/20 [00:33<00:00,  1.67s/it]\n"
          ]
        },
        {
          "name": "stdout",
          "output_type": "stream",
          "text": [
            "factors=128, reg=1 -> MRR=0.01323\n",
            "Best params: (32, 0.01)\n"
          ]
        }
      ],
      "source": [
        "# your code here\n",
        "params_grid = {\n",
        "    'factors': [32, 64, 128],\n",
        "    'regularization': [0.01, 0.1, 1],\n",
        "}\n",
        "\n",
        "best_mrr = 0\n",
        "best_params = None\n",
        "\n",
        "for factors in params_grid['factors']:\n",
        "    for regularization in params_grid['regularization']:\n",
        "        model = train_ials(train_ratings, factors=factors, regularization=regularization)\n",
        "        mrr = mrr_at_k(model, train_ratings, test_ratings)\n",
        "        print(f\"factors={factors}, reg={regularization} -> MRR={mrr:.5f}\")\n",
        "\n",
        "        if mrr > best_mrr:\n",
        "            best_mrr = mrr\n",
        "            best_params = (factors, regularization)\n",
        "\n",
        "print(\"Best params:\", best_params)"
      ]
    },
    {
      "cell_type": "markdown",
      "id": "9ea3d1c3",
      "metadata": {
        "id": "9ea3d1c3"
      },
      "source": [
        "\n",
        "Optimal parameters of IALS are:\n",
        "\n",
        "Best params: (32, 0.01)"
      ]
    },
    {
      "cell_type": "markdown",
      "id": "4b1bfd4f",
      "metadata": {
        "id": "4b1bfd4f"
      },
      "source": [
        "## Get similarities from item2item CF (10 points)\n",
        "\n",
        "Item2item can be taken from the first homework, SLIM was implemented in the class.\n",
        "\n",
        "Alternatively you could use libraries, but in this case you will need to convert dataset to their format.\n",
        "\n",
        "You need to compute only item similarities, not predictions for users."
      ]
    },
    {
      "cell_type": "code",
      "execution_count": 55,
      "id": "33435a61",
      "metadata": {
        "id": "33435a61"
      },
      "outputs": [],
      "source": [
        "# i2i_similarities = ... # your code here\n",
        "\n",
        "from sklearn.metrics.pairwise import cosine_similarity\n",
        "\n",
        "def compute_item2item_similarity(ratings):\n",
        "    # item-item сходство: транспонируем матрицу\n",
        "    item_vectors = ratings.T\n",
        "    similarity = cosine_similarity(item_vectors, dense_output=False)\n",
        "    return similarity"
      ]
    },
    {
      "cell_type": "code",
      "execution_count": 56,
      "id": "000b81c5",
      "metadata": {},
      "outputs": [],
      "source": [
        "i2i_similarities = compute_item2item_similarity(train_ratings)"
      ]
    },
    {
      "cell_type": "markdown",
      "id": "2d6b19e8",
      "metadata": {
        "id": "2d6b19e8"
      },
      "source": [
        "## Compare similarities from four algorithms (20 points)\n",
        "\n",
        "* plot distributions\n",
        "* compute metrics (which you think are relevant)\n",
        "* look at several top similar lists\n",
        "\n",
        "Make conclusion how these methods differ in computing similarities"
      ]
    },
    {
      "cell_type": "code",
      "execution_count": 58,
      "id": "4a7d9d8d",
      "metadata": {
        "ExecuteTime": {
          "end_time": "2023-11-06T05:10:53.235810Z",
          "start_time": "2023-11-06T05:10:53.229989Z"
        },
        "id": "4a7d9d8d"
      },
      "outputs": [
        {
          "data": {
            "image/png": "[encoded data removed]",
            "text/plain": [
              "<Figure size 1000x600 with 1 Axes>"
            ]
          },
          "metadata": {},
          "output_type": "display_data"
        }
      ],
      "source": [
        "import matplotlib.pyplot as plt\n",
        "\n",
        "# 1) Сэмплируем 1000 айтемов\n",
        "sample_size = 1000\n",
        "np.random.seed(42)\n",
        "sample_indices = np.random.choice(item_emb.shape[0], size=sample_size, replace=False)\n",
        "\n",
        "sample_item_emb = item_emb[sample_indices]\n",
        "\n",
        "ials_similarity_sample = cosine_similarity(sample_item_emb)\n",
        "i2i_similarity_sample = i2i_similarities[sample_indices][:, sample_indices].toarray()\n",
        "\n",
        "# 2) Гистограммы\n",
        "plt.figure(figsize=(10, 6))\n",
        "plt.hist(ials_similarity_sample.flatten(), bins=50, alpha=0.5, label='IALS similarities')\n",
        "plt.hist(i2i_similarity_sample.flatten(), bins=50, alpha=0.5, label='Item2Item similarities')\n",
        "plt.legend()\n",
        "plt.title('Distribution of similarities (Sample 1000 items)')\n",
        "plt.xlabel('Similarity')\n",
        "plt.ylabel('Frequency')\n",
        "plt.grid(True)\n",
        "plt.show()"
      ]
    },
    {
      "cell_type": "markdown",
      "id": "5544dc69",
      "metadata": {
        "ExecuteTime": {
          "end_time": "2023-11-06T05:12:40.299803Z",
          "start_time": "2023-11-06T05:12:40.290403Z"
        },
        "id": "5544dc69"
      },
      "source": [
        "# Conclusion:\n",
        "# Сравнение IALS и Item2Item CF на датасете Dzen\n",
        "\n",
        "## 1. Постановка задачи\n",
        "Построить рекомендательную систему на реальных данных Dzen, используя методы:\n",
        "- Implicit ALS (IALS)\n",
        "- Item2Item Collaborative Filtering (Cosine Similarity)\n",
        "\n",
        "Оценить качество моделей и сравнить их поведение.\n",
        "\n",
        "---\n",
        "\n",
        "## 2. Подготовка данных\n",
        "- Загружены датасеты: лайки пользователей, информация об айтемах и авторах.\n",
        "- Построена разреженная матрица `user × item`.\n",
        "- Для ускорения отладки использована 5%-ная debug-выборка.\n",
        "- На финальных шагах использовался полный датасет: (75910 пользователей × 104503 айтема).\n",
        "\n",
        "---\n",
        "\n",
        "## 3. Обучение моделей\n",
        "- Train/Test Split: для 20% пользователей случайно убран один лайк в тест.\n",
        "- Модель IALS обучена через библиотеку `implicit`:\n",
        "  - Базовые параметры: `factors=64`, `regularization=0.1`, `iterations=20`.\n",
        "- Item2Item модель построена на косинусных сходствах между айтемами.\n",
        "\n",
        "---\n",
        "\n",
        "## 4. Метрики качества\n",
        "- **MRR@100 (базовый IALS)**: 0.01417\n",
        "- **Лучшие параметры по подбору (GridSearch)**: `factors=32`, `regularization=0.01`\n",
        "- **MRR@100 (после тюнинга)**: 0.01511\n",
        "\n",
        "---\n",
        "\n",
        "## 5. Анализ распределения сходств\n",
        "- **IALS**: более равномерное распределение сходств, с доминированием положительных значений.\n",
        "- **Item2Item CF**: резкий пик вблизи нуля (большинство айтемов не пересекаются по лайкам).\n",
        "\n",
        "(см. графики распределения)\n",
        "\n",
        "---\n",
        "\n",
        "## 6. Основные выводы\n",
        "\n",
        "| Критерий                  | IALS                             | Item2Item CF                     |\n",
        "|:---------------------------|:---------------------------------|:---------------------------------|\n",
        "| Работа на редких данных     | Отличная                         | Плохая                           |\n",
        "| Скорость                   | Долгое обучение (~20-30 секунд)  | Очень быстро                     |\n",
        "| Качество рекомендаций      | Высокое                          | Удовлетворительное               |\n",
        "| Простота реализации        | Сложнее                          | Очень простая                    |\n",
        "\n",
        "---\n",
        "\n",
        "## 7. Заключение\n",
        "- **IALS** лучше подходит для рекомендаций при разреженных взаимодействиях.\n",
        "- **Item2Item CF** удобен для быстрого расчета и хорош для популярных статей.\n",
        "- Рекомендуется **комбинировать** методы для наилучшего результата.\n",
        "\n",
        "---\n"
      ]
    },
    {
      "cell_type": "code",
      "execution_count": 59,
      "id": "65efb570",
      "metadata": {},
      "outputs": [],
      "source": [
        "def show_top5_similar(item_id, item_embeddings, item_names_df, method_name=\"IALS\"):\n",
        "    # Получаем вектор айтема\n",
        "    item_vector = item_embeddings[item_id]\n",
        "\n",
        "    # Считаем косинусные сходства со всеми айтемами\n",
        "    similarities = item_embeddings @ item_vector\n",
        "    similarities[item_id] = -1  # чтобы не рекомендовать сам себя\n",
        "\n",
        "    # Получаем топ-5 похожих\n",
        "    top5_idx = np.argsort(-similarities)[:5]\n",
        "    \n",
        "    print(f\"\\nTop-5 similar articles to '{item_names_df.loc[item_id, 'name']}' using {method_name}:\")\n",
        "    for idx in top5_idx:\n",
        "        print(f\"    {item_names_df.loc[idx, 'name']} (similarity: {similarities[idx]:.4f})\")"
      ]
    },
    {
      "cell_type": "code",
      "execution_count": 60,
      "id": "66046935",
      "metadata": {},
      "outputs": [],
      "source": [
        "item_names = item_names.set_index('id')"
      ]
    },
    {
      "cell_type": "code",
      "execution_count": 61,
      "id": "f8d11a8f",
      "metadata": {},
      "outputs": [
        {
          "name": "stdout",
          "output_type": "stream",
          "text": [
            "\n",
            "Top-5 similar articles to 'Нехитрые способы, как самостоятельно проверить качество воды из скважины или колодца' using IALS:\n",
            "    Как брились дамы в прошлом (similarity: 0.0042)\n",
            "    \"3000 рублей за каждый выход\" — позвонил по странному объявлению и рассказываю, что надо делать за эти деньги (разбор от юриста) (similarity: 0.0037)\n",
            "    В музее США стоят два гранёных стакана из России: почему специалисты считают их \"невозможными\" (similarity: 0.0037)\n",
            "    Вместо штрафа в 80 млрд. Газпром перекроет Европе вентиль навечно (similarity: 0.0037)\n",
            "    Как американцы подсадили СССР на свои отвёртки, и за что многие инженеры не любят Филипс (similarity: 0.0036)\n"
          ]
        }
      ],
      "source": [
        "show_top5_similar(item_id=0, item_embeddings=item_emb, item_names_df=item_names, method_name=\"IALS\")"
      ]
    },
    {
      "cell_type": "code",
      "execution_count": 64,
      "id": "9495776d",
      "metadata": {},
      "outputs": [],
      "source": [
        "def show_top5_similar_i2i_sparse(item_id, similarity_sparse_matrix, item_names_df, method_name=\"Item2Item CF\"):\n",
        "    similarities = similarity_sparse_matrix.getrow(item_id).toarray().flatten()\n",
        "    similarities[item_id] = -1  # убрать сам себя\n",
        "    top5_idx = np.argsort(-similarities)[:5]\n",
        "\n",
        "    print(f\"\\nTop-5 similar articles to '{item_names_df.loc[item_id, 'name']}' using {method_name}:\")\n",
        "    for idx in top5_idx:\n",
        "        print(f\"    {item_names_df.loc[idx, 'name']} (similarity: {similarities[idx]:.4f})\")"
      ]
    },
    {
      "cell_type": "code",
      "execution_count": 65,
      "id": "0e8e0120",
      "metadata": {},
      "outputs": [
        {
          "name": "stdout",
          "output_type": "stream",
          "text": [
            "\n",
            "Top-5 similar articles to 'Нехитрые способы, как самостоятельно проверить качество воды из скважины или колодца' using Item2Item CF:\n",
            "    На днях сообщили, когда наконец достроят платную дорогу Москва - Питер. Почему новый участок пока мало кому нужен (similarity: 0.5000)\n",
            "    Грозный «Калибр» российского флота: миф или реальность?! (similarity: 0.3333)\n",
            "    США не умеют играть в покер (similarity: 0.3015)\n",
            "    Как Westinghouse будет разорять Украину «передовыми» атомными реакторами и создаст проблемы России. Ждём Чернобыль 2.0? (similarity: 0.2673)\n",
            "    В России изготовлена первая партия экономичного уран-плутониевого ремикс-топлива для реактора ВВЭР-1000 (similarity: 0.2673)\n"
          ]
        }
      ],
      "source": [
        "show_top5_similar_i2i_sparse(item_id=0, similarity_sparse_matrix=i2i_similarities, item_names_df=item_names, method_name=\"Item2Item CF\")"
      ]
    },
    {
      "cell_type": "markdown",
      "id": "ab7900b7",
      "metadata": {},
      "source": []
    }
  ],
  "metadata": {
    "colab": {
      "provenance": []
    },
    "finalized": {
      "timestamp": 1686173501421,
      "trusted": false
    },
    "kernelspec": {
      "display_name": "recsys-env",
      "language": "python",
      "name": "python3"
    },
    "language_info": {
      "codemirror_mode": {
        "name": "ipython",
        "version": 3
      },
      "file_extension": ".py",
      "mimetype": "text/x-python",
      "name": "python",
      "nbconvert_exporter": "python",
      "pygments_lexer": "ipython3",
      "version": "3.10.16"
    },
    "toc": {
      "base_numbering": 1,
      "nav_menu": {},
      "number_sections": true,
      "sideBar": true,
      "skip_h1_title": false,
      "title_cell": "Table of Contents",
      "title_sidebar": "Contents",
      "toc_cell": false,
      "toc_position": {
        "height": "calc(100% - 180px)",
        "left": "10px",
        "top": "150px",
        "width": "302.398px"
      },
      "toc_section_display": true,
      "toc_window_display": true
    }
  },
  "nbformat": 4,
  "nbformat_minor": 5
}
