{
 "cells": [
  {
   "cell_type": "markdown",
   "metadata": {},
   "source": [
    "#### Задача 1\n",
    "Реализовать двусвязный список и сделать функции:\n",
    "\n",
    "- вставки элемента\n",
    "- удаление элемента\n",
    "- вставку в N позицию другого связанного списка, где N - задается при вызове функции пользователем\n",
    "\n",
    "Для каждой функции написать примеры вызова и ожидаемый результат работы функции\n",
    "\n",
    "Выполняется по вариантам. Студенты чьи фамилии располагаются на нечетном месте - делают двусвязный список по принципу стэк, те у кого на четном месте - очередь\n"
   ]
  },
  {
   "cell_type": "code",
   "execution_count": 32,
   "metadata": {},
   "outputs": [
    {
     "name": "stdout",
     "output_type": "stream",
     "text": [
      "2 --> 2 --> 3\n",
      "2 --> 2\n",
      "2 --> 4 --> 2\n"
     ]
    }
   ],
   "source": [
    "class Node:\n",
    "    def __init__(self, data):\n",
    "        self.data = data\n",
    "        self.prev = None\n",
    "        self.next = None\n",
    "\n",
    "class Deque:\n",
    "    def __init__(self):\n",
    "        self.head = None\n",
    "        self.tail = None\n",
    "        self.size = 0\n",
    "\n",
    "    # Insert an element at the back\n",
    "    def pushback(self, value):\n",
    "        new_node = Node(value)\n",
    "        if self.tail is None:  # If deque is empty\n",
    "            self.head = self.tail = new_node\n",
    "        else:\n",
    "            self.tail.next = new_node  # Link the last node to new node\n",
    "            new_node.prev = self.tail  # Link new node back to last node\n",
    "            self.tail = new_node  # Update tail to new node\n",
    "        self.size += 1  # Increase size count\n",
    "        # print(new_node.data)  # Print pushed value\n",
    "        return new_node\n",
    "\n",
    "    # Remove an element from the back\n",
    "    def pop_back(self):\n",
    "        if self.head is None:\n",
    "            print(\"Error, deque is empty\")\n",
    "            return None\n",
    "        value = self.tail.data  # Get the value of the last node\n",
    "        if self.head == self.tail:  # If deque has only one node\n",
    "            self.head = self.tail = None\n",
    "        else:\n",
    "            self.tail = self.tail.prev  # Move tail back\n",
    "            self.tail.next = None  # Remove reference to the old tail\n",
    "        self.size -= 1  # Decrease size count\n",
    "        return value  # Return the value of the popped node\n",
    "\n",
    "    # Insert an element at a specified position\n",
    "    def insert(self, value, position):\n",
    "        new_node = Node(value)\n",
    "        if position <= 0:\n",
    "            return self.pushback(value)  # If position is 0 or less, push back\n",
    "        elif position >= self.size:  # If position is beyond current size\n",
    "            return self.pushback(value)  # Just push back\n",
    "        \n",
    "        current_node = self.head\n",
    "        for _ in range(position):\n",
    "            current_node = current_node.next\n",
    "        \n",
    "        new_node.prev = current_node.prev\n",
    "        if current_node.prev:  # If there is a previous node\n",
    "            current_node.prev.next = new_node\n",
    "        new_node.next = current_node\n",
    "        current_node.prev = new_node\n",
    "        self.size += 1\n",
    "\n",
    "    # Show the contents of the deque in a specific format\n",
    "    def show_deque(self):\n",
    "        current_node = self.head\n",
    "        output = []\n",
    "        if self.head is None:\n",
    "            print(\"deque is empty\")\n",
    "        while current_node is not None:\n",
    "            output.append(str(current_node.data))  # Collect data in a list\n",
    "            current_node = current_node.next\n",
    "        print(\" --> \".join(output))  # Join with \" --> \" and print\n",
    "\n",
    "\"вставки элемента --> deque.pushback(value=)\"\n",
    "\"- удаление элемента --> deque.pop_back()\"\n",
    "\"- вставку в N позицию другого связанного списка, где N - задается при вызове функции пользователем --> deque.insert(value, position)\"\n",
    "\"Пример использования\"\n",
    "deque = Deque()\n",
    "deque.pushback(2)\n",
    "deque.pushback(2)\n",
    "deque.pushback(3)\n",
    "deque.show_deque()  # Should print \"1 --> 2 --> 3\"\n",
    "deque.pop_back()\n",
    "deque.show_deque()  # Should print \"1 --> 2\"\n",
    "deque.insert(4, 1)\n",
    "deque.show_deque()  # Should print \"1 --> 4 --> 2\""
   ]
  },
  {
   "cell_type": "markdown",
   "metadata": {},
   "source": []
  }
 ],
 "metadata": {
  "kernelspec": {
   "display_name": "Python 3",
   "language": "python",
   "name": "python3"
  },
  "language_info": {
   "codemirror_mode": {
    "name": "ipython",
    "version": 3
   },
   "file_extension": ".py",
   "mimetype": "text/x-python",
   "name": "python",
   "nbconvert_exporter": "python",
   "pygments_lexer": "ipython3",
   "version": "3.12.3"
  }
 },
 "nbformat": 4,
 "nbformat_minor": 2
}
