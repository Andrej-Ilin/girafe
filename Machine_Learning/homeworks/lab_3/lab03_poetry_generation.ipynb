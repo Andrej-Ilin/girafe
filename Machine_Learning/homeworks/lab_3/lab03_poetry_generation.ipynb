{
 "cells": [
  {
   "cell_type": "markdown",
   "metadata": {
    "id": "FKyFFYXd4h8u"
   },
   "source": [
    "# <a href=\"https://girafe.ai/\" target=\"_blank\" rel=\"noopener noreferrer\"><img src=\"https://raw.githubusercontent.com/girafe-ai/ml-course/7096a5df4cada5ee651be1e3215c2f7fb8a7e0bf/logo_margin.svg\" alt=\"girafe-ai logo\" width=\"150px\" align=\"left\"></a> [ml-basic course](https://github.com/girafe-ai/ml-course) <a class=\"tocSkip\">"
   ]
  },
  {
   "cell_type": "markdown",
   "metadata": {
    "id": "p5YcoFEr4h8v"
   },
   "source": [
    "# Almost Shakespeare\n",
    "\n",
    "Let's try to generate some Shakespeare poetry using RNNs. The sonnets file is available in the notebook directory.\n",
    "\n",
    "Text generation can be designed in several steps:\n",
    "    \n",
    "1. Data loading\n",
    "2. Dictionary generation\n",
    "3. Data preprocessing\n",
    "4. Model (neural network) training\n",
    "5. Text generation (model evaluation)"
   ]
  },
  {
   "cell_type": "markdown",
   "metadata": {
    "id": "OTVgyfjv4h8w"
   },
   "source": [
    "### Data loading"
   ]
  },
  {
   "cell_type": "markdown",
   "metadata": {
    "id": "tsGrFIon4h8w"
   },
   "source": [
    "Shakespeare sonnets are awailable at this [link](http://www.gutenberg.org/ebooks/1041?msg=welcome_stranger). In addition, they are stored in the same directory as this notebook (`sonnetes.txt`).\n",
    "\n",
    "Simple preprocessing is already done for you in the next cell: all technical info is dropped.\n",
    "\n",
    "**Alternatively**\n",
    "\n",
    "You could use file `onegin.txt` with Russian texts or your natve language poetry to be able to assess results quality.\n",
    "\n",
    "**Note: In case of Onegin text you need to adjust reading procedure yourself!!!** (this file has a bit different format than `sonnets.txt`)"
   ]
  },
  {
   "cell_type": "code",
   "execution_count": 1,
   "metadata": {
    "ExecuteTime": {
     "end_time": "2021-11-11T13:32:31.898354Z",
     "start_time": "2021-11-11T13:32:31.627686Z"
    },
    "id": "EVv01n_E4h8w"
   },
   "outputs": [
    {
     "name": "stdout",
     "output_type": "stream",
     "text": [
      "--2025-05-28 10:00:04--  https://raw.githubusercontent.com/v-goncharenko/madmo-adv/55d929befa12370fc18109f5333f7cf000ea27ce/homeworks/sonnets.txt\n",
      "Распознаётся raw.githubusercontent.com (raw.githubusercontent.com)… 185.199.111.133, 185.199.109.133, 185.199.110.133, ...\n",
      "Подключение к raw.githubusercontent.com (raw.githubusercontent.com)|185.199.111.133|:443... соединение установлено.\n",
      "HTTP-запрос отправлен. Ожидание ответа… 200 OK\n",
      "Длина: 119748 (117K) [text/plain]\n",
      "Сохранение в: ‘sonnets.txt’\n",
      "\n",
      "sonnets.txt         100%[===================>] 116,94K  --.-KB/s    за 0,08s   \n",
      "\n",
      "2025-05-28 10:00:05 (1,41 MB/s) - ‘sonnets.txt’ сохранён [119748/119748]\n",
      "\n",
      "--2025-05-28 10:00:05--  https://raw.githubusercontent.com/v-goncharenko/madmo-adv/55d929befa12370fc18109f5333f7cf000ea27ce/homeworks/onegin.txt\n",
      "Распознаётся raw.githubusercontent.com (raw.githubusercontent.com)… 185.199.110.133, 185.199.108.133, 185.199.109.133, ...\n",
      "Подключение к raw.githubusercontent.com (raw.githubusercontent.com)|185.199.110.133|:443... соединение установлено.\n",
      "HTTP-запрос отправлен. Ожидание ответа… 200 OK\n",
      "Длина: 262521 (256K) [text/plain]\n",
      "Сохранение в: ‘onegin.txt’\n",
      "\n",
      "onegin.txt          100%[===================>] 256,37K  --.-KB/s    за 0,1s    \n",
      "\n",
      "2025-05-28 10:00:05 (2,09 MB/s) - ‘onegin.txt’ сохранён [262521/262521]\n",
      "\n"
     ]
    }
   ],
   "source": [
    "!wget -nc https://raw.githubusercontent.com/v-goncharenko/madmo-adv/55d929befa12370fc18109f5333f7cf000ea27ce/homeworks/sonnets.txt\n",
    "!wget -nc https://raw.githubusercontent.com/v-goncharenko/madmo-adv/55d929befa12370fc18109f5333f7cf000ea27ce/homeworks/onegin.txt"
   ]
  },
  {
   "cell_type": "code",
   "execution_count": 2,
   "metadata": {
    "ExecuteTime": {
     "end_time": "2021-11-11T13:32:32.906264Z",
     "start_time": "2021-11-11T13:32:32.901604Z"
    },
    "id": "4g-YKJXF4h8x"
   },
   "outputs": [],
   "source": [
    "with open(\"sonnets.txt\", \"r\") as iofile:\n",
    "    text = iofile.readlines()\n",
    "\n",
    "TEXT_START = 45\n",
    "TEXT_END = -368\n",
    "text = text[TEXT_START:TEXT_END]\n",
    "assert len(text) == 2616"
   ]
  },
  {
   "cell_type": "markdown",
   "metadata": {
    "id": "TKHiMkoW4h8x"
   },
   "source": [
    "In opposite to the in-class practice, this time we want to predict complex text. Let's reduce the complexity of the task and lowercase all the symbols.\n",
    "\n",
    "Now variable `text` is a list of strings. Join all the strings into one and lowercase it."
   ]
  },
  {
   "cell_type": "code",
   "execution_count": 3,
   "metadata": {
    "ExecuteTime": {
     "end_time": "2021-11-11T16:16:31.398119Z",
     "start_time": "2021-11-11T16:16:31.380172Z"
    },
    "id": "9vabKH7k4h8y"
   },
   "outputs": [],
   "source": [
    "import string"
   ]
  },
  {
   "cell_type": "code",
   "execution_count": 4,
   "metadata": {
    "ExecuteTime": {
     "end_time": "2021-11-11T13:32:52.502223Z",
     "start_time": "2021-11-11T13:32:52.421527Z"
    },
    "id": "avyKB7I_4h8y"
   },
   "outputs": [
    {
     "name": "stdout",
     "output_type": "stream",
     "text": [
      "OK!\n"
     ]
    }
   ],
   "source": [
    "# Join all the strings into one and lowercase it\n",
    "# Put result into variable text.\n",
    "\n",
    "# Your great code here\n",
    "\n",
    "text = ''.join(text).lower()\n",
    "\n",
    "assert len(text) == 100225, \"Are you sure you have concatenated all the strings?\"\n",
    "assert not any([x in set(text) for x in string.ascii_uppercase]), \"Uppercase letters are present\"\n",
    "print(\"OK!\")"
   ]
  },
  {
   "cell_type": "markdown",
   "metadata": {
    "id": "qheL7uXd4h8y"
   },
   "source": [
    "Put all the characters, that you've seen in the text, into variable `tokens`."
   ]
  },
  {
   "cell_type": "code",
   "execution_count": 5,
   "metadata": {
    "id": "jCKczcCI4h8z"
   },
   "outputs": [],
   "source": [
    "tokens = sorted(set(text))"
   ]
  },
  {
   "cell_type": "markdown",
   "metadata": {
    "id": "drIfklai4h8z"
   },
   "source": [
    "Create dictionary `token_to_idx = {<char>: <index>}` and dictionary `idx_to_token = {<index>: <char>}`"
   ]
  },
  {
   "cell_type": "code",
   "execution_count": 6,
   "metadata": {
    "id": "yfNo50M14h8z"
   },
   "outputs": [],
   "source": [
    "# dict <index>:<char>\n",
    "# Your great code here\n",
    "token_to_idx = {char: idx for idx, char in enumerate(tokens)}\n",
    "# dict <char>:<index>\n",
    "# Your great code here\n",
    "idx_to_token = {idx: char for char, idx in token_to_idx.items()}"
   ]
  },
  {
   "cell_type": "code",
   "execution_count": 7,
   "metadata": {},
   "outputs": [
    {
     "name": "stdout",
     "output_type": "stream",
     "text": [
      "Всего токенов: 38\n",
      "Пример token_to_idx: [('\\n', 0), (' ', 1), ('!', 2), (\"'\", 3), ('(', 4)]\n"
     ]
    }
   ],
   "source": [
    "print(f\"Всего токенов: {len(tokens)}\")\n",
    "print(f\"Пример token_to_idx: {list(token_to_idx.items())[:5]}\")"
   ]
  },
  {
   "cell_type": "markdown",
   "metadata": {
    "id": "Fk_pAi7g4h8z"
   },
   "source": [
    "*Comment: in this task we have only 38 different tokens, so let's use one-hot encoding.*"
   ]
  },
  {
   "cell_type": "code",
   "execution_count": null,
   "metadata": {},
   "outputs": [
    {
     "name": "stdout",
     "output_type": "stream",
     "text": [
      "Количество обучающих примеров: 33395\n"
     ]
    }
   ],
   "source": [
    "\"\"\"\n",
    "Для начала подготовим пары входов и целевых значений (X, Y). Затем преобразуем символы в индексы.\n",
    "\"\"\"\n",
    "import torch\n",
    "\n",
    "seq_length = 40\n",
    "step = 3  # шаг скольжения окна\n",
    "X = []\n",
    "Y = []\n",
    "\n",
    "for i in range(0, len(text) - seq_length, step):\n",
    "    X.append(text[i: i + seq_length])\n",
    "    Y.append(text[i + seq_length])\n",
    "\n",
    "print(f\"Количество обучающих примеров: {len(X)}\")"
   ]
  },
  {
   "cell_type": "code",
   "execution_count": 9,
   "metadata": {},
   "outputs": [],
   "source": [
    "\"\"\"\n",
    "преобразуем символы в индексы.\n",
    "\"\"\"\n",
    "# Преобразуем X и Y в числовые индексы\n",
    "X_idx = [[token_to_idx[char] for char in seq] for seq in X]\n",
    "Y_idx = [token_to_idx[char] for char in Y]"
   ]
  },
  {
   "cell_type": "code",
   "execution_count": 16,
   "metadata": {},
   "outputs": [],
   "source": [
    "\"\"\"Теперь преобразуем данные в тензоры и создадим свой класс Dataset для PyTorch.\"\"\"\n",
    "from torch.utils.data import Dataset, DataLoader\n",
    "\n",
    "class CharDataset(Dataset):\n",
    "    def __init__(self, X, Y):\n",
    "        self.X = torch.tensor(X, dtype=torch.long)\n",
    "        self.Y = torch.tensor(Y, dtype=torch.long)\n",
    "\n",
    "    def __len__(self):\n",
    "        return len(self.X)\n",
    "\n",
    "    def __getitem__(self, idx):\n",
    "        return self.X[idx], self.Y[idx]\n",
    "\n",
    "# Создаем dataset и dataloader\n",
    "dataset = CharDataset(X_idx, Y_idx)\n",
    "dataloader = DataLoader(dataset, batch_size=128, shuffle=True)"
   ]
  },
  {
   "cell_type": "code",
   "execution_count": 19,
   "metadata": {},
   "outputs": [
    {
     "name": "stdout",
     "output_type": "stream",
     "text": [
      "torch.Size([128, 40])\n",
      "torch.Size([128])\n"
     ]
    }
   ],
   "source": [
    "\"\"\"Посмотрим что за пример возвращает dataloader\"\"\"\n",
    "X_batch, Y_batch = next(iter(dataloader))\n",
    "print(X_batch.shape)\n",
    "print(Y_batch.shape)"
   ]
  },
  {
   "cell_type": "markdown",
   "metadata": {
    "id": "oCgdG8-M4h8z"
   },
   "source": [
    "### Building the model"
   ]
  },
  {
   "cell_type": "markdown",
   "metadata": {
    "id": "XXp_A0o14h8z"
   },
   "source": [
    "Now we want to build and train recurrent neural net which would be able to something similar to Shakespeare's poetry.\n",
    "\n",
    "Let's use vanilla RNN, similar to the one created during the lesson."
   ]
  },
  {
   "cell_type": "code",
   "execution_count": 21,
   "metadata": {
    "id": "RX-xMdVV4h8z"
   },
   "outputs": [],
   "source": [
    "# Your code here\n",
    "import torch.nn as nn\n",
    "\n",
    "class CharRNN(nn.Module):\n",
    "    def __init__(self, vocab_size, hidden_size, num_layers=1):\n",
    "        super(CharRNN, self).__init__()\n",
    "        self.hidden_size = hidden_size\n",
    "        self.num_layers = num_layers\n",
    "        \n",
    "        self.embedding = nn.Embedding(vocab_size, vocab_size)  # one-hot как embedding\n",
    "        self.rnn = nn.RNN(input_size=vocab_size, hidden_size=hidden_size, num_layers=num_layers, batch_first=True)\n",
    "        self.fc = nn.Linear(hidden_size, vocab_size)\n",
    "\n",
    "    def forward(self, x, hidden=None):\n",
    "        x = self.embedding(x)  # x -> (batch_size, seq_len, vocab_size)\n",
    "        out, hidden = self.rnn(x, hidden)\n",
    "        out = self.fc(out[:, -1, :])  # берём выход последнего временного шага\n",
    "        return out, hidden"
   ]
  },
  {
   "cell_type": "code",
   "execution_count": 22,
   "metadata": {},
   "outputs": [],
   "source": [
    "vocab_size = len(tokens)\n",
    "hidden_size = 128\n",
    "model = CharRNN(vocab_size, hidden_size)"
   ]
  },
  {
   "cell_type": "code",
   "execution_count": 23,
   "metadata": {},
   "outputs": [
    {
     "name": "stderr",
     "output_type": "stream",
     "text": [
      "/tmp/ipykernel_6506/728791500.py:17: UserWarning: Converting a tensor with requires_grad=True to a scalar may lead to unexpected behavior.\n",
      "Consider using tensor.detach() first. (Triggered internally at /pytorch/aten/src/ATen/native/Scalar.cpp:22.)\n",
      "  epoch_loss += loss.item()\n"
     ]
    },
    {
     "name": "stdout",
     "output_type": "stream",
     "text": [
      "Epoch 1, Loss: 2.2314\n",
      "Epoch 2, Loss: 1.9040\n",
      "Epoch 3, Loss: 1.7848\n",
      "Epoch 4, Loss: 1.7111\n",
      "Epoch 5, Loss: 1.6594\n",
      "Epoch 6, Loss: 1.6155\n",
      "Epoch 7, Loss: 1.5793\n",
      "Epoch 8, Loss: 1.5460\n",
      "Epoch 9, Loss: 1.5207\n",
      "Epoch 10, Loss: 1.4967\n"
     ]
    }
   ],
   "source": [
    "import torch.optim as optim\n",
    "\n",
    "criterion = nn.CrossEntropyLoss()\n",
    "optimizer = optim.Adam(model.parameters(), lr=0.003)\n",
    "\n",
    "n_epochs = 10\n",
    "loss_history = []\n",
    "\n",
    "for epoch in range(n_epochs):\n",
    "    epoch_loss = 0\n",
    "    for X_batch, Y_batch in dataloader:\n",
    "        optimizer.zero_grad()\n",
    "        output, _ = model(X_batch)\n",
    "        loss = criterion(output, Y_batch)\n",
    "        loss.backward()\n",
    "        optimizer.step()\n",
    "        epoch_loss += loss.item()\n",
    "    \n",
    "    avg_loss = epoch_loss / len(dataloader)\n",
    "    loss_history.append(avg_loss)\n",
    "    print(f\"Epoch {epoch + 1}, Loss: {avg_loss:.4f}\")"
   ]
  },
  {
   "cell_type": "markdown",
   "metadata": {
    "id": "7-QC4HwU4h8z"
   },
   "source": [
    "Plot the loss function (axis X: number of epochs, axis Y: loss function)."
   ]
  },
  {
   "cell_type": "code",
   "execution_count": 24,
   "metadata": {
    "id": "b03qInWr4h8z"
   },
   "outputs": [
    {
     "data": {
      "image/png": "[encoded data removed]",
      "text/plain": [
       "<Figure size 640x480 with 1 Axes>"
      ]
     },
     "metadata": {},
     "output_type": "display_data"
    }
   ],
   "source": [
    "# Your plot code here\n",
    "import matplotlib.pyplot as plt\n",
    "\n",
    "plt.plot(loss_history)\n",
    "plt.xlabel('Epoch')\n",
    "plt.ylabel('Loss')\n",
    "plt.title('Training Loss over Epochs')\n",
    "plt.grid(True)\n",
    "plt.show()"
   ]
  },
  {
   "cell_type": "code",
   "execution_count": 26,
   "metadata": {
    "id": "ZytiXKuO4h8z",
    "outputId": "9cf855b1-8d04-473b-c557-3198efe7343f"
   },
   "outputs": [],
   "source": [
    "# An example of generated text. There is no function `generate_text` in the code above.\n",
    "# print(generate_text(length=500, temperature=0.2))\n",
    "import numpy as np\n",
    "\n",
    "def generate_text(model, start_text, length=200, temperature=1.0):\n",
    "    model.eval()\n",
    "    input_seq = [token_to_idx[c] for c in start_text.lower()]\n",
    "    input_tensor = torch.tensor(input_seq, dtype=torch.long).unsqueeze(0)  # (1, seq_len)\n",
    "    \n",
    "    hidden = None\n",
    "    generated = start_text\n",
    "\n",
    "    for _ in range(length):\n",
    "        output, hidden = model(input_tensor, hidden)\n",
    "        output = output / temperature\n",
    "        probs = torch.softmax(output, dim=-1).data.numpy().ravel()\n",
    "        next_idx = np.random.choice(len(tokens), p=probs)\n",
    "        next_char = idx_to_token[next_idx]\n",
    "        \n",
    "        generated += next_char\n",
    "        input_tensor = torch.tensor([[next_idx]], dtype=torch.long)\n",
    "\n",
    "    return generated"
   ]
  },
  {
   "cell_type": "code",
   "execution_count": 30,
   "metadata": {},
   "outputs": [
    {
     "name": "stdout",
     "output_type": "stream",
     "text": [
      "shall i compare thee i from the forgen in the sull for the faires from my love the prainst the sumpous the filld the world the sull fill the sumpoute,\n",
      "  that the sull self the mine eyes the faires for thine eyes thy love the forgen in the shall the summer's from my love the faires from my love the forger him from my love the world the faires from my love that in the faires of thy filling the faires from my love the faires from the sweet thine eyes the faires for the face of thy for the faires from my love the sumpo\n"
     ]
    }
   ],
   "source": [
    "print(generate_text(model, start_text=\"shall i compare thee\", length=500, temperature=0.2))"
   ]
  },
  {
   "cell_type": "markdown",
   "metadata": {},
   "source": [
    "Стиль: Очень повторяющийся и предсказуемый.\n",
    "Слова: Почти всегда корректные и встречаются в оригинальных сонетах.\n",
    "Смысл: Низкий — текст грамматически стабильный, но смысл теряется из-за частых повторов."
   ]
  },
  {
   "cell_type": "code",
   "execution_count": null,
   "metadata": {},
   "outputs": [
    {
     "name": "stdout",
     "output_type": "stream",
     "text": [
      "\n",
      "--- Temperature: 0.5 ---\n",
      "shall i compare thee i not do it hell my him gring that lame my love the sumber'st the sunls the least in the filld shame,\n",
      "    for shall,\n",
      "  the humble, for thee.\n",
      "  thy storn,\n",
      "  to treast,\n",
      "  and my much thee, that thy fairer the fell the thou all the heart my him excisting my love thee the forget fill for the sumpes fro\n",
      "\n",
      "--- Temperature: 1.0 ---\n",
      "shall i compare thee preauty on thance hid in in trise, thah gabpen.\n",
      "\n",
      "  cqutyers my love thy out their ensicless age is merift mike as your living than'd thy dowers with hance.\n",
      "  but gress,\n",
      "  i could the hes imantalfe,\n",
      "    from time dosh the mack, likes forbodce that is him forth me hhe is thinis for thy clains of me,\n",
      "\n",
      "\n",
      "--- Temperature: 1.5 ---\n",
      "shall i compare thee; no newul'd changl\n",
      "  thee moung, thy flove\n",
      "u eves werows in jelovidink worts, sixcy such, if a lorl'ft is wacaustlooted, yet well is seet thy one,\n",
      "  thus muik of as these, ire tyro in vese livath, ared,\n",
      "  not  artid mine---yif\n",
      "\n",
      "  parues imire eye had'd certss fix\n",
      "f from fivs 'tite-  fredors in the \n",
      "\n",
      "--- Temperature: 2.0 ---\n",
      "shall i compare theew.\n",
      "  frastrous liter;! k'doksmean sllys foms mmmuteceest\n",
      "  fav'yrso nhelainssiet sam)racoud''t fesir'ous fly mutlansic but bywosb\n",
      "  lughk'd ho-d-ar yive\n",
      "  gime.\n",
      "\n",
      "  xence wrrmanuung est leve the?\n",
      "  by? g'onteqyswouys los,\n",
      "  my yourn\n",
      "  -hand hed f culled is'cy gropm'.\n",
      "\n",
      "  lpevot\n",
      "  ift kidlece ritlest e\n"
     ]
    }
   ],
   "source": [
    "\"\"\"А если сравнить температуры?\"\"\"\n",
    "temps = [0.5, 1.0, 1.5, 2.0]\n",
    "for t in temps:\n",
    "    print(f\"\\n--- Temperature: {t} ---\")\n",
    "    print(generate_text(model, start_text=\"shall i compare thee\", length=300, temperature=t))"
   ]
  },
  {
   "cell_type": "markdown",
   "metadata": {},
   "source": [
    "Вывод:\n",
    "Значения 0.5–1.0 дают оптимальный баланс между структурой и креативностью.\n",
    "1.5+ — отлично для генеративного искусства, не для \"читаемого\" текста."
   ]
  },
  {
   "cell_type": "markdown",
   "metadata": {
    "id": "0NFfgEGP4h80"
   },
   "source": [
    "### More poetic model\n",
    "\n",
    "Let's use LSTM instead of vanilla RNN and compare the results."
   ]
  },
  {
   "cell_type": "code",
   "execution_count": 32,
   "metadata": {},
   "outputs": [],
   "source": [
    "class CharLSTM(nn.Module):\n",
    "    def __init__(self, vocab_size, hidden_size, num_layers=1):\n",
    "        super(CharLSTM, self).__init__()\n",
    "        self.hidden_size = hidden_size\n",
    "        self.num_layers = num_layers\n",
    "\n",
    "        self.embedding = nn.Embedding(vocab_size, vocab_size)\n",
    "        self.lstm = nn.LSTM(input_size=vocab_size, hidden_size=hidden_size, num_layers=num_layers, batch_first=True)\n",
    "        self.fc = nn.Linear(hidden_size, vocab_size)\n",
    "\n",
    "    def forward(self, x, hidden=None):\n",
    "        x = self.embedding(x)\n",
    "        out, hidden = self.lstm(x, hidden)\n",
    "        out = self.fc(out[:, -1, :])\n",
    "        return out, hidden"
   ]
  },
  {
   "cell_type": "code",
   "execution_count": 33,
   "metadata": {},
   "outputs": [],
   "source": [
    "model = CharLSTM(vocab_size=len(tokens), hidden_size=128)"
   ]
  },
  {
   "cell_type": "code",
   "execution_count": 34,
   "metadata": {},
   "outputs": [
    {
     "name": "stdout",
     "output_type": "stream",
     "text": [
      "Epoch 1, Loss: 2.2842\n",
      "Epoch 2, Loss: 1.8752\n",
      "Epoch 3, Loss: 1.7343\n",
      "Epoch 4, Loss: 1.6365\n",
      "Epoch 5, Loss: 1.5595\n",
      "Epoch 6, Loss: 1.4968\n",
      "Epoch 7, Loss: 1.4400\n",
      "Epoch 8, Loss: 1.3912\n",
      "Epoch 9, Loss: 1.3471\n",
      "Epoch 10, Loss: 1.3017\n"
     ]
    }
   ],
   "source": [
    "criterion = nn.CrossEntropyLoss()\n",
    "optimizer = optim.Adam(model.parameters(), lr=0.003)\n",
    "\n",
    "n_epochs = 10\n",
    "loss_history = []\n",
    "\n",
    "for epoch in range(n_epochs):\n",
    "    epoch_loss = 0\n",
    "    for X_batch, Y_batch in dataloader:\n",
    "        optimizer.zero_grad()\n",
    "        output, _ = model(X_batch)\n",
    "        loss = criterion(output, Y_batch)\n",
    "        loss.backward()\n",
    "        optimizer.step()\n",
    "        epoch_loss += loss.item()\n",
    "    \n",
    "    avg_loss = epoch_loss / len(dataloader)\n",
    "    loss_history.append(avg_loss)\n",
    "    print(f\"Epoch {epoch + 1}, Loss: {avg_loss:.4f}\")"
   ]
  },
  {
   "cell_type": "markdown",
   "metadata": {},
   "source": [
    "LSTM достиг более низкой ошибки (~1.30 против ~1.49 у RNN)."
   ]
  },
  {
   "cell_type": "markdown",
   "metadata": {
    "id": "DBtPX83t4h80"
   },
   "source": [
    "Plot the loss function of the number of epochs. Does the final loss become better?"
   ]
  },
  {
   "cell_type": "code",
   "execution_count": 35,
   "metadata": {
    "id": "IoEzwmz34h80"
   },
   "outputs": [
    {
     "data": {
      "image/png": "[encoded data removed]",
      "text/plain": [
       "<Figure size 640x480 with 1 Axes>"
      ]
     },
     "metadata": {},
     "output_type": "display_data"
    }
   ],
   "source": [
    "# Your beautiful code here\n",
    "# Your plot code here\n",
    "import matplotlib.pyplot as plt\n",
    "\n",
    "plt.plot(loss_history)\n",
    "plt.xlabel('Epoch')\n",
    "plt.ylabel('Loss')\n",
    "plt.title('Training Loss over Epochs')\n",
    "plt.grid(True)\n",
    "plt.show()"
   ]
  },
  {
   "cell_type": "code",
   "execution_count": 36,
   "metadata": {},
   "outputs": [
    {
     "name": "stdout",
     "output_type": "stream",
     "text": [
      "shall i compare thee.\n",
      "\n",
      "  cxxxi\n",
      "\n",
      "  that i have my with when i good and thee, wherefore may the world a conqure the with that did plack is sweet seem she please hath strangly singled deep\n",
      "  to shalt still such that i from thee to chold is sourts think thee,\n",
      "  and that this addith love thee worth livery and this self that thee, my heart that which to were are me, i mayst with thee,\n",
      "  to have with in the pitious is the sweet seem fair,\n",
      "  the summer's so grave wilf thee in thy sweet shall grews sweet gind\n",
      "  to my moth h\n"
     ]
    }
   ],
   "source": [
    "print(generate_text(model, start_text=\"shall i compare thee\", length=500, temperature=0.5))"
   ]
  },
  {
   "cell_type": "markdown",
   "metadata": {
    "id": "kPKtBEQ-4h80"
   },
   "source": [
    "Generate text using the trained net with different `temperature` parameter: `(0.1, 0.2, 0.5, 1.0, 2.0)`.\n",
    "\n",
    "Evaluate the results visually, try to interpret them."
   ]
  },
  {
   "cell_type": "code",
   "execution_count": 37,
   "metadata": {
    "id": "6i4pKJtr4h80"
   },
   "outputs": [
    {
     "name": "stdout",
     "output_type": "stream",
     "text": [
      "\n",
      "--- Temperature: 0.1 ---\n",
      "shall i compare thee,\n",
      "  the wilt i all the summer's such such the wine with thee thee, and such still doth dies his days shall beart,\n",
      "    that i such the world thee, which the sund thee, which the see the world and thee, and thee, and thee, and thee, and thee, and thee, and thee, which the will of thee, which the see t\n",
      "\n",
      "--- Temperature: 0.2 ---\n",
      "shall i compare thee,\n",
      "  and thee have the will of thy sweet self thee, and such the summer's say thee,\n",
      "  and the will my such thy love and thee, and thee their with thee thee, which the wilt in thee:\n",
      "    then some in thee the world the will of thy should thee, which the seem of my summer's spirit\n",
      "  to me with my love a\n",
      "\n",
      "--- Temperature: 0.5 ---\n",
      "shall i compare thee.\n",
      "\n",
      "  civ\n",
      "\n",
      "  the world thee loves my his false i forgen i sourth with my sunce more my says me are rning,\n",
      "  and that where the pleasure with thee with self thee, as the see show hand, so back as all to show the sweet seem\n",
      "  thou mayst in the worth thou art the pleasure of thy strangel thee to me and \n",
      "\n",
      "--- Temperature: 1.0 ---\n",
      "shall i compare thee.\n",
      "\n",
      "  cxxix\n",
      "\n",
      "  since omert.\n",
      "\n",
      "  letive as bly hid gond\n",
      "  that were randber my breath, formed i love my pulceckest belong,\n",
      "  to dusk all game thy summer, or frewienlest withis but she repue seem-faintest the time'd;\n",
      "  chide neir hands which me long, which them living my labst my love have of your days \n",
      "\n",
      "--- Temperature: 2.0 ---\n",
      "shall i compare thee;\n",
      " \n",
      "  a !uert?; turusinoullffwe-v\n",
      "  to my voags: to jees'd vam\n",
      "  gyyf uppresotwance dorthuns'd, i r\n",
      " thious your wrom see\n",
      ": wectal! wiiqm ii ammom'm ipidet did;\n",
      "  me thee.\n",
      "\n",
      "  byouss swmankold now capllown ams ti! weathers; this wift, gix amfen, fitlost, efth-lowel nenbadrmocn,\n",
      "  terngs, my treets, t\n"
     ]
    }
   ],
   "source": [
    "# Text generation with different temperature values here\n",
    "\"\"\"А если сравнить температуры?\"\"\"\n",
    "temps = [0.1, 0.2, 0.5, 1.0, 2.0]\n",
    "for t in temps:\n",
    "    print(f\"\\n--- Temperature: {t} ---\")\n",
    "    print(generate_text(model, start_text=\"shall i compare thee\", length=300, temperature=t))"
   ]
  },
  {
   "cell_type": "markdown",
   "metadata": {},
   "source": [
    "Вывод:\n",
    "0.5–1.0 — лучшие значения для генерации поэзии.\n",
    "LSTM действительно показывает более плавный, устойчивый и содержательный текст, чем RNN на тех же данных."
   ]
  },
  {
   "cell_type": "markdown",
   "metadata": {
    "id": "9ntUHdfF4h80"
   },
   "source": [
    "### Saving and loading models"
   ]
  },
  {
   "cell_type": "markdown",
   "metadata": {
    "id": "37SZIh1d4h80"
   },
   "source": [
    "Save the model to the disk, then load it and generate text.\n",
    "Follow guides from [this tutorial](https://pytorch.org/tutorials/beginner/saving_loading_models.html).\n",
    "\n",
    "You need to use `Save/Load state_dict (Recommended)` section aka save state dict."
   ]
  },
  {
   "cell_type": "code",
   "execution_count": 38,
   "metadata": {
    "id": "EWYtvYTJ4h80"
   },
   "outputs": [
    {
     "name": "stdout",
     "output_type": "stream",
     "text": [
      "Модель сохранена как 'char_lstm_model.pth'\n"
     ]
    }
   ],
   "source": [
    "# Saving and loading code here\n",
    "# Сохраняем state_dict\n",
    "torch.save(model.state_dict(), \"char_lstm_model.pth\")\n",
    "print(\"Модель сохранена как 'char_lstm_model.pth'\")"
   ]
  },
  {
   "cell_type": "code",
   "execution_count": 39,
   "metadata": {},
   "outputs": [
    {
     "name": "stdout",
     "output_type": "stream",
     "text": [
      "shall i compare thee,\n",
      "  to being orn the place it to strong i their thy love and love, to me can in thy some to this abuse adder my conterth and reservent;\n",
      "  the tongue-tien thou my heart spirite make a dayst the see hath with you shore, to being hath strange were eyem\n",
      "  my say think mark thee, where thee:\n",
      "    the will\n"
     ]
    }
   ],
   "source": [
    "# Воссоздание модели с той же архитектурой\n",
    "model_loaded = CharLSTM(vocab_size=len(tokens), hidden_size=128)\n",
    "\n",
    "# Загрузка state_dict\n",
    "model_loaded.load_state_dict(torch.load(\"char_lstm_model.pth\"))\n",
    "\n",
    "# Перевод в режим оценки\n",
    "model_loaded.eval()\n",
    "\n",
    "# Проверка генерации\n",
    "print(generate_text(model_loaded, start_text=\"shall i compare thee\", length=300, temperature=0.5))"
   ]
  },
  {
   "cell_type": "markdown",
   "metadata": {
    "id": "U09vQoIl4h80"
   },
   "source": [
    "## Additional materials on topic\n",
    "\n",
    "1. [Andrew Karpathy blog post about RNN.](http://karpathy.github.io/2015/05/21/rnn-effectiveness/)\\\n",
    "There are several examples of genration: Shakespeare texts, Latex formulas, Linux Sourse Code and children names.\n",
    "2. <a href='https://github.com/karpathy/char-rnn'> Repo with char-rnn code </a>\n",
    "3. Cool repo with [PyTorch examples](https://github.com/spro/practical-pytorch`)"
   ]
  },
  {
   "cell_type": "markdown",
   "metadata": {},
   "source": [
    "### Эта часть ислледования не относится к домашнему заданию, а всего лишь для личного любопытсва."
   ]
  },
  {
   "cell_type": "code",
   "execution_count": 40,
   "metadata": {},
   "outputs": [],
   "source": [
    "\"\"\"\n",
    "Улучшенная модель LSTM\n",
    "Изменения:\n",
    "hidden_size = 256\n",
    "num_layers = 2\n",
    "добавлен embedding_dim = 64\n",
    "\"\"\"\n",
    "class CharLSTMImproved(nn.Module):\n",
    "    def __init__(self, vocab_size, embedding_dim=64, hidden_size=256, num_layers=2):\n",
    "        super(CharLSTMImproved, self).__init__()\n",
    "        self.embedding = nn.Embedding(vocab_size, embedding_dim)\n",
    "        self.lstm = nn.LSTM(input_size=embedding_dim,\n",
    "                            hidden_size=hidden_size,\n",
    "                            num_layers=num_layers,\n",
    "                            batch_first=True)\n",
    "        self.fc = nn.Linear(hidden_size, vocab_size)\n",
    "\n",
    "    def forward(self, x, hidden=None):\n",
    "        x = self.embedding(x)\n",
    "        out, hidden = self.lstm(x, hidden)\n",
    "        out = self.fc(out[:, -1, :])  # выход последнего временного шага\n",
    "        return out, hidden"
   ]
  },
  {
   "cell_type": "code",
   "execution_count": 41,
   "metadata": {},
   "outputs": [],
   "source": [
    "model = CharLSTMImproved(vocab_size=len(tokens))"
   ]
  },
  {
   "cell_type": "code",
   "execution_count": 42,
   "metadata": {},
   "outputs": [
    {
     "name": "stdout",
     "output_type": "stream",
     "text": [
      "Epoch 1, Loss: 2.2023\n",
      "Epoch 2, Loss: 1.7451\n",
      "Epoch 3, Loss: 1.5765\n",
      "Epoch 4, Loss: 1.4545\n",
      "Epoch 5, Loss: 1.3613\n",
      "Epoch 6, Loss: 1.2716\n",
      "Epoch 7, Loss: 1.1822\n",
      "Epoch 8, Loss: 1.0996\n",
      "Epoch 9, Loss: 1.0102\n",
      "Epoch 10, Loss: 0.9235\n",
      "Epoch 11, Loss: 0.8427\n",
      "Epoch 12, Loss: 0.7583\n",
      "Epoch 13, Loss: 0.6835\n",
      "Epoch 14, Loss: 0.6258\n",
      "Epoch 15, Loss: 0.5598\n",
      "Epoch 16, Loss: 0.5053\n",
      "Epoch 17, Loss: 0.4541\n",
      "Epoch 18, Loss: 0.4401\n",
      "Epoch 19, Loss: 0.4139\n",
      "Epoch 20, Loss: 0.3939\n",
      "Epoch 21, Loss: 0.3801\n",
      "Epoch 22, Loss: 0.3570\n",
      "Epoch 23, Loss: 0.3322\n",
      "Epoch 24, Loss: 0.3558\n",
      "Epoch 25, Loss: 0.3567\n",
      "Epoch 26, Loss: 0.3458\n",
      "Epoch 27, Loss: 0.3113\n",
      "Epoch 28, Loss: 0.2867\n",
      "Epoch 29, Loss: 0.2875\n",
      "Epoch 30, Loss: 0.3099\n",
      "Epoch 31, Loss: 0.3398\n",
      "Epoch 32, Loss: 0.3250\n",
      "Epoch 33, Loss: 0.3043\n",
      "Epoch 34, Loss: 0.3013\n",
      "Epoch 35, Loss: 0.3143\n",
      "Epoch 36, Loss: 0.3126\n",
      "Epoch 37, Loss: 0.3163\n",
      "Epoch 38, Loss: 0.3112\n",
      "Epoch 39, Loss: 0.2927\n",
      "Epoch 40, Loss: 0.2776\n",
      "Epoch 41, Loss: 0.2875\n",
      "Epoch 42, Loss: 0.3251\n",
      "Epoch 43, Loss: 0.3198\n",
      "Epoch 44, Loss: 0.3353\n",
      "Epoch 45, Loss: 0.3394\n",
      "Epoch 46, Loss: 0.3467\n",
      "Epoch 47, Loss: 0.3588\n",
      "Epoch 48, Loss: 0.3476\n",
      "Epoch 49, Loss: 0.3440\n",
      "Epoch 50, Loss: 0.3350\n"
     ]
    }
   ],
   "source": [
    "criterion = nn.CrossEntropyLoss()\n",
    "optimizer = optim.Adam(model.parameters(), lr=0.003)\n",
    "\n",
    "n_epochs = 50\n",
    "loss_history = []\n",
    "\n",
    "for epoch in range(n_epochs):\n",
    "    epoch_loss = 0\n",
    "    for X_batch, Y_batch in dataloader:\n",
    "        optimizer.zero_grad()\n",
    "        output, _ = model(X_batch)\n",
    "        loss = criterion(output, Y_batch)\n",
    "        loss.backward()\n",
    "        optimizer.step()\n",
    "        epoch_loss += loss.item()\n",
    "    \n",
    "    avg_loss = epoch_loss / len(dataloader)\n",
    "    loss_history.append(avg_loss)\n",
    "    print(f\"Epoch {epoch + 1}, Loss: {avg_loss:.4f}\")"
   ]
  },
  {
   "cell_type": "code",
   "execution_count": 43,
   "metadata": {},
   "outputs": [
    {
     "data": {
      "image/png": "[encoded data removed]",
      "text/plain": [
       "<Figure size 640x480 with 1 Axes>"
      ]
     },
     "metadata": {},
     "output_type": "display_data"
    }
   ],
   "source": [
    "def plot_loss(loss_history):\n",
    "    plt.plot(loss_history)\n",
    "    plt.xlabel('Epoch')\n",
    "    plt.ylabel('Loss')\n",
    "    plt.title('Training Loss over Epochs')\n",
    "    plt.grid(True)\n",
    "    plt.show()\n",
    "\n",
    "plot_loss(loss_history)"
   ]
  },
  {
   "cell_type": "markdown",
   "metadata": {},
   "source": [
    "25 Эпох достаточно, чтобы выйти на плато. Можно было использовать stop early."
   ]
  },
  {
   "cell_type": "code",
   "execution_count": 44,
   "metadata": {},
   "outputs": [
    {
     "name": "stdout",
     "output_type": "stream",
     "text": [
      "shall i compare thee,\n",
      "    and nene them my sin, and trought, than thy laves soors thou to doth unwort of thy spearing hath can bood fait,\n",
      "  and pust beason what on a fresam'd lives the praises remembrancely give\n",
      "  the capait apposed our friend'st thoughts all exame.\n",
      "    for so should that i wan waster you hath my love's vies thou art me, atir'd, or hath my love and to thee:\n",
      "    morrety on have i love thoughts outlive a did thee a lay the deciemence majusted;\n",
      "  hath my eyes summer's come some virtuess of thy heart, \n"
     ]
    }
   ],
   "source": [
    "print(generate_text(model, start_text=\"shall i compare thee\", length=500, temperature=0.5))"
   ]
  },
  {
   "cell_type": "markdown",
   "metadata": {},
   "source": [
    "Получилось наиболее качественно чем предыдущих моделях."
   ]
  }
 ],
 "metadata": {
  "anaconda-cloud": {},
  "colab": {
   "provenance": []
  },
  "kernelspec": {
   "display_name": ".venv",
   "language": "python",
   "name": "python3"
  },
  "language_info": {
   "codemirror_mode": {
    "name": "ipython",
    "version": 3
   },
   "file_extension": ".py",
   "mimetype": "text/x-python",
   "name": "python",
   "nbconvert_exporter": "python",
   "pygments_lexer": "ipython3",
   "version": "3.12.3"
  },
  "toc": {
   "base_numbering": 1,
   "nav_menu": {},
   "number_sections": true,
   "sideBar": true,
   "skip_h1_title": false,
   "title_cell": "Table of Contents",
   "title_sidebar": "Contents",
   "toc_cell": false,
   "toc_position": {},
   "toc_section_display": true,
   "toc_window_display": true
  }
 },
 "nbformat": 4,
 "nbformat_minor": 0
}
