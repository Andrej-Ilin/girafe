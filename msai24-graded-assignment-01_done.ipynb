{
 "cells": [
  {
   "cell_type": "markdown",
   "metadata": {},
   "source": [
    "1. (2 points) Given a vector a and a set of vectors X = x1, ..., xm, we say that xi\n",
    "is the nearest neighbor\n",
    "of a if it’s the closest vector to a from the set X. In ML, the idea of the nearest neighbour and\n",
    "its generalisation, k-nearest neighbours, is used for solving classification and regression problems (see\n",
    "k-nearest neighbours algorithm).\n",
    "Find the nearest neighbour of a = [3, 1, 4] from the set of vectors x1, ..., x4 below.\n",
    "\n",
    "    'x1': np.array([4, 3, 6]),\n",
    "    'x2': np.array([3, 1, 9]),\n",
    "    'x3': np.array([1, 4, 10]),\n",
    "    'x4': np.array([3, 4, 0])\n",
    "\n",
    "If there is more than one nearest neighbour, mark all of them. Use\n",
    "(a) (1 point) Euclidean distance"
   ]
  },
  {
   "cell_type": "code",
   "execution_count": 2,
   "metadata": {},
   "outputs": [],
   "source": [
    "import numpy as np"
   ]
  },
  {
   "cell_type": "code",
   "execution_count": 3,
   "metadata": {},
   "outputs": [],
   "source": [
    "import numpy as np\n",
    "\n",
    "# Define the vectors\n",
    "a = np.array([3, 1, 4])\n",
    "X = {\n",
    "    'x1': np.array([4, 3, 6]),\n",
    "    'x2': np.array([3, 1, 9]),\n",
    "    'x3': np.array([1, 4, 10]),\n",
    "    'x4': np.array([3, 4, 0])\n",
    "}\n",
    "\n"
   ]
  },
  {
   "cell_type": "code",
   "execution_count": 4,
   "metadata": {},
   "outputs": [],
   "source": [
    "# (a) Find the nearest neighbor using Euclidean distance\n",
    "def euclidean_distance(a, x):\n",
    "    return np.linalg.norm(a - x)"
   ]
  },
  {
   "cell_type": "code",
   "execution_count": 5,
   "metadata": {},
   "outputs": [
    {
     "name": "stdout",
     "output_type": "stream",
     "text": [
      "calculated the distances{'x1': 3.0, 'x2': 5.0, 'x3': 7.0, 'x4': 5.0}\n",
      "answer:\n",
      "Euclidean Distance:\n",
      "Nearest Neighbor is x1 (Distance = 3.0)\n"
     ]
    }
   ],
   "source": [
    "\n",
    "# \n",
    "euclidean_distances = {key: euclidean_distance(a, vec) for key, vec in X.items()}\n",
    "print(f\"calculated the distances{euclidean_distances}\")\n",
    "print('answer:')\n",
    "nearest_neighbor_euclidean = min(euclidean_distances, key=euclidean_distances.get)\n",
    "nearest_distance_euclidean = euclidean_distances[nearest_neighbor_euclidean]\n",
    "\n",
    "print(\"Euclidean Distance:\")\n",
    "print(f\"Nearest Neighbor is {nearest_neighbor_euclidean} (Distance = {nearest_distance_euclidean})\")\n"
   ]
  },
  {
   "cell_type": "code",
   "execution_count": 6,
   "metadata": {},
   "outputs": [
    {
     "name": "stdout",
     "output_type": "stream",
     "text": [
      "\n",
      "Cosine Similarity:\n",
      "Nearest Neighbor: x1 (Similarity = 0.9792938238560597)\n"
     ]
    }
   ],
   "source": [
    "\n",
    "# (b) Find the nearest neighbor using Cosine similarity\n",
    "def cosine_similarity(a, x):\n",
    "    return np.dot(a, x) / (np.linalg.norm(a) * np.linalg.norm(x))\n",
    "\n",
    "cosine_similarities = {key: cosine_similarity(a, vec) for key, vec in X.items()}\n",
    "nearest_neighbor_cosine = max(cosine_similarities, key=cosine_similarities.get)\n",
    "nearest_similarity_cosine = cosine_similarities[nearest_neighbor_cosine]\n",
    "\n",
    "print(\"\\nCosine Similarity:\")\n",
    "print(f\"Nearest Neighbor: {nearest_neighbor_cosine} (Similarity = {nearest_similarity_cosine})\")"
   ]
  },
  {
   "cell_type": "markdown",
   "metadata": {},
   "source": [
    "(2 points) Consider a linear classifier with the following separating hyperplane:\n",
    "x1 + x2 − x3 + x4 − x5 = 2\n",
    "According to this classifier, which class labels will be assigned to the examples (a) - (e)?"
   ]
  },
  {
   "cell_type": "code",
   "execution_count": 32,
   "metadata": {},
   "outputs": [
    {
     "name": "stdout",
     "output_type": "stream",
     "text": [
      "Example a is classified as class 0.\n",
      "Example b is classified as class 0.\n",
      "Example c is classified as class 0.\n",
      "Example d is classified as class 0.\n",
      "Example e is classified as class 1.\n"
     ]
    }
   ],
   "source": [
    "examples = {\n",
    "    'a': np.array([1, 0, 1, 0, 0]),\n",
    "    'b': np.array([0, 1, 1, 0, 1]),\n",
    "    'c': np.array([1, 1, 1, 1, 1]),\n",
    "    'd': np.array([2, 0, 1, 0, 1]),\n",
    "    'e': np.array([2, 2, 0, 0, 0]),\n",
    "}\n",
    "\n",
    "# Define the separating hyperplane function\n",
    "def classify(example):\n",
    "    # Compute the value of the hyperplane equation\n",
    "    hyperplane_value = example[0] + example[1] - example[2] + example[3] - example[4]\n",
    "    \n",
    "    # Classify based on the hyperplane value\n",
    "    if hyperplane_value >= 2:\n",
    "        return 1  # Class 1\n",
    "    else:\n",
    "        return 0  # Class 0\n",
    "\n",
    "# Classify each example\n",
    "class_labels = {label: classify(example) for label, example in examples.items()}\n",
    "\n",
    "# Output the results\n",
    "for label, class_label in class_labels.items():\n",
    "    print(f'Example {label} is classified as class {class_label}.')"
   ]
  },
  {
   "cell_type": "markdown",
   "metadata": {},
   "source": [
    "(1 point) Consider vectors v1, v2, v3 and v4 defined below:\n",
    "\n",
    "What is the dimensionality of the subspace V = span{v1, v2, v3, v4} spanned by those vectors?"
   ]
  },
  {
   "cell_type": "code",
   "execution_count": 53,
   "metadata": {},
   "outputs": [
    {
     "name": "stdout",
     "output_type": "stream",
     "text": [
      "The dimensionality of the subspace V is: 3\n"
     ]
    }
   ],
   "source": [
    "# Define the vectors as columns of a matrix\n",
    "v1 = np.array([[0], [1], [1], [1]])\n",
    "v2 = np.array([[1], [2], [0], [3]])\n",
    "v3 = np.array([[2], [4], [1], [3]])\n",
    "v4 = np.array([[1], [2], [1], [0]])\n",
    "\n",
    "# Unit the vectors into a single matrix\n",
    "A = np.hstack((v1, v2, v3, v4))\n",
    "\n",
    "# Perform Singular Value Decomposition (SVD)\n",
    "U, S, Vt = np.linalg.svd(A)\n",
    "\n",
    "# The rank of the matrix corresponds to the number of non-zero singular values\n",
    "rank = np.sum(S > 1e-10)  # Use a small threshold to consider numerical precision\n",
    "\n",
    "print(f\"The dimensionality of the subspace V is: {rank}\")"
   ]
  },
  {
   "cell_type": "markdown",
   "metadata": {
    "vscode": {
     "languageId": "latex"
    }
   },
   "source": [
    "(3 points) Consider two sets of vectors, B and S:"
   ]
  },
  {
   "cell_type": "code",
   "execution_count": 49,
   "metadata": {},
   "outputs": [
    {
     "name": "stdout",
     "output_type": "stream",
     "text": [
      "Transition matrix A_B->S:\n",
      "[[ 22. -43.  65.]\n",
      " [ -5.  12. -15.]\n",
      " [ -3.   8.  -9.]]\n"
     ]
    }
   ],
   "source": [
    "# Define the vectors in basis B\n",
    "B = np.array([\n",
    "    [1, 2, 1],\n",
    "    [2, 3, 3],\n",
    "    [3, 8, 2]\n",
    "]).T  # Transpose to get vectors as columns\n",
    "\n",
    "# Define the vectors in basis S\n",
    "S = np.array([\n",
    "    [3, 5, 1],\n",
    "    [5, 14, 9],\n",
    "    [8, 13, 2]\n",
    "]).T  # Transpose to get vectors as columns\n",
    "\n",
    "# In order to find the transition matrix A_B->S, we need to solve the equation\n",
    "# B * x = S for x, where x will be the coefficients we are looking for.\n",
    "# We can find x by computing the inverse of B, provided B is invertible.\n",
    "\n",
    "# Compute the inverse of B\n",
    "B_inv = np.linalg.inv(B)\n",
    "\n",
    "# Compute the transition matrix from B to S\n",
    "A_B_to_S = B_inv @ S\n",
    "\n",
    "# Display the transition matrix\n",
    "print(\"Transition matrix A_B->S:\")\n",
    "print(A_B_to_S)"
   ]
  },
  {
   "cell_type": "code",
   "execution_count": 56,
   "metadata": {},
   "outputs": [
    {
     "data": {
      "text/plain": [
       "'/home/andrei/PycharmProjects/Girafe/math/homework'"
      ]
     },
     "execution_count": 56,
     "metadata": {},
     "output_type": "execute_result"
    }
   ],
   "source": [
    "pwd\n"
   ]
  },
  {
   "cell_type": "code",
   "execution_count": null,
   "metadata": {},
   "outputs": [],
   "source": []
  }
 ],
 "metadata": {
  "kernelspec": {
   "display_name": "Python 3",
   "language": "python",
   "name": "python3"
  },
  "language_info": {
   "codemirror_mode": {
    "name": "ipython",
    "version": 3
   },
   "file_extension": ".py",
   "mimetype": "text/x-python",
   "name": "python",
   "nbconvert_exporter": "python",
   "pygments_lexer": "ipython3",
   "version": "3.12.3"
  }
 },
 "nbformat": 4,
 "nbformat_minor": 2
}
